{
  "cells": [
    {
      "cell_type": "markdown",
      "metadata": {
        "id": "rd2QZetSDszc"
      },
      "source": [
        "# **Final Project Proposal**\n",
        "\n",
        "Our research question is: how has Medicaid expansion affected opioid misuse in the US? To this end, we plan to investigate the correlation between pain reliever misuse and states that have expanded Medicaid, and whether the rate of opioid misuse decreased after states expanded their Medicaid programs. We picked this topic because, as professionals in public health and biology, we are well aware of the toll that substance use disorders have taken, and the potential that Medicaid expansion under the Affordable Care Act (ACA) has to improve access to treatment for these disorders. \n",
        "\n",
        "We will obtain data on the prevalence of pain reliever misuse in each state from the [National Survey on Drug Use and Health (NSDUH)](https://datatools.samhsa.gov/nsduh/2019/nsduh-2018-2019-rd02yr/crosstab?row=PNRNMYR&column=STUSAB&weight=DASWT_1) from the Substance and Mental Health Services Administration (SAMHSA) and the status of each state’s decision on Medicaid expansion from [KFF](https://www.kff.org/affordable-care-act/issue-brief/status-of-state-medicaid-expansion-decisions-interactive-map/), a health policy organization. We will use the pandas and matplotlib libraries for our data analysis. Below is our exploratory data analysis and some summary statistics:"
      ]
    },
    {
      "cell_type": "markdown",
      "metadata": {
        "id": "3bp8cdDxDs2t"
      },
      "source": [
        "______________\n",
        "## Data Exploration\n",
        "### NSDUH\n",
        "\n",
        "Below we import the NSDUH dataset, create dataframes, and explore this data.  "
      ]
    },
    {
      "cell_type": "code",
      "execution_count": 1,
      "metadata": {
        "id": "1OJmbafkEhhq"
      },
      "outputs": [
        {
          "data": {
            "text/html": [
              "<div>\n",
              "<style scoped>\n",
              "    .dataframe tbody tr th:only-of-type {\n",
              "        vertical-align: middle;\n",
              "    }\n",
              "\n",
              "    .dataframe tbody tr th {\n",
              "        vertical-align: top;\n",
              "    }\n",
              "\n",
              "    .dataframe thead th {\n",
              "        text-align: right;\n",
              "    }\n",
              "</style>\n",
              "<table border=\"1\" class=\"dataframe\">\n",
              "  <thead>\n",
              "    <tr style=\"text-align: right;\">\n",
              "      <th></th>\n",
              "      <th>STATE US ABBREVIATION</th>\n",
              "      <th>RC-PAIN RELIEVERS - PAST YEAR MISUSE</th>\n",
              "      <th>Total %</th>\n",
              "      <th>Total % SE</th>\n",
              "      <th>Total % CI (lower)</th>\n",
              "      <th>Total % CI (upper)</th>\n",
              "      <th>Row %</th>\n",
              "      <th>Row % SE</th>\n",
              "      <th>Row % CI (lower)</th>\n",
              "      <th>Row % CI (upper)</th>\n",
              "      <th>Column %</th>\n",
              "      <th>Column % SE</th>\n",
              "      <th>Column % CI (lower)</th>\n",
              "      <th>Column % CI (upper)</th>\n",
              "      <th>Weighted Count</th>\n",
              "      <th>Count SE</th>\n",
              "    </tr>\n",
              "  </thead>\n",
              "  <tbody>\n",
              "    <tr>\n",
              "      <th>0</th>\n",
              "      <td>Overall</td>\n",
              "      <td>Overall</td>\n",
              "      <td>1.000</td>\n",
              "      <td>0.0000</td>\n",
              "      <td>NaN</td>\n",
              "      <td>NaN</td>\n",
              "      <td>1.000</td>\n",
              "      <td>0.0000</td>\n",
              "      <td>NaN</td>\n",
              "      <td>NaN</td>\n",
              "      <td>1.000</td>\n",
              "      <td>0.0000</td>\n",
              "      <td>NaN</td>\n",
              "      <td>NaN</td>\n",
              "      <td>274487000.0</td>\n",
              "      <td>1650000.0</td>\n",
              "    </tr>\n",
              "    <tr>\n",
              "      <th>1</th>\n",
              "      <td>Overall</td>\n",
              "      <td>0 - Did not misuse in the past year</td>\n",
              "      <td>0.964</td>\n",
              "      <td>0.0008</td>\n",
              "      <td>0.963</td>\n",
              "      <td>0.966</td>\n",
              "      <td>1.000</td>\n",
              "      <td>0.0000</td>\n",
              "      <td>NaN</td>\n",
              "      <td>NaN</td>\n",
              "      <td>0.964</td>\n",
              "      <td>0.0008</td>\n",
              "      <td>0.963</td>\n",
              "      <td>0.966</td>\n",
              "      <td>264651000.0</td>\n",
              "      <td>1612000.0</td>\n",
              "    </tr>\n",
              "    <tr>\n",
              "      <th>2</th>\n",
              "      <td>Overall</td>\n",
              "      <td>1 - Misused within the past year</td>\n",
              "      <td>0.036</td>\n",
              "      <td>0.0008</td>\n",
              "      <td>0.034</td>\n",
              "      <td>0.037</td>\n",
              "      <td>1.000</td>\n",
              "      <td>0.0000</td>\n",
              "      <td>NaN</td>\n",
              "      <td>NaN</td>\n",
              "      <td>0.036</td>\n",
              "      <td>0.0008</td>\n",
              "      <td>0.034</td>\n",
              "      <td>0.037</td>\n",
              "      <td>9836000.0</td>\n",
              "      <td>216000.0</td>\n",
              "    </tr>\n",
              "    <tr>\n",
              "      <th>3</th>\n",
              "      <td>AK</td>\n",
              "      <td>Overall</td>\n",
              "      <td>0.002</td>\n",
              "      <td>0.0001</td>\n",
              "      <td>0.002</td>\n",
              "      <td>0.002</td>\n",
              "      <td>0.002</td>\n",
              "      <td>0.0001</td>\n",
              "      <td>0.002</td>\n",
              "      <td>0.002</td>\n",
              "      <td>1.000</td>\n",
              "      <td>0.0000</td>\n",
              "      <td>NaN</td>\n",
              "      <td>NaN</td>\n",
              "      <td>585000.0</td>\n",
              "      <td>20000.0</td>\n",
              "    </tr>\n",
              "    <tr>\n",
              "      <th>4</th>\n",
              "      <td>AK</td>\n",
              "      <td>0 - Did not misuse in the past year</td>\n",
              "      <td>0.002</td>\n",
              "      <td>0.0001</td>\n",
              "      <td>0.002</td>\n",
              "      <td>0.002</td>\n",
              "      <td>0.002</td>\n",
              "      <td>0.0001</td>\n",
              "      <td>0.002</td>\n",
              "      <td>0.002</td>\n",
              "      <td>0.958</td>\n",
              "      <td>0.0051</td>\n",
              "      <td>0.947</td>\n",
              "      <td>0.967</td>\n",
              "      <td>560000.0</td>\n",
              "      <td>18000.0</td>\n",
              "    </tr>\n",
              "  </tbody>\n",
              "</table>\n",
              "</div>"
            ],
            "text/plain": [
              "  STATE US ABBREVIATION RC-PAIN RELIEVERS - PAST YEAR MISUSE  Total %  \\\n",
              "0               Overall                              Overall    1.000   \n",
              "1               Overall  0 - Did not misuse in the past year    0.964   \n",
              "2               Overall     1 - Misused within the past year    0.036   \n",
              "3                    AK                              Overall    0.002   \n",
              "4                    AK  0 - Did not misuse in the past year    0.002   \n",
              "\n",
              "   Total % SE  Total % CI (lower)  Total % CI (upper)  Row %  Row % SE  \\\n",
              "0      0.0000                 NaN                 NaN  1.000    0.0000   \n",
              "1      0.0008               0.963               0.966  1.000    0.0000   \n",
              "2      0.0008               0.034               0.037  1.000    0.0000   \n",
              "3      0.0001               0.002               0.002  0.002    0.0001   \n",
              "4      0.0001               0.002               0.002  0.002    0.0001   \n",
              "\n",
              "   Row % CI (lower)  Row % CI (upper)  Column %  Column % SE  \\\n",
              "0               NaN               NaN     1.000       0.0000   \n",
              "1               NaN               NaN     0.964       0.0008   \n",
              "2               NaN               NaN     0.036       0.0008   \n",
              "3             0.002             0.002     1.000       0.0000   \n",
              "4             0.002             0.002     0.958       0.0051   \n",
              "\n",
              "   Column % CI (lower)  Column % CI (upper)  Weighted Count   Count SE  \n",
              "0                  NaN                  NaN     274487000.0  1650000.0  \n",
              "1                0.963                0.966     264651000.0  1612000.0  \n",
              "2                0.034                0.037       9836000.0   216000.0  \n",
              "3                  NaN                  NaN        585000.0    20000.0  \n",
              "4                0.947                0.967        560000.0    18000.0  "
            ]
          },
          "execution_count": 1,
          "metadata": {},
          "output_type": "execute_result"
        }
      ],
      "source": [
        "# import data\n",
        "import pandas as pd\n",
        "\n",
        "path = \"https://raw.githubusercontent.com/naomibuell/DATA607/refs/heads/main/STUSAB%20x%20PNRNMYR.csv\"\n",
        "df = pd.read_csv(path)\n",
        "\n",
        "df.head()"
      ]
    },
    {
      "cell_type": "markdown",
      "metadata": {},
      "source": [
        "Below I print list of columns, length, number of non-missing observations, and data types."
      ]
    },
    {
      "cell_type": "code",
      "execution_count": 2,
      "metadata": {},
      "outputs": [
        {
          "name": "stdout",
          "output_type": "stream",
          "text": [
            "<class 'pandas.core.frame.DataFrame'>\n",
            "RangeIndex: 156 entries, 0 to 155\n",
            "Data columns (total 16 columns):\n",
            " #   Column                                Non-Null Count  Dtype  \n",
            "---  ------                                --------------  -----  \n",
            " 0   STATE US ABBREVIATION                 156 non-null    object \n",
            " 1   RC-PAIN RELIEVERS - PAST YEAR MISUSE  156 non-null    object \n",
            " 2   Total %                               156 non-null    float64\n",
            " 3   Total % SE                            156 non-null    float64\n",
            " 4   Total % CI (lower)                    155 non-null    float64\n",
            " 5   Total % CI (upper)                    155 non-null    float64\n",
            " 6   Row %                                 156 non-null    float64\n",
            " 7   Row % SE                              156 non-null    float64\n",
            " 8   Row % CI (lower)                      153 non-null    float64\n",
            " 9   Row % CI (upper)                      153 non-null    float64\n",
            " 10  Column %                              156 non-null    float64\n",
            " 11  Column % SE                           156 non-null    float64\n",
            " 12  Column % CI (lower)                   104 non-null    float64\n",
            " 13  Column % CI (upper)                   104 non-null    float64\n",
            " 14  Weighted Count                        156 non-null    float64\n",
            " 15  Count SE                              156 non-null    float64\n",
            "dtypes: float64(14), object(2)\n",
            "memory usage: 19.6+ KB\n"
          ]
        }
      ],
      "source": [
        "# Info\n",
        "df.info()"
      ]
    },
    {
      "cell_type": "markdown",
      "metadata": {},
      "source": [
        "There are up to 52 missing observations in columns of this dataset. \n",
        "\n",
        "Below are the means of numeric columns."
      ]
    },
    {
      "cell_type": "code",
      "execution_count": 3,
      "metadata": {},
      "outputs": [
        {
          "data": {
            "text/plain": [
              "Total %                2.564103e-02\n",
              "Total % SE             4.698718e-04\n",
              "Total % CI (lower)     1.844516e-02\n",
              "Total % CI (upper)     2.028387e-02\n",
              "Row %                  3.848718e-02\n",
              "Row % SE               1.231410e-03\n",
              "Row % CI (lower)       1.734641e-02\n",
              "Row % CI (upper)       2.230719e-02\n",
              "Column %               6.666667e-01\n",
              "Column % SE            3.447436e-03\n",
              "Column % CI (lower)    4.897115e-01\n",
              "Column % CI (upper)    5.102885e-01\n",
              "Weighted Count         7.038128e+06\n",
              "Count SE               1.511923e+05\n",
              "dtype: float64"
            ]
          },
          "execution_count": 3,
          "metadata": {},
          "output_type": "execute_result"
        }
      ],
      "source": [
        "# Means\n",
        "df.mean(numeric_only=True)"
      ]
    },
    {
      "cell_type": "markdown",
      "metadata": {},
      "source": [
        "Here are medians of the numeric columns."
      ]
    },
    {
      "cell_type": "code",
      "execution_count": 4,
      "metadata": {
        "id": "b0WTKtqozNn1"
      },
      "outputs": [
        {
          "data": {
            "text/plain": [
              "Total %                5.500000e-03\n",
              "Total % SE             3.000000e-04\n",
              "Total % CI (lower)     5.000000e-03\n",
              "Total % CI (upper)     6.000000e-03\n",
              "Row %                  1.450000e-02\n",
              "Row % SE               7.500000e-04\n",
              "Row % CI (lower)       1.200000e-02\n",
              "Row % CI (upper)       1.500000e-02\n",
              "Column %               9.640000e-01\n",
              "Column % SE            3.950000e-03\n",
              "Column % CI (lower)    4.840000e-01\n",
              "Column % CI (upper)    5.160000e-01\n",
              "Weighted Count         1.513500e+06\n",
              "Count SE               7.350000e+04\n",
              "dtype: float64"
            ]
          },
          "execution_count": 4,
          "metadata": {},
          "output_type": "execute_result"
        }
      ],
      "source": [
        "# Median\n",
        "df.median(numeric_only=True)"
      ]
    },
    {
      "cell_type": "markdown",
      "metadata": {},
      "source": [
        "### KFF\n",
        "\n",
        "Below we import the KFF dataset and explore this data.  "
      ]
    },
    {
      "cell_type": "code",
      "execution_count": null,
      "metadata": {},
      "outputs": [],
      "source": [
        "# Import"
      ]
    }
  ],
  "metadata": {
    "colab": {
      "include_colab_link": true,
      "name": "07_assignment.ipynb",
      "provenance": []
    },
    "kernelspec": {
      "display_name": "Python 3",
      "name": "python3"
    },
    "language_info": {
      "codemirror_mode": {
        "name": "ipython",
        "version": 3
      },
      "file_extension": ".py",
      "mimetype": "text/x-python",
      "name": "python",
      "nbconvert_exporter": "python",
      "pygments_lexer": "ipython3",
      "version": "3.12.5"
    }
  },
  "nbformat": 4,
  "nbformat_minor": 0
}
