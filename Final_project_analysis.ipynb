{
 "cells": [
  {
   "cell_type": "markdown",
   "metadata": {
    "id": "rd2QZetSDszc"
   },
   "source": [
    "\n",
    "\n",
    "# DATA 602 Final Project\n",
    "\n",
    "### Naomi Buell, Richie Rivera, Alexander Simon\n",
    "\n",
    "## Abstract\n",
    "\n",
    "[Insert abstract here. no more than 300 words.]\n",
    "\n",
    "## Introduction\n",
    "\n",
    "Our research question is: Is there a correlation between pain reliever misuse in US states and whether [states have expanded Medicaid](https://www.kff.org/affordable-care-act/issue-brief/status-of-state-medicaid-expansion-decisions-interactive-map/)? How has Medicaid expansion affected opioid misuse in the US? We plan to investigate the correlation between pain reliever misuse and states that have expanded Medicaid, and whether the rate of opioid misuse decreased after states expanded their Medicaid programs. We picked this topic because, as professionals in public health and biology, we are well aware of the toll that substance use disorders have taken, and the potential that Medicaid expansion under the Affordable Care Act (ACA) has to improve access to treatment for these disorders. \n",
    "\n",
    "We will obtain data on the prevalence of pain reliever misuse in each state from the [National Survey on Drug Use and Health (NSDUH)](https://datatools.samhsa.gov/nsduh/2019/nsduh-2018-2019-rd02yr/crosstab?row=PNRNMYR&column=STUSAB&weight=DASWT_1) from the Substance and Mental Health Services Administration (SAMHSA) and the status of each state’s decision on Medicaid expansion from [KFF](https://www.kff.org/affordable-care-act/issue-brief/status-of-state-medicaid-expansion-decisions-interactive-map/), a health policy organization. We will use the pandas and matplotlib libraries for our data analysis. Below is our exploratory data analysis and some summary statistics.\n",
    "\n",
    "## Data Wrangling \n",
    "\n",
    "[Insert tidying of your data, manipulating missing values, structuring of\n",
    "your data, etc.]\n",
    "\n",
    "Our data are from the SAMHSA [National Survey on Drug Use and Health (NSDUH)](https://datatools.samhsa.gov/) 2-year restricted-use data sets for 2015-2016, 2016-17, 2017-18, 2018-19, and 2021-2022. No data related to our research question were available prior to 2015 (survey question of interest was not being asked yet) or for 2020 (likely due to COVID).\n",
    "\n",
    "On the SAMHSA Data Tools webpage, we created \"crosstabs\" (data subsets) for the following variables and downloaded the CSV files:\n",
    "-  PNRNMYR - During the past 12 months, if they misused prescription pain relievers\n",
    "-  STUSAB - State US abbreviation\n",
    "\n",
    "We also downloaded Medicaid expansion data (CSV) from [KFF](https://www.kff.org/affordable-care-act/issue-brief/status-of-state-medicaid-expansion-decisions-interactive-map/).\n",
    "\n",
    "## Exploratory Data Analysis\n",
    "\n",
    "[Insert EDA - well-labeled graphs/plots that are appropriate to your analysis. Each\n",
    "visualization includes a description of what is being shown.]\n",
    "\n",
    "\n",
    "### NSDUH Opioid Misuse Data\n",
    "\n",
    "Below we import the NSDUH datasets, create dataframes, and explore this data.  "
   ]
  },
  {
   "cell_type": "code",
   "execution_count": 39,
   "metadata": {
    "id": "1OJmbafkEhhq"
   },
   "outputs": [
    {
     "name": "stdout",
     "output_type": "stream",
     "text": [
      "Reading in \"data/STUSAB X PNRNMYR (2015-16).csv\"\n",
      "Reading in \"data/STUSAB X PNRNMYR (2016-17).csv\"\n",
      "Reading in \"data/STUSAB X PNRNMYR (2017-18).csv\"\n",
      "Reading in \"data/STUSAB X PNRNMYR (2018-19).csv\"\n",
      "Reading in \"data/STUSAB X PNRNMYR (2021-22).csv\"\n",
      "  STATE US ABBREVIATION RC-PAIN RELIEVERS - PAST YEAR MISUSE  Total %  \\\n",
      "0               Overall                              Overall    1.000   \n",
      "1                    AK                              Overall    0.002   \n",
      "2                    AL                              Overall    0.015   \n",
      "3                    AR                              Overall    0.009   \n",
      "4                    AZ                              Overall    0.021   \n",
      "\n",
      "   Total % SE  Total % CI (lower)  Total % CI (upper)  Row %  Row % SE  \\\n",
      "0      0.0000                 NaN                 NaN    1.0       0.0   \n",
      "1      0.0001               0.002               0.002    1.0       0.0   \n",
      "2      0.0006               0.014               0.016    1.0       0.0   \n",
      "3      0.0004               0.008               0.010    1.0       0.0   \n",
      "4      0.0008               0.020               0.023    1.0       0.0   \n",
      "\n",
      "   Row % CI (lower)  Row % CI (upper)  Column %  Column % SE  \\\n",
      "0               NaN               NaN     1.000       0.0000   \n",
      "1               NaN               NaN     0.002       0.0001   \n",
      "2               NaN               NaN     0.015       0.0006   \n",
      "3               NaN               NaN     0.009       0.0004   \n",
      "4               NaN               NaN     0.021       0.0008   \n",
      "\n",
      "   Column % CI (lower)  Column % CI (upper)  Weighted Count  Count  Count SE  \\\n",
      "0                  NaN                  NaN       268562000    NaN   1593000   \n",
      "1                0.002                0.002          583000    NaN     24000   \n",
      "2                0.014                0.016         4061000    NaN    170000   \n",
      "3                0.008                0.010         2463000    NaN    112000   \n",
      "4                0.020                0.023         5694000    NaN    227000   \n",
      "\n",
      "      rpt_yr  \n",
      "0 2016-01-01  \n",
      "1 2016-01-01  \n",
      "2 2016-01-01  \n",
      "3 2016-01-01  \n",
      "4 2016-01-01  \n"
     ]
    }
   ],
   "source": [
    "# Import libraries\n",
    "import pandas as pd\n",
    "import os\n",
    "\n",
    "# Set up filepaths\n",
    "file_paths = [\n",
    "    'data/STUSAB X PNRNMYR (2015-16).csv',\n",
    "    'data/STUSAB X PNRNMYR (2016-17).csv',\n",
    "    'data/STUSAB X PNRNMYR (2017-18).csv',\n",
    "    'data/STUSAB X PNRNMYR (2018-19).csv',\n",
    "    'data/STUSAB X PNRNMYR (2021-22).csv',\n",
    "]\n",
    "\n",
    "# Iterate over each path to add the CSV file to a list\n",
    "df_collection = []\n",
    "for path in file_paths:\n",
    "    print(f'Reading in \"{path}\"')\n",
    "\n",
    "    t_df = pd.read_csv(path)\n",
    "\n",
    "    t_df['rpt_yr'] = pd.to_datetime(f'20{path[28:30]}-01-01')\n",
    "\n",
    "    df_collection.append(\n",
    "        t_df\n",
    "    )\n",
    "\n",
    "# Combine the collection of dataframes into one\n",
    "df = pd.concat(df_collection)\n",
    "\n",
    "print(df.head())"
   ]
  },
  {
   "cell_type": "markdown",
   "metadata": {},
   "source": [
    "Below, we print list of columns, length, number of non-missing observations, and data types."
   ]
  },
  {
   "cell_type": "code",
   "execution_count": 40,
   "metadata": {},
   "outputs": [
    {
     "name": "stdout",
     "output_type": "stream",
     "text": [
      "<class 'pandas.core.frame.DataFrame'>\n",
      "Index: 780 entries, 0 to 155\n",
      "Data columns (total 18 columns):\n",
      " #   Column                                Non-Null Count  Dtype         \n",
      "---  ------                                --------------  -----         \n",
      " 0   STATE US ABBREVIATION                 780 non-null    object        \n",
      " 1   RC-PAIN RELIEVERS - PAST YEAR MISUSE  780 non-null    object        \n",
      " 2   Total %                               780 non-null    float64       \n",
      " 3   Total % SE                            780 non-null    float64       \n",
      " 4   Total % CI (lower)                    775 non-null    float64       \n",
      " 5   Total % CI (upper)                    775 non-null    float64       \n",
      " 6   Row %                                 780 non-null    float64       \n",
      " 7   Row % SE                              780 non-null    float64       \n",
      " 8   Row % CI (lower)                      520 non-null    float64       \n",
      " 9   Row % CI (upper)                      520 non-null    float64       \n",
      " 10  Column %                              780 non-null    float64       \n",
      " 11  Column % SE                           780 non-null    float64       \n",
      " 12  Column % CI (lower)                   765 non-null    float64       \n",
      " 13  Column % CI (upper)                   765 non-null    float64       \n",
      " 14  Weighted Count                        780 non-null    int64         \n",
      " 15  Count                                 0 non-null      float64       \n",
      " 16  Count SE                              780 non-null    int64         \n",
      " 17  rpt_yr                                780 non-null    datetime64[ns]\n",
      "dtypes: datetime64[ns](1), float64(13), int64(2), object(2)\n",
      "memory usage: 115.8+ KB\n"
     ]
    }
   ],
   "source": [
    "# Info\n",
    "df.info()"
   ]
  },
  {
   "cell_type": "markdown",
   "metadata": {},
   "source": [
    "All 780 observations of the column `Count` are missing, but we can instead use the `Weighted Count` column for our analysis, so this is OK.<sup>[1](#footnote1)</sup> There are up to 260 missing observations in the columns of this dataset, however, our main variables of interest `STATE US ABBREVIATION`, `RC-PAIN RELIEVERS - PAST YEAR MISUSE`, and `Row %` are complete. We may also use `Row % CI (lower)` and `Row % CI (upper)`, which are 67% complete in the full dataset, but (as explored later) are 100% complete after we filter data down to observations of interest.\n",
    "\n",
    "<sup id=\"footnote1\">1</sup> Note that `Row %`s are rounded, so we may opt to calculate prevalence rates ourselves using `Weighted Count` for more precision.\n",
    "\n",
    "Below are the means, medians, and other summary statistics of numeric columns."
   ]
  },
  {
   "cell_type": "code",
   "execution_count": 41,
   "metadata": {},
   "outputs": [
    {
     "data": {
      "text/html": [
       "<div>\n",
       "<style scoped>\n",
       "    .dataframe tbody tr th:only-of-type {\n",
       "        vertical-align: middle;\n",
       "    }\n",
       "\n",
       "    .dataframe tbody tr th {\n",
       "        vertical-align: top;\n",
       "    }\n",
       "\n",
       "    .dataframe thead th {\n",
       "        text-align: right;\n",
       "    }\n",
       "</style>\n",
       "<table border=\"1\" class=\"dataframe\">\n",
       "  <thead>\n",
       "    <tr style=\"text-align: right;\">\n",
       "      <th></th>\n",
       "      <th>Total %</th>\n",
       "      <th>Total % SE</th>\n",
       "      <th>Total % CI (lower)</th>\n",
       "      <th>Total % CI (upper)</th>\n",
       "      <th>Row %</th>\n",
       "      <th>Row % SE</th>\n",
       "      <th>Row % CI (lower)</th>\n",
       "      <th>Row % CI (upper)</th>\n",
       "      <th>Column %</th>\n",
       "      <th>Column % SE</th>\n",
       "      <th>Column % CI (lower)</th>\n",
       "      <th>Column % CI (upper)</th>\n",
       "      <th>Weighted Count</th>\n",
       "      <th>Count</th>\n",
       "      <th>Count SE</th>\n",
       "      <th>rpt_yr</th>\n",
       "    </tr>\n",
       "  </thead>\n",
       "  <tbody>\n",
       "    <tr>\n",
       "      <th>count</th>\n",
       "      <td>780.000000</td>\n",
       "      <td>780.000000</td>\n",
       "      <td>775.000000</td>\n",
       "      <td>775.000000</td>\n",
       "      <td>780.000000</td>\n",
       "      <td>780.000000</td>\n",
       "      <td>520.000000</td>\n",
       "      <td>520.000000</td>\n",
       "      <td>780.000000</td>\n",
       "      <td>780.000000</td>\n",
       "      <td>765.000000</td>\n",
       "      <td>765.000000</td>\n",
       "      <td>7.800000e+02</td>\n",
       "      <td>0.0</td>\n",
       "      <td>7.800000e+02</td>\n",
       "      <td>780</td>\n",
       "    </tr>\n",
       "    <tr>\n",
       "      <th>mean</th>\n",
       "      <td>0.025624</td>\n",
       "      <td>0.000510</td>\n",
       "      <td>0.018386</td>\n",
       "      <td>0.020391</td>\n",
       "      <td>0.666667</td>\n",
       "      <td>0.003592</td>\n",
       "      <td>0.489262</td>\n",
       "      <td>0.510738</td>\n",
       "      <td>0.038456</td>\n",
       "      <td>0.001267</td>\n",
       "      <td>0.017306</td>\n",
       "      <td>0.022429</td>\n",
       "      <td>7.013690e+06</td>\n",
       "      <td>NaN</td>\n",
       "      <td>1.666756e+05</td>\n",
       "      <td>2018-05-27 00:00:00</td>\n",
       "    </tr>\n",
       "    <tr>\n",
       "      <th>min</th>\n",
       "      <td>0.000000</td>\n",
       "      <td>0.000000</td>\n",
       "      <td>0.000000</td>\n",
       "      <td>0.000000</td>\n",
       "      <td>0.013000</td>\n",
       "      <td>0.000000</td>\n",
       "      <td>0.007000</td>\n",
       "      <td>0.022000</td>\n",
       "      <td>0.001000</td>\n",
       "      <td>0.000000</td>\n",
       "      <td>0.001000</td>\n",
       "      <td>0.002000</td>\n",
       "      <td>1.200000e+04</td>\n",
       "      <td>NaN</td>\n",
       "      <td>2.000000e+03</td>\n",
       "      <td>2016-01-01 00:00:00</td>\n",
       "    </tr>\n",
       "    <tr>\n",
       "      <th>25%</th>\n",
       "      <td>0.001000</td>\n",
       "      <td>0.000100</td>\n",
       "      <td>0.001000</td>\n",
       "      <td>0.001000</td>\n",
       "      <td>0.045000</td>\n",
       "      <td>0.000000</td>\n",
       "      <td>0.030000</td>\n",
       "      <td>0.050000</td>\n",
       "      <td>0.005000</td>\n",
       "      <td>0.000400</td>\n",
       "      <td>0.004000</td>\n",
       "      <td>0.006000</td>\n",
       "      <td>2.555000e+05</td>\n",
       "      <td>NaN</td>\n",
       "      <td>2.800000e+04</td>\n",
       "      <td>2017-01-01 00:00:00</td>\n",
       "    </tr>\n",
       "    <tr>\n",
       "      <th>50%</th>\n",
       "      <td>0.006000</td>\n",
       "      <td>0.000300</td>\n",
       "      <td>0.005000</td>\n",
       "      <td>0.006000</td>\n",
       "      <td>0.961000</td>\n",
       "      <td>0.004300</td>\n",
       "      <td>0.484000</td>\n",
       "      <td>0.516000</td>\n",
       "      <td>0.014000</td>\n",
       "      <td>0.000800</td>\n",
       "      <td>0.012000</td>\n",
       "      <td>0.016000</td>\n",
       "      <td>1.526000e+06</td>\n",
       "      <td>NaN</td>\n",
       "      <td>7.850000e+04</td>\n",
       "      <td>2018-01-01 00:00:00</td>\n",
       "    </tr>\n",
       "    <tr>\n",
       "      <th>75%</th>\n",
       "      <td>0.018000</td>\n",
       "      <td>0.000800</td>\n",
       "      <td>0.017000</td>\n",
       "      <td>0.020000</td>\n",
       "      <td>1.000000</td>\n",
       "      <td>0.005800</td>\n",
       "      <td>0.950000</td>\n",
       "      <td>0.970000</td>\n",
       "      <td>0.024250</td>\n",
       "      <td>0.001700</td>\n",
       "      <td>0.020000</td>\n",
       "      <td>0.028000</td>\n",
       "      <td>5.025000e+06</td>\n",
       "      <td>NaN</td>\n",
       "      <td>2.152500e+05</td>\n",
       "      <td>2019-01-01 00:00:00</td>\n",
       "    </tr>\n",
       "    <tr>\n",
       "      <th>max</th>\n",
       "      <td>1.000000</td>\n",
       "      <td>0.004300</td>\n",
       "      <td>0.968000</td>\n",
       "      <td>0.971000</td>\n",
       "      <td>1.000000</td>\n",
       "      <td>0.011800</td>\n",
       "      <td>0.978000</td>\n",
       "      <td>0.993000</td>\n",
       "      <td>1.000000</td>\n",
       "      <td>0.012300</td>\n",
       "      <td>0.118000</td>\n",
       "      <td>0.146000</td>\n",
       "      <td>2.809260e+08</td>\n",
       "      <td>NaN</td>\n",
       "      <td>3.041000e+06</td>\n",
       "      <td>2022-01-01 00:00:00</td>\n",
       "    </tr>\n",
       "    <tr>\n",
       "      <th>std</th>\n",
       "      <td>0.110711</td>\n",
       "      <td>0.000592</td>\n",
       "      <td>0.078245</td>\n",
       "      <td>0.078851</td>\n",
       "      <td>0.444593</td>\n",
       "      <td>0.002882</td>\n",
       "      <td>0.460170</td>\n",
       "      <td>0.460170</td>\n",
       "      <td>0.136495</td>\n",
       "      <td>0.001456</td>\n",
       "      <td>0.020440</td>\n",
       "      <td>0.024208</td>\n",
       "      <td>3.029175e+07</td>\n",
       "      <td>NaN</td>\n",
       "      <td>2.692497e+05</td>\n",
       "      <td>NaN</td>\n",
       "    </tr>\n",
       "  </tbody>\n",
       "</table>\n",
       "</div>"
      ],
      "text/plain": [
       "          Total %  Total % SE  Total % CI (lower)  Total % CI (upper)  \\\n",
       "count  780.000000  780.000000          775.000000          775.000000   \n",
       "mean     0.025624    0.000510            0.018386            0.020391   \n",
       "min      0.000000    0.000000            0.000000            0.000000   \n",
       "25%      0.001000    0.000100            0.001000            0.001000   \n",
       "50%      0.006000    0.000300            0.005000            0.006000   \n",
       "75%      0.018000    0.000800            0.017000            0.020000   \n",
       "max      1.000000    0.004300            0.968000            0.971000   \n",
       "std      0.110711    0.000592            0.078245            0.078851   \n",
       "\n",
       "            Row %    Row % SE  Row % CI (lower)  Row % CI (upper)    Column %  \\\n",
       "count  780.000000  780.000000        520.000000        520.000000  780.000000   \n",
       "mean     0.666667    0.003592          0.489262          0.510738    0.038456   \n",
       "min      0.013000    0.000000          0.007000          0.022000    0.001000   \n",
       "25%      0.045000    0.000000          0.030000          0.050000    0.005000   \n",
       "50%      0.961000    0.004300          0.484000          0.516000    0.014000   \n",
       "75%      1.000000    0.005800          0.950000          0.970000    0.024250   \n",
       "max      1.000000    0.011800          0.978000          0.993000    1.000000   \n",
       "std      0.444593    0.002882          0.460170          0.460170    0.136495   \n",
       "\n",
       "       Column % SE  Column % CI (lower)  Column % CI (upper)  Weighted Count  \\\n",
       "count   780.000000           765.000000           765.000000    7.800000e+02   \n",
       "mean      0.001267             0.017306             0.022429    7.013690e+06   \n",
       "min       0.000000             0.001000             0.002000    1.200000e+04   \n",
       "25%       0.000400             0.004000             0.006000    2.555000e+05   \n",
       "50%       0.000800             0.012000             0.016000    1.526000e+06   \n",
       "75%       0.001700             0.020000             0.028000    5.025000e+06   \n",
       "max       0.012300             0.118000             0.146000    2.809260e+08   \n",
       "std       0.001456             0.020440             0.024208    3.029175e+07   \n",
       "\n",
       "       Count      Count SE               rpt_yr  \n",
       "count    0.0  7.800000e+02                  780  \n",
       "mean     NaN  1.666756e+05  2018-05-27 00:00:00  \n",
       "min      NaN  2.000000e+03  2016-01-01 00:00:00  \n",
       "25%      NaN  2.800000e+04  2017-01-01 00:00:00  \n",
       "50%      NaN  7.850000e+04  2018-01-01 00:00:00  \n",
       "75%      NaN  2.152500e+05  2019-01-01 00:00:00  \n",
       "max      NaN  3.041000e+06  2022-01-01 00:00:00  \n",
       "std      NaN  2.692497e+05                  NaN  "
      ]
     },
     "execution_count": 41,
     "metadata": {},
     "output_type": "execute_result"
    }
   ],
   "source": [
    "# Summary statistics\n",
    "df.describe()"
   ]
  },
  {
   "cell_type": "markdown",
   "metadata": {},
   "source": [
    "Here is a preview of our data after filtering down to just our columns and rows of interest."
   ]
  },
  {
   "cell_type": "code",
   "execution_count": 42,
   "metadata": {},
   "outputs": [
    {
     "data": {
      "text/html": [
       "<div>\n",
       "<style scoped>\n",
       "    .dataframe tbody tr th:only-of-type {\n",
       "        vertical-align: middle;\n",
       "    }\n",
       "\n",
       "    .dataframe tbody tr th {\n",
       "        vertical-align: top;\n",
       "    }\n",
       "\n",
       "    .dataframe thead th {\n",
       "        text-align: right;\n",
       "    }\n",
       "</style>\n",
       "<table border=\"1\" class=\"dataframe\">\n",
       "  <thead>\n",
       "    <tr style=\"text-align: right;\">\n",
       "      <th></th>\n",
       "      <th>STATE US ABBREVIATION</th>\n",
       "      <th>RC-PAIN RELIEVERS - PAST YEAR MISUSE</th>\n",
       "      <th>Row %</th>\n",
       "      <th>Row % CI (lower)</th>\n",
       "      <th>Row % CI (upper)</th>\n",
       "      <th>Weighted Count</th>\n",
       "      <th>rpt_yr</th>\n",
       "    </tr>\n",
       "  </thead>\n",
       "  <tbody>\n",
       "    <tr>\n",
       "      <th>105</th>\n",
       "      <td>AK</td>\n",
       "      <td>1 - Misused within the past year</td>\n",
       "      <td>0.046</td>\n",
       "      <td>0.038</td>\n",
       "      <td>0.057</td>\n",
       "      <td>27000</td>\n",
       "      <td>2016-01-01</td>\n",
       "    </tr>\n",
       "    <tr>\n",
       "      <th>106</th>\n",
       "      <td>AL</td>\n",
       "      <td>1 - Misused within the past year</td>\n",
       "      <td>0.053</td>\n",
       "      <td>0.043</td>\n",
       "      <td>0.065</td>\n",
       "      <td>215000</td>\n",
       "      <td>2016-01-01</td>\n",
       "    </tr>\n",
       "    <tr>\n",
       "      <th>107</th>\n",
       "      <td>AR</td>\n",
       "      <td>1 - Misused within the past year</td>\n",
       "      <td>0.048</td>\n",
       "      <td>0.038</td>\n",
       "      <td>0.059</td>\n",
       "      <td>117000</td>\n",
       "      <td>2016-01-01</td>\n",
       "    </tr>\n",
       "    <tr>\n",
       "      <th>108</th>\n",
       "      <td>AZ</td>\n",
       "      <td>1 - Misused within the past year</td>\n",
       "      <td>0.047</td>\n",
       "      <td>0.037</td>\n",
       "      <td>0.060</td>\n",
       "      <td>270000</td>\n",
       "      <td>2016-01-01</td>\n",
       "    </tr>\n",
       "    <tr>\n",
       "      <th>109</th>\n",
       "      <td>CA</td>\n",
       "      <td>1 - Misused within the past year</td>\n",
       "      <td>0.048</td>\n",
       "      <td>0.043</td>\n",
       "      <td>0.054</td>\n",
       "      <td>1571000</td>\n",
       "      <td>2016-01-01</td>\n",
       "    </tr>\n",
       "  </tbody>\n",
       "</table>\n",
       "</div>"
      ],
      "text/plain": [
       "    STATE US ABBREVIATION RC-PAIN RELIEVERS - PAST YEAR MISUSE  Row %  \\\n",
       "105                    AK     1 - Misused within the past year  0.046   \n",
       "106                    AL     1 - Misused within the past year  0.053   \n",
       "107                    AR     1 - Misused within the past year  0.048   \n",
       "108                    AZ     1 - Misused within the past year  0.047   \n",
       "109                    CA     1 - Misused within the past year  0.048   \n",
       "\n",
       "     Row % CI (lower)  Row % CI (upper)  Weighted Count     rpt_yr  \n",
       "105             0.038             0.057           27000 2016-01-01  \n",
       "106             0.043             0.065          215000 2016-01-01  \n",
       "107             0.038             0.059          117000 2016-01-01  \n",
       "108             0.037             0.060          270000 2016-01-01  \n",
       "109             0.043             0.054         1571000 2016-01-01  "
      ]
     },
     "execution_count": 42,
     "metadata": {},
     "output_type": "execute_result"
    }
   ],
   "source": [
    "# Selecting columns of interest from data\n",
    "df_cols = df[['STATE US ABBREVIATION',\n",
    "'RC-PAIN RELIEVERS - PAST YEAR MISUSE',\n",
    "'Row %',\n",
    "'Row % CI (lower)',\n",
    "'Row % CI (upper)',\n",
    "'Weighted Count',\n",
    "'rpt_yr']]\n",
    "\n",
    "# Subset the rows with states, removing the overall US observations\n",
    "df_states = df_cols[df_cols['STATE US ABBREVIATION'] != \"Overall\"]\n",
    "\n",
    "# Subset the rows where RC-PAIN RELIEVERS - PAST YEAR MISUSE = \"1 - Misused within the past year\" to get prevalence of opioid misuse\n",
    "df_filtered = df_states[df_states['RC-PAIN RELIEVERS - PAST YEAR MISUSE'] == \"1 - Misused within the past year\"]\n",
    "\n",
    "# Preview filtered data\n",
    "df_filtered.head()\n"
   ]
  },
  {
   "cell_type": "markdown",
   "metadata": {},
   "source": [
    "Here are  summary statistics of our numeric variables in this filtered data frame."
   ]
  },
  {
   "cell_type": "code",
   "execution_count": 43,
   "metadata": {},
   "outputs": [
    {
     "name": "stdout",
     "output_type": "stream",
     "text": [
      "<class 'pandas.core.frame.DataFrame'>\n",
      "Index: 255 entries, 105 to 155\n",
      "Data columns (total 7 columns):\n",
      " #   Column                                Non-Null Count  Dtype         \n",
      "---  ------                                --------------  -----         \n",
      " 0   STATE US ABBREVIATION                 255 non-null    object        \n",
      " 1   RC-PAIN RELIEVERS - PAST YEAR MISUSE  255 non-null    object        \n",
      " 2   Row %                                 255 non-null    float64       \n",
      " 3   Row % CI (lower)                      255 non-null    float64       \n",
      " 4   Row % CI (upper)                      255 non-null    float64       \n",
      " 5   Weighted Count                        255 non-null    int64         \n",
      " 6   rpt_yr                                255 non-null    datetime64[ns]\n",
      "dtypes: datetime64[ns](1), float64(3), int64(1), object(2)\n",
      "memory usage: 15.9+ KB\n",
      "None\n"
     ]
    },
    {
     "data": {
      "text/html": [
       "<div>\n",
       "<style scoped>\n",
       "    .dataframe tbody tr th:only-of-type {\n",
       "        vertical-align: middle;\n",
       "    }\n",
       "\n",
       "    .dataframe tbody tr th {\n",
       "        vertical-align: top;\n",
       "    }\n",
       "\n",
       "    .dataframe thead th {\n",
       "        text-align: right;\n",
       "    }\n",
       "</style>\n",
       "<table border=\"1\" class=\"dataframe\">\n",
       "  <thead>\n",
       "    <tr style=\"text-align: right;\">\n",
       "      <th></th>\n",
       "      <th>Row %</th>\n",
       "      <th>Row % CI (lower)</th>\n",
       "      <th>Row % CI (upper)</th>\n",
       "      <th>Weighted Count</th>\n",
       "      <th>rpt_yr</th>\n",
       "    </tr>\n",
       "  </thead>\n",
       "  <tbody>\n",
       "    <tr>\n",
       "      <th>count</th>\n",
       "      <td>255.000000</td>\n",
       "      <td>255.000000</td>\n",
       "      <td>255.000000</td>\n",
       "      <td>2.550000e+02</td>\n",
       "      <td>255</td>\n",
       "    </tr>\n",
       "    <tr>\n",
       "      <th>mean</th>\n",
       "      <td>0.038808</td>\n",
       "      <td>0.029490</td>\n",
       "      <td>0.051329</td>\n",
       "      <td>2.045686e+05</td>\n",
       "      <td>2018-05-27 00:00:00</td>\n",
       "    </tr>\n",
       "    <tr>\n",
       "      <th>min</th>\n",
       "      <td>0.013000</td>\n",
       "      <td>0.007000</td>\n",
       "      <td>0.022000</td>\n",
       "      <td>1.200000e+04</td>\n",
       "      <td>2016-01-01 00:00:00</td>\n",
       "    </tr>\n",
       "    <tr>\n",
       "      <th>25%</th>\n",
       "      <td>0.033000</td>\n",
       "      <td>0.024000</td>\n",
       "      <td>0.044000</td>\n",
       "      <td>5.100000e+04</td>\n",
       "      <td>2017-01-01 00:00:00</td>\n",
       "    </tr>\n",
       "    <tr>\n",
       "      <th>50%</th>\n",
       "      <td>0.039000</td>\n",
       "      <td>0.030000</td>\n",
       "      <td>0.051000</td>\n",
       "      <td>1.540000e+05</td>\n",
       "      <td>2018-01-01 00:00:00</td>\n",
       "    </tr>\n",
       "    <tr>\n",
       "      <th>75%</th>\n",
       "      <td>0.045000</td>\n",
       "      <td>0.034000</td>\n",
       "      <td>0.058000</td>\n",
       "      <td>2.495000e+05</td>\n",
       "      <td>2019-01-01 00:00:00</td>\n",
       "    </tr>\n",
       "    <tr>\n",
       "      <th>max</th>\n",
       "      <td>0.065000</td>\n",
       "      <td>0.051000</td>\n",
       "      <td>0.083000</td>\n",
       "      <td>1.571000e+06</td>\n",
       "      <td>2022-01-01 00:00:00</td>\n",
       "    </tr>\n",
       "    <tr>\n",
       "      <th>std</th>\n",
       "      <td>0.008746</td>\n",
       "      <td>0.007924</td>\n",
       "      <td>0.010386</td>\n",
       "      <td>2.335462e+05</td>\n",
       "      <td>NaN</td>\n",
       "    </tr>\n",
       "  </tbody>\n",
       "</table>\n",
       "</div>"
      ],
      "text/plain": [
       "            Row %  Row % CI (lower)  Row % CI (upper)  Weighted Count  \\\n",
       "count  255.000000        255.000000        255.000000    2.550000e+02   \n",
       "mean     0.038808          0.029490          0.051329    2.045686e+05   \n",
       "min      0.013000          0.007000          0.022000    1.200000e+04   \n",
       "25%      0.033000          0.024000          0.044000    5.100000e+04   \n",
       "50%      0.039000          0.030000          0.051000    1.540000e+05   \n",
       "75%      0.045000          0.034000          0.058000    2.495000e+05   \n",
       "max      0.065000          0.051000          0.083000    1.571000e+06   \n",
       "std      0.008746          0.007924          0.010386    2.335462e+05   \n",
       "\n",
       "                    rpt_yr  \n",
       "count                  255  \n",
       "mean   2018-05-27 00:00:00  \n",
       "min    2016-01-01 00:00:00  \n",
       "25%    2017-01-01 00:00:00  \n",
       "50%    2018-01-01 00:00:00  \n",
       "75%    2019-01-01 00:00:00  \n",
       "max    2022-01-01 00:00:00  \n",
       "std                    NaN  "
      ]
     },
     "execution_count": 43,
     "metadata": {},
     "output_type": "execute_result"
    }
   ],
   "source": [
    "# Show missingness of filtered data\n",
    "print(df_filtered.info())\n",
    "\n",
    "# Show summary statistics of filtered data\n",
    "df_filtered.describe()"
   ]
  },
  {
   "cell_type": "code",
   "execution_count": 44,
   "metadata": {},
   "outputs": [
    {
     "data": {
      "text/html": [
       "<div>\n",
       "<style scoped>\n",
       "    .dataframe tbody tr th:only-of-type {\n",
       "        vertical-align: middle;\n",
       "    }\n",
       "\n",
       "    .dataframe tbody tr th {\n",
       "        vertical-align: top;\n",
       "    }\n",
       "\n",
       "    .dataframe thead th {\n",
       "        text-align: right;\n",
       "    }\n",
       "</style>\n",
       "<table border=\"1\" class=\"dataframe\">\n",
       "  <thead>\n",
       "    <tr style=\"text-align: right;\">\n",
       "      <th></th>\n",
       "      <th>STATE US ABBREVIATION</th>\n",
       "      <th>RC-PAIN RELIEVERS - PAST YEAR MISUSE</th>\n",
       "      <th>Row %</th>\n",
       "      <th>Row % CI (lower)</th>\n",
       "      <th>Row % CI (upper)</th>\n",
       "      <th>Weighted Count</th>\n",
       "      <th>rpt_yr</th>\n",
       "    </tr>\n",
       "  </thead>\n",
       "  <tbody>\n",
       "    <tr>\n",
       "      <th>105</th>\n",
       "      <td>AK</td>\n",
       "      <td>1 - Misused within the past year</td>\n",
       "      <td>0.046</td>\n",
       "      <td>0.038</td>\n",
       "      <td>0.057</td>\n",
       "      <td>27000</td>\n",
       "      <td>2016-01-01</td>\n",
       "    </tr>\n",
       "    <tr>\n",
       "      <th>106</th>\n",
       "      <td>AL</td>\n",
       "      <td>1 - Misused within the past year</td>\n",
       "      <td>0.053</td>\n",
       "      <td>0.043</td>\n",
       "      <td>0.065</td>\n",
       "      <td>215000</td>\n",
       "      <td>2016-01-01</td>\n",
       "    </tr>\n",
       "    <tr>\n",
       "      <th>107</th>\n",
       "      <td>AR</td>\n",
       "      <td>1 - Misused within the past year</td>\n",
       "      <td>0.048</td>\n",
       "      <td>0.038</td>\n",
       "      <td>0.059</td>\n",
       "      <td>117000</td>\n",
       "      <td>2016-01-01</td>\n",
       "    </tr>\n",
       "    <tr>\n",
       "      <th>108</th>\n",
       "      <td>AZ</td>\n",
       "      <td>1 - Misused within the past year</td>\n",
       "      <td>0.047</td>\n",
       "      <td>0.037</td>\n",
       "      <td>0.060</td>\n",
       "      <td>270000</td>\n",
       "      <td>2016-01-01</td>\n",
       "    </tr>\n",
       "    <tr>\n",
       "      <th>109</th>\n",
       "      <td>CA</td>\n",
       "      <td>1 - Misused within the past year</td>\n",
       "      <td>0.048</td>\n",
       "      <td>0.043</td>\n",
       "      <td>0.054</td>\n",
       "      <td>1571000</td>\n",
       "      <td>2016-01-01</td>\n",
       "    </tr>\n",
       "    <tr>\n",
       "      <th>...</th>\n",
       "      <td>...</td>\n",
       "      <td>...</td>\n",
       "      <td>...</td>\n",
       "      <td>...</td>\n",
       "      <td>...</td>\n",
       "      <td>...</td>\n",
       "      <td>...</td>\n",
       "    </tr>\n",
       "    <tr>\n",
       "      <th>151</th>\n",
       "      <td>VT</td>\n",
       "      <td>1 - Misused within the past year</td>\n",
       "      <td>0.025</td>\n",
       "      <td>0.016</td>\n",
       "      <td>0.041</td>\n",
       "      <td>14000</td>\n",
       "      <td>2022-01-01</td>\n",
       "    </tr>\n",
       "    <tr>\n",
       "      <th>152</th>\n",
       "      <td>WA</td>\n",
       "      <td>1 - Misused within the past year</td>\n",
       "      <td>0.024</td>\n",
       "      <td>0.016</td>\n",
       "      <td>0.035</td>\n",
       "      <td>157000</td>\n",
       "      <td>2022-01-01</td>\n",
       "    </tr>\n",
       "    <tr>\n",
       "      <th>153</th>\n",
       "      <td>WI</td>\n",
       "      <td>1 - Misused within the past year</td>\n",
       "      <td>0.023</td>\n",
       "      <td>0.016</td>\n",
       "      <td>0.033</td>\n",
       "      <td>116000</td>\n",
       "      <td>2022-01-01</td>\n",
       "    </tr>\n",
       "    <tr>\n",
       "      <th>154</th>\n",
       "      <td>WV</td>\n",
       "      <td>1 - Misused within the past year</td>\n",
       "      <td>0.036</td>\n",
       "      <td>0.023</td>\n",
       "      <td>0.055</td>\n",
       "      <td>55000</td>\n",
       "      <td>2022-01-01</td>\n",
       "    </tr>\n",
       "    <tr>\n",
       "      <th>155</th>\n",
       "      <td>WY</td>\n",
       "      <td>1 - Misused within the past year</td>\n",
       "      <td>0.033</td>\n",
       "      <td>0.023</td>\n",
       "      <td>0.046</td>\n",
       "      <td>16000</td>\n",
       "      <td>2022-01-01</td>\n",
       "    </tr>\n",
       "  </tbody>\n",
       "</table>\n",
       "<p>255 rows × 7 columns</p>\n",
       "</div>"
      ],
      "text/plain": [
       "    STATE US ABBREVIATION RC-PAIN RELIEVERS - PAST YEAR MISUSE  Row %  \\\n",
       "105                    AK     1 - Misused within the past year  0.046   \n",
       "106                    AL     1 - Misused within the past year  0.053   \n",
       "107                    AR     1 - Misused within the past year  0.048   \n",
       "108                    AZ     1 - Misused within the past year  0.047   \n",
       "109                    CA     1 - Misused within the past year  0.048   \n",
       "..                    ...                                  ...    ...   \n",
       "151                    VT     1 - Misused within the past year  0.025   \n",
       "152                    WA     1 - Misused within the past year  0.024   \n",
       "153                    WI     1 - Misused within the past year  0.023   \n",
       "154                    WV     1 - Misused within the past year  0.036   \n",
       "155                    WY     1 - Misused within the past year  0.033   \n",
       "\n",
       "     Row % CI (lower)  Row % CI (upper)  Weighted Count     rpt_yr  \n",
       "105             0.038             0.057           27000 2016-01-01  \n",
       "106             0.043             0.065          215000 2016-01-01  \n",
       "107             0.038             0.059          117000 2016-01-01  \n",
       "108             0.037             0.060          270000 2016-01-01  \n",
       "109             0.043             0.054         1571000 2016-01-01  \n",
       "..                ...               ...             ...        ...  \n",
       "151             0.016             0.041           14000 2022-01-01  \n",
       "152             0.016             0.035          157000 2022-01-01  \n",
       "153             0.016             0.033          116000 2022-01-01  \n",
       "154             0.023             0.055           55000 2022-01-01  \n",
       "155             0.023             0.046           16000 2022-01-01  \n",
       "\n",
       "[255 rows x 7 columns]"
      ]
     },
     "execution_count": 44,
     "metadata": {},
     "output_type": "execute_result"
    }
   ],
   "source": [
    "df_filtered"
   ]
  },
  {
   "cell_type": "markdown",
   "metadata": {},
   "source": [
    "After filtering data, we have 100% completeness. States have, on average, 3.9% prevalence of opioid misuse in the past 12 months. "
   ]
  },
  {
   "cell_type": "markdown",
   "metadata": {},
   "source": [
    "### KFF State Medicaid Expansion Data\n",
    "\n",
    "Below we import the KFF dataset and explore this data.  "
   ]
  },
  {
   "cell_type": "code",
   "execution_count": 45,
   "metadata": {},
   "outputs": [
    {
     "data": {
      "text/html": [
       "<div>\n",
       "<style scoped>\n",
       "    .dataframe tbody tr th:only-of-type {\n",
       "        vertical-align: middle;\n",
       "    }\n",
       "\n",
       "    .dataframe tbody tr th {\n",
       "        vertical-align: top;\n",
       "    }\n",
       "\n",
       "    .dataframe thead th {\n",
       "        text-align: right;\n",
       "    }\n",
       "</style>\n",
       "<table border=\"1\" class=\"dataframe\">\n",
       "  <thead>\n",
       "    <tr style=\"text-align: right;\">\n",
       "      <th></th>\n",
       "      <th>Location</th>\n",
       "      <th>Status of Medicaid Expansion Decision</th>\n",
       "      <th>Implemented Expansion On</th>\n",
       "    </tr>\n",
       "  </thead>\n",
       "  <tbody>\n",
       "    <tr>\n",
       "      <th>0</th>\n",
       "      <td>Arizona</td>\n",
       "      <td>Adopted</td>\n",
       "      <td>2014-01-01 00:00:00</td>\n",
       "    </tr>\n",
       "    <tr>\n",
       "      <th>1</th>\n",
       "      <td>Arkansas</td>\n",
       "      <td>Adopted</td>\n",
       "      <td>2014-01-01 00:00:00</td>\n",
       "    </tr>\n",
       "    <tr>\n",
       "      <th>2</th>\n",
       "      <td>California</td>\n",
       "      <td>Adopted</td>\n",
       "      <td>2014-01-01 00:00:00</td>\n",
       "    </tr>\n",
       "    <tr>\n",
       "      <th>3</th>\n",
       "      <td>Colorado</td>\n",
       "      <td>Adopted</td>\n",
       "      <td>2014-01-01 00:00:00</td>\n",
       "    </tr>\n",
       "    <tr>\n",
       "      <th>4</th>\n",
       "      <td>Connecticut</td>\n",
       "      <td>Adopted</td>\n",
       "      <td>2014-01-01 00:00:00</td>\n",
       "    </tr>\n",
       "  </tbody>\n",
       "</table>\n",
       "</div>"
      ],
      "text/plain": [
       "      Location Status of Medicaid Expansion Decision Implemented Expansion On\n",
       "0      Arizona                               Adopted      2014-01-01 00:00:00\n",
       "1     Arkansas                               Adopted      2014-01-01 00:00:00\n",
       "2   California                               Adopted      2014-01-01 00:00:00\n",
       "3     Colorado                               Adopted      2014-01-01 00:00:00\n",
       "4  Connecticut                               Adopted      2014-01-01 00:00:00"
      ]
     },
     "execution_count": 45,
     "metadata": {},
     "output_type": "execute_result"
    }
   ],
   "source": [
    "# Import KFF data\n",
    "path_kff = \"data/raw_data_kff.xlsx\"\n",
    "\n",
    "df_kff = pd.read_excel(path_kff, skiprows=2)\n",
    "\n",
    "df_kff.head()"
   ]
  },
  {
   "cell_type": "markdown",
   "metadata": {},
   "source": [
    "We convert the state names to abbreviations to match NSDUH data."
   ]
  },
  {
   "cell_type": "code",
   "execution_count": 46,
   "metadata": {},
   "outputs": [
    {
     "data": {
      "text/html": [
       "<div>\n",
       "<style scoped>\n",
       "    .dataframe tbody tr th:only-of-type {\n",
       "        vertical-align: middle;\n",
       "    }\n",
       "\n",
       "    .dataframe tbody tr th {\n",
       "        vertical-align: top;\n",
       "    }\n",
       "\n",
       "    .dataframe thead th {\n",
       "        text-align: right;\n",
       "    }\n",
       "</style>\n",
       "<table border=\"1\" class=\"dataframe\">\n",
       "  <thead>\n",
       "    <tr style=\"text-align: right;\">\n",
       "      <th></th>\n",
       "      <th>Location</th>\n",
       "      <th>Status of Medicaid Expansion Decision</th>\n",
       "      <th>Implemented Expansion On</th>\n",
       "      <th>Abbrev</th>\n",
       "    </tr>\n",
       "  </thead>\n",
       "  <tbody>\n",
       "    <tr>\n",
       "      <th>0</th>\n",
       "      <td>Arizona</td>\n",
       "      <td>Adopted</td>\n",
       "      <td>2014-01-01 00:00:00</td>\n",
       "      <td>AZ</td>\n",
       "    </tr>\n",
       "    <tr>\n",
       "      <th>1</th>\n",
       "      <td>Arkansas</td>\n",
       "      <td>Adopted</td>\n",
       "      <td>2014-01-01 00:00:00</td>\n",
       "      <td>AR</td>\n",
       "    </tr>\n",
       "    <tr>\n",
       "      <th>2</th>\n",
       "      <td>California</td>\n",
       "      <td>Adopted</td>\n",
       "      <td>2014-01-01 00:00:00</td>\n",
       "      <td>CA</td>\n",
       "    </tr>\n",
       "    <tr>\n",
       "      <th>3</th>\n",
       "      <td>Colorado</td>\n",
       "      <td>Adopted</td>\n",
       "      <td>2014-01-01 00:00:00</td>\n",
       "      <td>CO</td>\n",
       "    </tr>\n",
       "    <tr>\n",
       "      <th>4</th>\n",
       "      <td>Connecticut</td>\n",
       "      <td>Adopted</td>\n",
       "      <td>2014-01-01 00:00:00</td>\n",
       "      <td>CT</td>\n",
       "    </tr>\n",
       "  </tbody>\n",
       "</table>\n",
       "</div>"
      ],
      "text/plain": [
       "      Location Status of Medicaid Expansion Decision Implemented Expansion On  \\\n",
       "0      Arizona                               Adopted      2014-01-01 00:00:00   \n",
       "1     Arkansas                               Adopted      2014-01-01 00:00:00   \n",
       "2   California                               Adopted      2014-01-01 00:00:00   \n",
       "3     Colorado                               Adopted      2014-01-01 00:00:00   \n",
       "4  Connecticut                               Adopted      2014-01-01 00:00:00   \n",
       "\n",
       "  Abbrev  \n",
       "0     AZ  \n",
       "1     AR  \n",
       "2     CA  \n",
       "3     CO  \n",
       "4     CT  "
      ]
     },
     "execution_count": 46,
     "metadata": {},
     "output_type": "execute_result"
    }
   ],
   "source": [
    "# Create a dictionary with state names and their abbreviations as key:value pairs\n",
    "us_state_to_abbrev = {\n",
    "    \"Alabama\": \"AL\",\n",
    "    \"Alaska\": \"AK\",\n",
    "    \"Arizona\": \"AZ\",\n",
    "    \"Arkansas\": \"AR\",\n",
    "    \"California\": \"CA\",\n",
    "    \"Colorado\": \"CO\",\n",
    "    \"Connecticut\": \"CT\",\n",
    "    \"Delaware\": \"DE\",\n",
    "    \"Florida\": \"FL\",\n",
    "    \"Georgia\": \"GA\",\n",
    "    \"Hawaii\": \"HI\",\n",
    "    \"Idaho\": \"ID\",\n",
    "    \"Illinois\": \"IL\",\n",
    "    \"Indiana\": \"IN\",\n",
    "    \"Iowa\": \"IA\",\n",
    "    \"Kansas\": \"KS\",\n",
    "    \"Kentucky\": \"KY\",\n",
    "    \"Louisiana\": \"LA\",\n",
    "    \"Maine\": \"ME\",\n",
    "    \"Maryland\": \"MD\",\n",
    "    \"Massachusetts\": \"MA\",\n",
    "    \"Michigan\": \"MI\",\n",
    "    \"Minnesota\": \"MN\",\n",
    "    \"Mississippi\": \"MS\",\n",
    "    \"Missouri\": \"MO\",\n",
    "    \"Montana\": \"MT\",\n",
    "    \"Nebraska\": \"NE\",\n",
    "    \"Nevada\": \"NV\",\n",
    "    \"New Hampshire\": \"NH\",\n",
    "    \"New Jersey\": \"NJ\",\n",
    "    \"New Mexico\": \"NM\",\n",
    "    \"New York\": \"NY\",\n",
    "    \"North Carolina\": \"NC\",\n",
    "    \"North Dakota\": \"ND\",\n",
    "    \"Ohio\": \"OH\",\n",
    "    \"Oklahoma\": \"OK\",\n",
    "    \"Oregon\": \"OR\",\n",
    "    \"Pennsylvania\": \"PA\",\n",
    "    \"Rhode Island\": \"RI\",\n",
    "    \"South Carolina\": \"SC\",\n",
    "    \"South Dakota\": \"SD\",\n",
    "    \"Tennessee\": \"TN\",\n",
    "    \"Texas\": \"TX\",\n",
    "    \"Utah\": \"UT\",\n",
    "    \"Vermont\": \"VT\",\n",
    "    \"Virginia\": \"VA\",\n",
    "    \"Washington\": \"WA\",\n",
    "    \"West Virginia\": \"WV\",\n",
    "    \"Wisconsin\": \"WI\",\n",
    "    \"Wyoming\": \"WY\",\n",
    "    \"District of Columbia\": \"DC\",\n",
    "    \"American Samoa\": \"AS\",  # Delete?\n",
    "    \"Guam\": \"GU\",  # Delete?\n",
    "    \"Northern Mariana Islands\": \"MP\",  # Delete?\n",
    "    \"Puerto Rico\": \"PR\",\n",
    "    \"United States\": \"US\",\n",
    "}\n",
    "\n",
    "# Map the state names in the KFF dataframe to the corresponding abbreviation\n",
    "df_kff['Abbrev'] = df_kff['Location'].map(us_state_to_abbrev)\n",
    "\n",
    "df_kff.head()"
   ]
  },
  {
   "cell_type": "markdown",
   "metadata": {},
   "source": [
    "Below, we print the list of columns, length, number of non-missing observations, and data types."
   ]
  },
  {
   "cell_type": "code",
   "execution_count": 47,
   "metadata": {},
   "outputs": [
    {
     "name": "stdout",
     "output_type": "stream",
     "text": [
      "<class 'pandas.core.frame.DataFrame'>\n",
      "RangeIndex: 60 entries, 0 to 59\n",
      "Data columns (total 4 columns):\n",
      " #   Column                                 Non-Null Count  Dtype \n",
      "---  ------                                 --------------  ----- \n",
      " 0   Location                               57 non-null     object\n",
      " 1   Status of Medicaid Expansion Decision  52 non-null     object\n",
      " 2   Implemented Expansion On               52 non-null     object\n",
      " 3   Abbrev                                 52 non-null     object\n",
      "dtypes: object(4)\n",
      "memory usage: 2.0+ KB\n"
     ]
    }
   ],
   "source": [
    "# Info\n",
    "df_kff.info()"
   ]
  },
  {
   "cell_type": "markdown",
   "metadata": {},
   "source": [
    "We convert the `Implemented Expansion On` variable to a datetime datatype and summarize it below."
   ]
  },
  {
   "cell_type": "code",
   "execution_count": 48,
   "metadata": {},
   "outputs": [
    {
     "data": {
      "text/html": [
       "<div>\n",
       "<style scoped>\n",
       "    .dataframe tbody tr th:only-of-type {\n",
       "        vertical-align: middle;\n",
       "    }\n",
       "\n",
       "    .dataframe tbody tr th {\n",
       "        vertical-align: top;\n",
       "    }\n",
       "\n",
       "    .dataframe thead th {\n",
       "        text-align: right;\n",
       "    }\n",
       "</style>\n",
       "<table border=\"1\" class=\"dataframe\">\n",
       "  <thead>\n",
       "    <tr style=\"text-align: right;\">\n",
       "      <th></th>\n",
       "      <th>Implemented Expansion On</th>\n",
       "    </tr>\n",
       "  </thead>\n",
       "  <tbody>\n",
       "    <tr>\n",
       "      <th>count</th>\n",
       "      <td>41</td>\n",
       "    </tr>\n",
       "    <tr>\n",
       "      <th>mean</th>\n",
       "      <td>2015-10-09 03:30:43.902438912</td>\n",
       "    </tr>\n",
       "    <tr>\n",
       "      <th>min</th>\n",
       "      <td>2014-01-01 00:00:00</td>\n",
       "    </tr>\n",
       "    <tr>\n",
       "      <th>25%</th>\n",
       "      <td>2014-01-01 00:00:00</td>\n",
       "    </tr>\n",
       "    <tr>\n",
       "      <th>50%</th>\n",
       "      <td>2014-01-01 00:00:00</td>\n",
       "    </tr>\n",
       "    <tr>\n",
       "      <th>75%</th>\n",
       "      <td>2016-01-01 00:00:00</td>\n",
       "    </tr>\n",
       "    <tr>\n",
       "      <th>max</th>\n",
       "      <td>2023-12-01 00:00:00</td>\n",
       "    </tr>\n",
       "  </tbody>\n",
       "</table>\n",
       "</div>"
      ],
      "text/plain": [
       "            Implemented Expansion On\n",
       "count                             41\n",
       "mean   2015-10-09 03:30:43.902438912\n",
       "min              2014-01-01 00:00:00\n",
       "25%              2014-01-01 00:00:00\n",
       "50%              2014-01-01 00:00:00\n",
       "75%              2016-01-01 00:00:00\n",
       "max              2023-12-01 00:00:00"
      ]
     },
     "execution_count": 48,
     "metadata": {},
     "output_type": "execute_result"
    }
   ],
   "source": [
    "# Convert to datetime\n",
    "df_kff['Implemented Expansion On'] = pd.to_datetime(df_kff['Implemented Expansion On'], errors='coerce')\n",
    "\n",
    "# Range of dates\n",
    "df_kff.describe()"
   ]
  },
  {
   "cell_type": "markdown",
   "metadata": {},
   "source": [
    "41 states expanded Medicaid so far (missing dates indicate that a state has not yet adopted Medicaid expansion). Most states who have expanded Medicaid did so on the first day of 2014. The last state to expand Medicaid, North Carolina, did so in December 2023."
   ]
  },
  {
   "cell_type": "markdown",
   "metadata": {},
   "source": [
    "Lastly, we'll combine the KFF and NSDUH data into one dataframe that we will perform our analysis on:"
   ]
  },
  {
   "cell_type": "code",
   "execution_count": 49,
   "metadata": {},
   "outputs": [
    {
     "data": {
      "text/html": [
       "<div>\n",
       "<style scoped>\n",
       "    .dataframe tbody tr th:only-of-type {\n",
       "        vertical-align: middle;\n",
       "    }\n",
       "\n",
       "    .dataframe tbody tr th {\n",
       "        vertical-align: top;\n",
       "    }\n",
       "\n",
       "    .dataframe thead th {\n",
       "        text-align: right;\n",
       "    }\n",
       "</style>\n",
       "<table border=\"1\" class=\"dataframe\">\n",
       "  <thead>\n",
       "    <tr style=\"text-align: right;\">\n",
       "      <th></th>\n",
       "      <th>STATE US ABBREVIATION</th>\n",
       "      <th>RC-PAIN RELIEVERS - PAST YEAR MISUSE</th>\n",
       "      <th>Row %</th>\n",
       "      <th>Row % CI (lower)</th>\n",
       "      <th>Row % CI (upper)</th>\n",
       "      <th>Weighted Count</th>\n",
       "      <th>rpt_yr</th>\n",
       "      <th>Location</th>\n",
       "      <th>Status of Medicaid Expansion Decision</th>\n",
       "      <th>Implemented Expansion On</th>\n",
       "      <th>Abbrev</th>\n",
       "    </tr>\n",
       "  </thead>\n",
       "  <tbody>\n",
       "    <tr>\n",
       "      <th>0</th>\n",
       "      <td>AK</td>\n",
       "      <td>1 - Misused within the past year</td>\n",
       "      <td>0.046</td>\n",
       "      <td>0.038</td>\n",
       "      <td>0.057</td>\n",
       "      <td>27000</td>\n",
       "      <td>2016-01-01</td>\n",
       "      <td>Alaska</td>\n",
       "      <td>Adopted</td>\n",
       "      <td>2015-09-01</td>\n",
       "      <td>AK</td>\n",
       "    </tr>\n",
       "    <tr>\n",
       "      <th>1</th>\n",
       "      <td>AL</td>\n",
       "      <td>1 - Misused within the past year</td>\n",
       "      <td>0.053</td>\n",
       "      <td>0.043</td>\n",
       "      <td>0.065</td>\n",
       "      <td>215000</td>\n",
       "      <td>2016-01-01</td>\n",
       "      <td>Alabama</td>\n",
       "      <td>Not Adopted</td>\n",
       "      <td>NaT</td>\n",
       "      <td>AL</td>\n",
       "    </tr>\n",
       "    <tr>\n",
       "      <th>2</th>\n",
       "      <td>AR</td>\n",
       "      <td>1 - Misused within the past year</td>\n",
       "      <td>0.048</td>\n",
       "      <td>0.038</td>\n",
       "      <td>0.059</td>\n",
       "      <td>117000</td>\n",
       "      <td>2016-01-01</td>\n",
       "      <td>Arkansas</td>\n",
       "      <td>Adopted</td>\n",
       "      <td>2014-01-01</td>\n",
       "      <td>AR</td>\n",
       "    </tr>\n",
       "    <tr>\n",
       "      <th>3</th>\n",
       "      <td>AZ</td>\n",
       "      <td>1 - Misused within the past year</td>\n",
       "      <td>0.047</td>\n",
       "      <td>0.037</td>\n",
       "      <td>0.060</td>\n",
       "      <td>270000</td>\n",
       "      <td>2016-01-01</td>\n",
       "      <td>Arizona</td>\n",
       "      <td>Adopted</td>\n",
       "      <td>2014-01-01</td>\n",
       "      <td>AZ</td>\n",
       "    </tr>\n",
       "    <tr>\n",
       "      <th>4</th>\n",
       "      <td>CA</td>\n",
       "      <td>1 - Misused within the past year</td>\n",
       "      <td>0.048</td>\n",
       "      <td>0.043</td>\n",
       "      <td>0.054</td>\n",
       "      <td>1571000</td>\n",
       "      <td>2016-01-01</td>\n",
       "      <td>California</td>\n",
       "      <td>Adopted</td>\n",
       "      <td>2014-01-01</td>\n",
       "      <td>CA</td>\n",
       "    </tr>\n",
       "  </tbody>\n",
       "</table>\n",
       "</div>"
      ],
      "text/plain": [
       "  STATE US ABBREVIATION RC-PAIN RELIEVERS - PAST YEAR MISUSE  Row %  \\\n",
       "0                    AK     1 - Misused within the past year  0.046   \n",
       "1                    AL     1 - Misused within the past year  0.053   \n",
       "2                    AR     1 - Misused within the past year  0.048   \n",
       "3                    AZ     1 - Misused within the past year  0.047   \n",
       "4                    CA     1 - Misused within the past year  0.048   \n",
       "\n",
       "   Row % CI (lower)  Row % CI (upper)  Weighted Count     rpt_yr    Location  \\\n",
       "0             0.038             0.057           27000 2016-01-01      Alaska   \n",
       "1             0.043             0.065          215000 2016-01-01     Alabama   \n",
       "2             0.038             0.059          117000 2016-01-01    Arkansas   \n",
       "3             0.037             0.060          270000 2016-01-01     Arizona   \n",
       "4             0.043             0.054         1571000 2016-01-01  California   \n",
       "\n",
       "  Status of Medicaid Expansion Decision Implemented Expansion On Abbrev  \n",
       "0                               Adopted               2015-09-01     AK  \n",
       "1                           Not Adopted                      NaT     AL  \n",
       "2                               Adopted               2014-01-01     AR  \n",
       "3                               Adopted               2014-01-01     AZ  \n",
       "4                               Adopted               2014-01-01     CA  "
      ]
     },
     "execution_count": 49,
     "metadata": {},
     "output_type": "execute_result"
    }
   ],
   "source": [
    "working_df = df_filtered.merge(\n",
    "    df_kff,\n",
    "    left_on = 'STATE US ABBREVIATION',\n",
    "    right_on = 'Abbrev',\n",
    "    how = 'left'\n",
    ")\n",
    "\n",
    "working_df.head()"
   ]
  },
  {
   "cell_type": "markdown",
   "metadata": {},
   "source": [
    "## Data Analysis\n",
    "\n",
    "Below, we create a binary variable for whether the state OUD observation year occured after Medicaid expansion, called `post`."
   ]
  },
  {
   "cell_type": "code",
   "execution_count": 50,
   "metadata": {},
   "outputs": [
    {
     "data": {
      "text/html": [
       "<div>\n",
       "<style scoped>\n",
       "    .dataframe tbody tr th:only-of-type {\n",
       "        vertical-align: middle;\n",
       "    }\n",
       "\n",
       "    .dataframe tbody tr th {\n",
       "        vertical-align: top;\n",
       "    }\n",
       "\n",
       "    .dataframe thead th {\n",
       "        text-align: right;\n",
       "    }\n",
       "</style>\n",
       "<table border=\"1\" class=\"dataframe\">\n",
       "  <thead>\n",
       "    <tr style=\"text-align: right;\">\n",
       "      <th></th>\n",
       "      <th>STATE US ABBREVIATION</th>\n",
       "      <th>RC-PAIN RELIEVERS - PAST YEAR MISUSE</th>\n",
       "      <th>Row %</th>\n",
       "      <th>Row % CI (lower)</th>\n",
       "      <th>Row % CI (upper)</th>\n",
       "      <th>Weighted Count</th>\n",
       "      <th>rpt_yr</th>\n",
       "      <th>Location</th>\n",
       "      <th>Status of Medicaid Expansion Decision</th>\n",
       "      <th>Implemented Expansion On</th>\n",
       "      <th>Abbrev</th>\n",
       "      <th>post</th>\n",
       "    </tr>\n",
       "  </thead>\n",
       "  <tbody>\n",
       "    <tr>\n",
       "      <th>0</th>\n",
       "      <td>AK</td>\n",
       "      <td>1 - Misused within the past year</td>\n",
       "      <td>0.046</td>\n",
       "      <td>0.038</td>\n",
       "      <td>0.057</td>\n",
       "      <td>27000</td>\n",
       "      <td>2016-01-01</td>\n",
       "      <td>Alaska</td>\n",
       "      <td>Adopted</td>\n",
       "      <td>2015-09-01</td>\n",
       "      <td>AK</td>\n",
       "      <td>True</td>\n",
       "    </tr>\n",
       "    <tr>\n",
       "      <th>1</th>\n",
       "      <td>AL</td>\n",
       "      <td>1 - Misused within the past year</td>\n",
       "      <td>0.053</td>\n",
       "      <td>0.043</td>\n",
       "      <td>0.065</td>\n",
       "      <td>215000</td>\n",
       "      <td>2016-01-01</td>\n",
       "      <td>Alabama</td>\n",
       "      <td>Not Adopted</td>\n",
       "      <td>NaT</td>\n",
       "      <td>AL</td>\n",
       "      <td>False</td>\n",
       "    </tr>\n",
       "    <tr>\n",
       "      <th>2</th>\n",
       "      <td>AR</td>\n",
       "      <td>1 - Misused within the past year</td>\n",
       "      <td>0.048</td>\n",
       "      <td>0.038</td>\n",
       "      <td>0.059</td>\n",
       "      <td>117000</td>\n",
       "      <td>2016-01-01</td>\n",
       "      <td>Arkansas</td>\n",
       "      <td>Adopted</td>\n",
       "      <td>2014-01-01</td>\n",
       "      <td>AR</td>\n",
       "      <td>True</td>\n",
       "    </tr>\n",
       "    <tr>\n",
       "      <th>3</th>\n",
       "      <td>AZ</td>\n",
       "      <td>1 - Misused within the past year</td>\n",
       "      <td>0.047</td>\n",
       "      <td>0.037</td>\n",
       "      <td>0.060</td>\n",
       "      <td>270000</td>\n",
       "      <td>2016-01-01</td>\n",
       "      <td>Arizona</td>\n",
       "      <td>Adopted</td>\n",
       "      <td>2014-01-01</td>\n",
       "      <td>AZ</td>\n",
       "      <td>True</td>\n",
       "    </tr>\n",
       "    <tr>\n",
       "      <th>4</th>\n",
       "      <td>CA</td>\n",
       "      <td>1 - Misused within the past year</td>\n",
       "      <td>0.048</td>\n",
       "      <td>0.043</td>\n",
       "      <td>0.054</td>\n",
       "      <td>1571000</td>\n",
       "      <td>2016-01-01</td>\n",
       "      <td>California</td>\n",
       "      <td>Adopted</td>\n",
       "      <td>2014-01-01</td>\n",
       "      <td>CA</td>\n",
       "      <td>True</td>\n",
       "    </tr>\n",
       "  </tbody>\n",
       "</table>\n",
       "</div>"
      ],
      "text/plain": [
       "  STATE US ABBREVIATION RC-PAIN RELIEVERS - PAST YEAR MISUSE  Row %  \\\n",
       "0                    AK     1 - Misused within the past year  0.046   \n",
       "1                    AL     1 - Misused within the past year  0.053   \n",
       "2                    AR     1 - Misused within the past year  0.048   \n",
       "3                    AZ     1 - Misused within the past year  0.047   \n",
       "4                    CA     1 - Misused within the past year  0.048   \n",
       "\n",
       "   Row % CI (lower)  Row % CI (upper)  Weighted Count     rpt_yr    Location  \\\n",
       "0             0.038             0.057           27000 2016-01-01      Alaska   \n",
       "1             0.043             0.065          215000 2016-01-01     Alabama   \n",
       "2             0.038             0.059          117000 2016-01-01    Arkansas   \n",
       "3             0.037             0.060          270000 2016-01-01     Arizona   \n",
       "4             0.043             0.054         1571000 2016-01-01  California   \n",
       "\n",
       "  Status of Medicaid Expansion Decision Implemented Expansion On Abbrev   post  \n",
       "0                               Adopted               2015-09-01     AK   True  \n",
       "1                           Not Adopted                      NaT     AL  False  \n",
       "2                               Adopted               2014-01-01     AR   True  \n",
       "3                               Adopted               2014-01-01     AZ   True  \n",
       "4                               Adopted               2014-01-01     CA   True  "
      ]
     },
     "execution_count": 50,
     "metadata": {},
     "output_type": "execute_result"
    }
   ],
   "source": [
    "working_df['post'] = working_df['rpt_yr'] >= working_df['Implemented Expansion On']\n",
    "\n",
    "working_df.head()"
   ]
  },
  {
   "cell_type": "markdown",
   "metadata": {},
   "source": [
    "The histogram below shows the distribution of OUD prevalence rates in our dataset. We also fit the data to a normal distribution, which is overlaid on the histogram and indicates that the rates are approximately normally distributed."
   ]
  },
  {
   "cell_type": "code",
   "execution_count": 52,
   "metadata": {},
   "outputs": [
    {
     "ename": "ModuleNotFoundError",
     "evalue": "No module named 'norm'",
     "output_type": "error",
     "traceback": [
      "\u001b[1;31m---------------------------------------------------------------------------\u001b[0m",
      "\u001b[1;31mModuleNotFoundError\u001b[0m                       Traceback (most recent call last)",
      "Cell \u001b[1;32mIn[52], line 4\u001b[0m\n\u001b[0;32m      1\u001b[0m \u001b[38;5;66;03m# This cell contributed by Alex\u001b[39;00m\n\u001b[0;32m      2\u001b[0m \u001b[38;5;66;03m# Create histogram of OUD rates with a normal distribution for comparison\u001b[39;00m\n\u001b[0;32m      3\u001b[0m \u001b[38;5;28;01mimport\u001b[39;00m \u001b[38;5;21;01mmatplotlib\u001b[39;00m \u001b[38;5;28;01mas\u001b[39;00m \u001b[38;5;21;01mplt\u001b[39;00m\n\u001b[1;32m----> 4\u001b[0m \u001b[38;5;28;01mimport\u001b[39;00m \u001b[38;5;21;01mnorm\u001b[39;00m\n\u001b[0;32m      6\u001b[0m \u001b[38;5;66;03m# Fit normal distribution to the data\u001b[39;00m\n\u001b[0;32m      7\u001b[0m mu, std \u001b[38;5;241m=\u001b[39m norm\u001b[38;5;241m.\u001b[39mfit(working_df[\u001b[38;5;124m'\u001b[39m\u001b[38;5;124mScaled Row \u001b[39m\u001b[38;5;124m%\u001b[39m\u001b[38;5;124m'\u001b[39m]) \n",
      "\u001b[1;31mModuleNotFoundError\u001b[0m: No module named 'norm'"
     ]
    }
   ],
   "source": [
    "# This cell contributed by Alex\n",
    "# Create histogram of OUD rates with a normal distribution for comparison\n",
    "import matplotlib as plt\n",
    "import norm\n",
    "\n",
    "# Fit normal distribution to the data\n",
    "mu, std = norm.fit(working_df['Scaled Row %']) \n",
    "\n",
    "# Plot histogram of OUD rates\n",
    "plt.hist(working_df['Scaled Row %'], bins = 30, density = True, \n",
    "         color = 'lightblue', edgecolor = 'darkgray')\n",
    "plt.axvline(working_df['Scaled Row %'].mean(), color = 'red', \n",
    "            linestyle = 'dashed')\n",
    "plt.axvline(working_df['Scaled Row %'].median(), color = 'blue', \n",
    "            linestyle = 'dashed')\n",
    "\n",
    "# Overlay normal distribution\n",
    "xmin, xmax = plt.xlim()\n",
    "x = np.linspace(xmin, xmax, 100)\n",
    "p = norm.pdf(x, mu, std)\n",
    "plt.plot(x, p, 'k')\n",
    "\n",
    "# Labels\n",
    "min_ylim, max_ylim = plt.ylim()\n",
    "plt.text(working_df['Scaled Row %'].mean() * 1.2, max_ylim * 0.9, \n",
    "         'Mean: {:.2f}'.format(working_df['Scaled Row %'].mean()), \n",
    "         color = 'red')\n",
    "plt.text(working_df['Scaled Row %'].mean() * 1.2, max_ylim * 0.85, \n",
    "         'Median: {:.2f}'.format(working_df['Scaled Row %'].median()), \n",
    "         color = 'blue')\n",
    "plt.xlabel('OUD Prevalence (%)')\n",
    "plt.ylabel('Frequency')\n",
    "plt.title('Histogram of OUD Prevalence Rates')\n",
    "\n",
    "# View plot\n",
    "plt.figure(figsize = (10, 6))\n",
    "plt.show()"
   ]
  },
  {
   "cell_type": "markdown",
   "metadata": {},
   "source": [
    "We created heatmaps (technically choropleth maps) of the average rates of opioid misuse during 2016-2019 (ie, pre-COVID) in states pre- and post- Medicaid expansion.\n",
    "\n",
    "Pre-expansion (left plot), Alabama had the highest average rate of misuse (5.0%) and Wyoming had the average lowest rate (3.2%). Post-expansion (right plot), Oregon and Nevada had the highest average rate of misuse (5.4% for both). Maine and Nebraska had the lowest average rate of misuse (3.0% for both)."
   ]
  },
  {
   "cell_type": "code",
   "execution_count": null,
   "metadata": {},
   "outputs": [],
   "source": [
    "# Author: Alex\n",
    "\n",
    "def draw_heatmap(df: pd.DataFrame, rate_column: str, \n",
    "                 facet_column: str, plots_per_row: int, title: str) -> px:\n",
    "  '''\n",
    "  This function takes a dataframe with OUD rates and \n",
    "  returns a choropleth map (ie, geographic heatmap)\n",
    "\n",
    "  Args:\n",
    "    df: Dataframe containing OUD prevalence rates\n",
    "    rate_column: Name of column with OUD rates\n",
    "    facet_column: Name of column with titles for each facet\n",
    "    plots_per_row: Number of facets per row\n",
    "    title: Main plot title\n",
    "  \n",
    "  Returns:\n",
    "    heatmap: Plotly Express object\n",
    "  '''\n",
    "  heatmap = px.choropleth(df,\n",
    "                        locations = 'Abbrev',\n",
    "                        locationmode = \"USA-states\",\n",
    "                        color = rate_column,\n",
    "                        color_continuous_scale = 'rdbu_r',\n",
    "                        labels = {rate_column : '% OUD'},\n",
    "                        hover_name = 'Abbrev',\n",
    "                        scope = 'usa',\n",
    "                        facet_col = facet_column,\n",
    "                        facet_col_wrap = plots_per_row)\n",
    "\n",
    "  # Customize facets\n",
    "  # Remove column name from title\n",
    "  heatmap.for_each_annotation(lambda a: a.update(text = a.text.split(\"=\")[-1]))\n",
    "  # Adjust font size of title\n",
    "  heatmap.update_annotations(font_size = 16)\n",
    "  # Overall layout\n",
    "  heatmap.update_layout(\n",
    "      autosize = False,\n",
    "      width = 1200,\n",
    "      height = 600,\n",
    "      title = {\n",
    "          'text': title,\n",
    "          'y' : 0.99,\n",
    "          'x' : 0.5,\n",
    "          'xanchor': 'center',\n",
    "          'yanchor': 'top'},\n",
    "      title_font_weight = 600)\n",
    "\n",
    "  return heatmap"
   ]
  },
  {
   "cell_type": "markdown",
   "metadata": {},
   "source": [
    "Note that the Plotly Express heatmaps are interactive. You can see information about individual states by hovering over it and zoom/pan each map."
   ]
  },
  {
   "cell_type": "code",
   "execution_count": null,
   "metadata": {},
   "outputs": [
    {
     "data": {
      "application/vnd.plotly.v1+json": {
       "config": {
        "plotlyServerURL": "https://plot.ly"
       },
       "data": [
        {
         "coloraxis": "coloraxis",
         "geo": "geo",
         "hovertemplate": "<b>%{hovertext}</b><br><br>Expansion_status=Pre-Expansion<br>Abbrev=%{location}<br>% OUD=%{z}<extra></extra>",
         "hovertext": [
          "AL",
          "FL",
          "GA",
          "KS",
          "MS",
          "SC",
          "TN",
          "TX",
          "WI",
          "WY"
         ],
         "locationmode": "USA-states",
         "locations": [
          "AL",
          "FL",
          "GA",
          "KS",
          "MS",
          "SC",
          "TN",
          "TX",
          "WI",
          "WY"
         ],
         "name": "",
         "type": "choropleth",
         "z": [
          5,
          4.2,
          3.5,
          4.2,
          4.4,
          4,
          3.9,
          3.9,
          3.7,
          3.2
         ]
        },
        {
         "coloraxis": "coloraxis",
         "geo": "geo2",
         "hovertemplate": "<b>%{hovertext}</b><br><br>Expansion_status=Post-Expansion<br>Abbrev=%{location}<br>% OUD=%{z}<extra></extra>",
         "hovertext": [
          "AK",
          "AR",
          "AZ",
          "CA",
          "CO",
          "CT",
          "DE",
          "HI",
          "IA",
          "ID",
          "IL",
          "IN",
          "KY",
          "LA",
          "MA",
          "MD",
          "ME",
          "MI",
          "MN",
          "MO",
          "MT",
          "NC",
          "ND",
          "NE",
          "NH",
          "NJ",
          "NM",
          "NV",
          "NY",
          "OH",
          "OK",
          "OR",
          "PA",
          "RI",
          "SD",
          "UT",
          "VA",
          "VT",
          "WA",
          "WV"
         ],
         "locationmode": "USA-states",
         "locations": [
          "AK",
          "AR",
          "AZ",
          "CA",
          "CO",
          "CT",
          "DE",
          "HI",
          "IA",
          "ID",
          "IL",
          "IN",
          "KY",
          "LA",
          "MA",
          "MD",
          "ME",
          "MI",
          "MN",
          "MO",
          "MT",
          "NC",
          "ND",
          "NE",
          "NH",
          "NJ",
          "NM",
          "NV",
          "NY",
          "OH",
          "OK",
          "OR",
          "PA",
          "RI",
          "SD",
          "UT",
          "VA",
          "VT",
          "WA",
          "WV"
         ],
         "name": "",
         "type": "choropleth",
         "z": [
          4.8,
          4.8,
          4.3,
          4.2,
          5.2,
          4.2,
          4.1,
          4,
          4,
          4.5,
          3.1,
          4.8,
          4.6,
          4.5,
          3.2,
          3.6,
          3,
          4.3,
          3.8,
          4,
          4.4,
          4,
          3.4,
          3,
          4,
          3.2,
          3.8,
          5.4,
          3.1,
          4.5,
          4,
          5.4,
          3.9,
          4.2,
          3.6,
          4.3,
          3.6,
          3.9,
          5.1,
          3.3
         ]
        }
       ],
       "layout": {
        "annotations": [
         {
          "font": {
           "size": 16
          },
          "showarrow": false,
          "text": "Pre-Expansion",
          "x": 0.245,
          "xanchor": "center",
          "xref": "paper",
          "y": 1,
          "yanchor": "bottom",
          "yref": "paper"
         },
         {
          "font": {
           "size": 16
          },
          "showarrow": false,
          "text": "Post-Expansion",
          "x": 0.755,
          "xanchor": "center",
          "xref": "paper",
          "y": 1,
          "yanchor": "bottom",
          "yref": "paper"
         }
        ],
        "autosize": false,
        "coloraxis": {
         "colorbar": {
          "title": {
           "text": "% OUD"
          }
         },
         "colorscale": [
          [
           0,
           "rgb(5,48,97)"
          ],
          [
           0.1,
           "rgb(33,102,172)"
          ],
          [
           0.2,
           "rgb(67,147,195)"
          ],
          [
           0.3,
           "rgb(146,197,222)"
          ],
          [
           0.4,
           "rgb(209,229,240)"
          ],
          [
           0.5,
           "rgb(247,247,247)"
          ],
          [
           0.6,
           "rgb(253,219,199)"
          ],
          [
           0.7,
           "rgb(244,165,130)"
          ],
          [
           0.8,
           "rgb(214,96,77)"
          ],
          [
           0.9,
           "rgb(178,24,43)"
          ],
          [
           1,
           "rgb(103,0,31)"
          ]
         ]
        },
        "geo": {
         "center": {},
         "domain": {
          "x": [
           0,
           0.49
          ],
          "y": [
           0,
           1
          ]
         },
         "scope": "usa"
        },
        "geo2": {
         "center": {},
         "domain": {
          "x": [
           0.51,
           1
          ],
          "y": [
           0,
           1
          ]
         },
         "scope": "usa"
        },
        "height": 600,
        "legend": {
         "tracegroupgap": 0
        },
        "margin": {
         "t": 60
        },
        "template": {
         "data": {
          "bar": [
           {
            "error_x": {
             "color": "#2a3f5f"
            },
            "error_y": {
             "color": "#2a3f5f"
            },
            "marker": {
             "line": {
              "color": "#E5ECF6",
              "width": 0.5
             },
             "pattern": {
              "fillmode": "overlay",
              "size": 10,
              "solidity": 0.2
             }
            },
            "type": "bar"
           }
          ],
          "barpolar": [
           {
            "marker": {
             "line": {
              "color": "#E5ECF6",
              "width": 0.5
             },
             "pattern": {
              "fillmode": "overlay",
              "size": 10,
              "solidity": 0.2
             }
            },
            "type": "barpolar"
           }
          ],
          "carpet": [
           {
            "aaxis": {
             "endlinecolor": "#2a3f5f",
             "gridcolor": "white",
             "linecolor": "white",
             "minorgridcolor": "white",
             "startlinecolor": "#2a3f5f"
            },
            "baxis": {
             "endlinecolor": "#2a3f5f",
             "gridcolor": "white",
             "linecolor": "white",
             "minorgridcolor": "white",
             "startlinecolor": "#2a3f5f"
            },
            "type": "carpet"
           }
          ],
          "choropleth": [
           {
            "colorbar": {
             "outlinewidth": 0,
             "ticks": ""
            },
            "type": "choropleth"
           }
          ],
          "contour": [
           {
            "colorbar": {
             "outlinewidth": 0,
             "ticks": ""
            },
            "colorscale": [
             [
              0,
              "#0d0887"
             ],
             [
              0.1111111111111111,
              "#46039f"
             ],
             [
              0.2222222222222222,
              "#7201a8"
             ],
             [
              0.3333333333333333,
              "#9c179e"
             ],
             [
              0.4444444444444444,
              "#bd3786"
             ],
             [
              0.5555555555555556,
              "#d8576b"
             ],
             [
              0.6666666666666666,
              "#ed7953"
             ],
             [
              0.7777777777777778,
              "#fb9f3a"
             ],
             [
              0.8888888888888888,
              "#fdca26"
             ],
             [
              1,
              "#f0f921"
             ]
            ],
            "type": "contour"
           }
          ],
          "contourcarpet": [
           {
            "colorbar": {
             "outlinewidth": 0,
             "ticks": ""
            },
            "type": "contourcarpet"
           }
          ],
          "heatmap": [
           {
            "colorbar": {
             "outlinewidth": 0,
             "ticks": ""
            },
            "colorscale": [
             [
              0,
              "#0d0887"
             ],
             [
              0.1111111111111111,
              "#46039f"
             ],
             [
              0.2222222222222222,
              "#7201a8"
             ],
             [
              0.3333333333333333,
              "#9c179e"
             ],
             [
              0.4444444444444444,
              "#bd3786"
             ],
             [
              0.5555555555555556,
              "#d8576b"
             ],
             [
              0.6666666666666666,
              "#ed7953"
             ],
             [
              0.7777777777777778,
              "#fb9f3a"
             ],
             [
              0.8888888888888888,
              "#fdca26"
             ],
             [
              1,
              "#f0f921"
             ]
            ],
            "type": "heatmap"
           }
          ],
          "heatmapgl": [
           {
            "colorbar": {
             "outlinewidth": 0,
             "ticks": ""
            },
            "colorscale": [
             [
              0,
              "#0d0887"
             ],
             [
              0.1111111111111111,
              "#46039f"
             ],
             [
              0.2222222222222222,
              "#7201a8"
             ],
             [
              0.3333333333333333,
              "#9c179e"
             ],
             [
              0.4444444444444444,
              "#bd3786"
             ],
             [
              0.5555555555555556,
              "#d8576b"
             ],
             [
              0.6666666666666666,
              "#ed7953"
             ],
             [
              0.7777777777777778,
              "#fb9f3a"
             ],
             [
              0.8888888888888888,
              "#fdca26"
             ],
             [
              1,
              "#f0f921"
             ]
            ],
            "type": "heatmapgl"
           }
          ],
          "histogram": [
           {
            "marker": {
             "pattern": {
              "fillmode": "overlay",
              "size": 10,
              "solidity": 0.2
             }
            },
            "type": "histogram"
           }
          ],
          "histogram2d": [
           {
            "colorbar": {
             "outlinewidth": 0,
             "ticks": ""
            },
            "colorscale": [
             [
              0,
              "#0d0887"
             ],
             [
              0.1111111111111111,
              "#46039f"
             ],
             [
              0.2222222222222222,
              "#7201a8"
             ],
             [
              0.3333333333333333,
              "#9c179e"
             ],
             [
              0.4444444444444444,
              "#bd3786"
             ],
             [
              0.5555555555555556,
              "#d8576b"
             ],
             [
              0.6666666666666666,
              "#ed7953"
             ],
             [
              0.7777777777777778,
              "#fb9f3a"
             ],
             [
              0.8888888888888888,
              "#fdca26"
             ],
             [
              1,
              "#f0f921"
             ]
            ],
            "type": "histogram2d"
           }
          ],
          "histogram2dcontour": [
           {
            "colorbar": {
             "outlinewidth": 0,
             "ticks": ""
            },
            "colorscale": [
             [
              0,
              "#0d0887"
             ],
             [
              0.1111111111111111,
              "#46039f"
             ],
             [
              0.2222222222222222,
              "#7201a8"
             ],
             [
              0.3333333333333333,
              "#9c179e"
             ],
             [
              0.4444444444444444,
              "#bd3786"
             ],
             [
              0.5555555555555556,
              "#d8576b"
             ],
             [
              0.6666666666666666,
              "#ed7953"
             ],
             [
              0.7777777777777778,
              "#fb9f3a"
             ],
             [
              0.8888888888888888,
              "#fdca26"
             ],
             [
              1,
              "#f0f921"
             ]
            ],
            "type": "histogram2dcontour"
           }
          ],
          "mesh3d": [
           {
            "colorbar": {
             "outlinewidth": 0,
             "ticks": ""
            },
            "type": "mesh3d"
           }
          ],
          "parcoords": [
           {
            "line": {
             "colorbar": {
              "outlinewidth": 0,
              "ticks": ""
             }
            },
            "type": "parcoords"
           }
          ],
          "pie": [
           {
            "automargin": true,
            "type": "pie"
           }
          ],
          "scatter": [
           {
            "fillpattern": {
             "fillmode": "overlay",
             "size": 10,
             "solidity": 0.2
            },
            "type": "scatter"
           }
          ],
          "scatter3d": [
           {
            "line": {
             "colorbar": {
              "outlinewidth": 0,
              "ticks": ""
             }
            },
            "marker": {
             "colorbar": {
              "outlinewidth": 0,
              "ticks": ""
             }
            },
            "type": "scatter3d"
           }
          ],
          "scattercarpet": [
           {
            "marker": {
             "colorbar": {
              "outlinewidth": 0,
              "ticks": ""
             }
            },
            "type": "scattercarpet"
           }
          ],
          "scattergeo": [
           {
            "marker": {
             "colorbar": {
              "outlinewidth": 0,
              "ticks": ""
             }
            },
            "type": "scattergeo"
           }
          ],
          "scattergl": [
           {
            "marker": {
             "colorbar": {
              "outlinewidth": 0,
              "ticks": ""
             }
            },
            "type": "scattergl"
           }
          ],
          "scattermapbox": [
           {
            "marker": {
             "colorbar": {
              "outlinewidth": 0,
              "ticks": ""
             }
            },
            "type": "scattermapbox"
           }
          ],
          "scatterpolar": [
           {
            "marker": {
             "colorbar": {
              "outlinewidth": 0,
              "ticks": ""
             }
            },
            "type": "scatterpolar"
           }
          ],
          "scatterpolargl": [
           {
            "marker": {
             "colorbar": {
              "outlinewidth": 0,
              "ticks": ""
             }
            },
            "type": "scatterpolargl"
           }
          ],
          "scatterternary": [
           {
            "marker": {
             "colorbar": {
              "outlinewidth": 0,
              "ticks": ""
             }
            },
            "type": "scatterternary"
           }
          ],
          "surface": [
           {
            "colorbar": {
             "outlinewidth": 0,
             "ticks": ""
            },
            "colorscale": [
             [
              0,
              "#0d0887"
             ],
             [
              0.1111111111111111,
              "#46039f"
             ],
             [
              0.2222222222222222,
              "#7201a8"
             ],
             [
              0.3333333333333333,
              "#9c179e"
             ],
             [
              0.4444444444444444,
              "#bd3786"
             ],
             [
              0.5555555555555556,
              "#d8576b"
             ],
             [
              0.6666666666666666,
              "#ed7953"
             ],
             [
              0.7777777777777778,
              "#fb9f3a"
             ],
             [
              0.8888888888888888,
              "#fdca26"
             ],
             [
              1,
              "#f0f921"
             ]
            ],
            "type": "surface"
           }
          ],
          "table": [
           {
            "cells": {
             "fill": {
              "color": "#EBF0F8"
             },
             "line": {
              "color": "white"
             }
            },
            "header": {
             "fill": {
              "color": "#C8D4E3"
             },
             "line": {
              "color": "white"
             }
            },
            "type": "table"
           }
          ]
         },
         "layout": {
          "annotationdefaults": {
           "arrowcolor": "#2a3f5f",
           "arrowhead": 0,
           "arrowwidth": 1
          },
          "autotypenumbers": "strict",
          "coloraxis": {
           "colorbar": {
            "outlinewidth": 0,
            "ticks": ""
           }
          },
          "colorscale": {
           "diverging": [
            [
             0,
             "#8e0152"
            ],
            [
             0.1,
             "#c51b7d"
            ],
            [
             0.2,
             "#de77ae"
            ],
            [
             0.3,
             "#f1b6da"
            ],
            [
             0.4,
             "#fde0ef"
            ],
            [
             0.5,
             "#f7f7f7"
            ],
            [
             0.6,
             "#e6f5d0"
            ],
            [
             0.7,
             "#b8e186"
            ],
            [
             0.8,
             "#7fbc41"
            ],
            [
             0.9,
             "#4d9221"
            ],
            [
             1,
             "#276419"
            ]
           ],
           "sequential": [
            [
             0,
             "#0d0887"
            ],
            [
             0.1111111111111111,
             "#46039f"
            ],
            [
             0.2222222222222222,
             "#7201a8"
            ],
            [
             0.3333333333333333,
             "#9c179e"
            ],
            [
             0.4444444444444444,
             "#bd3786"
            ],
            [
             0.5555555555555556,
             "#d8576b"
            ],
            [
             0.6666666666666666,
             "#ed7953"
            ],
            [
             0.7777777777777778,
             "#fb9f3a"
            ],
            [
             0.8888888888888888,
             "#fdca26"
            ],
            [
             1,
             "#f0f921"
            ]
           ],
           "sequentialminus": [
            [
             0,
             "#0d0887"
            ],
            [
             0.1111111111111111,
             "#46039f"
            ],
            [
             0.2222222222222222,
             "#7201a8"
            ],
            [
             0.3333333333333333,
             "#9c179e"
            ],
            [
             0.4444444444444444,
             "#bd3786"
            ],
            [
             0.5555555555555556,
             "#d8576b"
            ],
            [
             0.6666666666666666,
             "#ed7953"
            ],
            [
             0.7777777777777778,
             "#fb9f3a"
            ],
            [
             0.8888888888888888,
             "#fdca26"
            ],
            [
             1,
             "#f0f921"
            ]
           ]
          },
          "colorway": [
           "#636efa",
           "#EF553B",
           "#00cc96",
           "#ab63fa",
           "#FFA15A",
           "#19d3f3",
           "#FF6692",
           "#B6E880",
           "#FF97FF",
           "#FECB52"
          ],
          "font": {
           "color": "#2a3f5f"
          },
          "geo": {
           "bgcolor": "white",
           "lakecolor": "white",
           "landcolor": "#E5ECF6",
           "showlakes": true,
           "showland": true,
           "subunitcolor": "white"
          },
          "hoverlabel": {
           "align": "left"
          },
          "hovermode": "closest",
          "mapbox": {
           "style": "light"
          },
          "paper_bgcolor": "white",
          "plot_bgcolor": "#E5ECF6",
          "polar": {
           "angularaxis": {
            "gridcolor": "white",
            "linecolor": "white",
            "ticks": ""
           },
           "bgcolor": "#E5ECF6",
           "radialaxis": {
            "gridcolor": "white",
            "linecolor": "white",
            "ticks": ""
           }
          },
          "scene": {
           "xaxis": {
            "backgroundcolor": "#E5ECF6",
            "gridcolor": "white",
            "gridwidth": 2,
            "linecolor": "white",
            "showbackground": true,
            "ticks": "",
            "zerolinecolor": "white"
           },
           "yaxis": {
            "backgroundcolor": "#E5ECF6",
            "gridcolor": "white",
            "gridwidth": 2,
            "linecolor": "white",
            "showbackground": true,
            "ticks": "",
            "zerolinecolor": "white"
           },
           "zaxis": {
            "backgroundcolor": "#E5ECF6",
            "gridcolor": "white",
            "gridwidth": 2,
            "linecolor": "white",
            "showbackground": true,
            "ticks": "",
            "zerolinecolor": "white"
           }
          },
          "shapedefaults": {
           "line": {
            "color": "#2a3f5f"
           }
          },
          "ternary": {
           "aaxis": {
            "gridcolor": "white",
            "linecolor": "white",
            "ticks": ""
           },
           "baxis": {
            "gridcolor": "white",
            "linecolor": "white",
            "ticks": ""
           },
           "bgcolor": "#E5ECF6",
           "caxis": {
            "gridcolor": "white",
            "linecolor": "white",
            "ticks": ""
           }
          },
          "title": {
           "x": 0.05
          },
          "xaxis": {
           "automargin": true,
           "gridcolor": "white",
           "linecolor": "white",
           "ticks": "",
           "title": {
            "standoff": 15
           },
           "zerolinecolor": "white",
           "zerolinewidth": 2
          },
          "yaxis": {
           "automargin": true,
           "gridcolor": "white",
           "linecolor": "white",
           "ticks": "",
           "title": {
            "standoff": 15
           },
           "zerolinecolor": "white",
           "zerolinewidth": 2
          }
         }
        },
        "title": {
         "font": {
          "weight": 600
         },
         "text": "Average OUD Prevalence During 2016-2019",
         "x": 0.5,
         "xanchor": "center",
         "y": 0.99,
         "yanchor": "top"
        },
        "width": 1200
       }
      }
     },
     "metadata": {},
     "output_type": "display_data"
    }
   ],
   "source": [
    "# This cell contributed by Alex\n",
    "\n",
    "# Compare average OUD rates pre vs post expansion\n",
    "supertitle = 'Average OUD Prevalence During 2016-2019'\n",
    "rate_column = 'Avg_2016_2019'\n",
    "facet_column = 'Expansion_status'\n",
    "plots_per_row = 2\n",
    "avg_heatmap = draw_heatmap(all_pivot_df, rate_column, facet_column, plots_per_row, supertitle)\n",
    "avg_heatmap.show()"
   ]
  },
  {
   "cell_type": "markdown",
   "metadata": {},
   "source": [
    "We also created heatmaps for individual years to show the change in OUD prevalence over time pre- and post- expansion.\n",
    "\n",
    "In general, OUD rates decreased from 2016 to 2022 in both pre-expansion states and post-expansion states, suggesting that the decline in OUD rates was not solely due to Medicaid expansion. In addition, a few pre-expansion states (eg, Alabama) and post-expansion states (eg, Nevada) had consistently high OUD rates over time."
   ]
  },
  {
   "cell_type": "code",
   "execution_count": null,
   "metadata": {},
   "outputs": [
    {
     "data": {
      "application/vnd.plotly.v1+json": {
       "config": {
        "plotlyServerURL": "https://plot.ly"
       },
       "data": [
        {
         "coloraxis": "coloraxis",
         "geo": "geo4",
         "hovertemplate": "<b>%{hovertext}</b><br><br>rpt_yr=2016<br>Abbrev=%{location}<br>% OUD=%{z}<extra></extra>",
         "hovertext": [
          "AL",
          "FL",
          "GA",
          "KS",
          "MS",
          "SC",
          "TN",
          "TX",
          "WI",
          "WY"
         ],
         "locationmode": "USA-states",
         "locations": [
          "AL",
          "FL",
          "GA",
          "KS",
          "MS",
          "SC",
          "TN",
          "TX",
          "WI",
          "WY"
         ],
         "name": "",
         "type": "choropleth",
         "z": [
          5.3,
          4,
          3.8,
          4.2,
          4.5,
          4.6,
          4.8,
          4.6,
          3.3000000000000003,
          3.8
         ]
        },
        {
         "coloraxis": "coloraxis",
         "geo": "geo5",
         "hovertemplate": "<b>%{hovertext}</b><br><br>rpt_yr=2017<br>Abbrev=%{location}<br>% OUD=%{z}<extra></extra>",
         "hovertext": [
          "AL",
          "FL",
          "GA",
          "KS",
          "MS",
          "SC",
          "TN",
          "TX",
          "WI",
          "WY"
         ],
         "locationmode": "USA-states",
         "locations": [
          "AL",
          "FL",
          "GA",
          "KS",
          "MS",
          "SC",
          "TN",
          "TX",
          "WI",
          "WY"
         ],
         "name": "",
         "type": "choropleth",
         "z": [
          4.3999999999999995,
          4.3999999999999995,
          3.2,
          4.6,
          4,
          4.3,
          3.9,
          4,
          3.1,
          3.3000000000000003
         ]
        },
        {
         "coloraxis": "coloraxis",
         "geo": "geo6",
         "hovertemplate": "<b>%{hovertext}</b><br><br>rpt_yr=2018<br>Abbrev=%{location}<br>% OUD=%{z}<extra></extra>",
         "hovertext": [
          "AL",
          "FL",
          "GA",
          "KS",
          "MS",
          "SC",
          "TN",
          "TX",
          "WI",
          "WY"
         ],
         "locationmode": "USA-states",
         "locations": [
          "AL",
          "FL",
          "GA",
          "KS",
          "MS",
          "SC",
          "TN",
          "TX",
          "WI",
          "WY"
         ],
         "name": "",
         "type": "choropleth",
         "z": [
          5.2,
          4.6,
          3.5000000000000004,
          3.9,
          4.6,
          3.8,
          3.5000000000000004,
          3.5999999999999996,
          4.3,
          3
         ]
        },
        {
         "coloraxis": "coloraxis",
         "geo": "geo",
         "hovertemplate": "<b>%{hovertext}</b><br><br>rpt_yr=2019<br>Abbrev=%{location}<br>% OUD=%{z}<extra></extra>",
         "hovertext": [
          "AL",
          "FL",
          "GA",
          "KS",
          "MS",
          "SC",
          "TN",
          "TX",
          "WI",
          "WY"
         ],
         "locationmode": "USA-states",
         "locations": [
          "AL",
          "FL",
          "GA",
          "KS",
          "MS",
          "SC",
          "TN",
          "TX",
          "WI",
          "WY"
         ],
         "name": "",
         "type": "choropleth",
         "z": [
          5.3,
          3.9,
          3.5000000000000004,
          4,
          4.3999999999999995,
          3.5000000000000004,
          3.3000000000000003,
          3.5000000000000004,
          4,
          2.6
         ]
        },
        {
         "coloraxis": "coloraxis",
         "geo": "geo2",
         "hovertemplate": "<b>%{hovertext}</b><br><br>rpt_yr=2022<br>Abbrev=%{location}<br>% OUD=%{z}<extra></extra>",
         "hovertext": [
          "AL",
          "FL",
          "GA",
          "KS",
          "MS",
          "SC",
          "TN",
          "TX",
          "WI",
          "WY"
         ],
         "locationmode": "USA-states",
         "locations": [
          "AL",
          "FL",
          "GA",
          "KS",
          "MS",
          "SC",
          "TN",
          "TX",
          "WI",
          "WY"
         ],
         "name": "",
         "type": "choropleth",
         "z": [
          4.9,
          2.1999999999999997,
          2.8000000000000003,
          3.2,
          3.5999999999999996,
          2.9000000000000004,
          4.2,
          3.1,
          2.3,
          3.3000000000000003
         ]
        }
       ],
       "layout": {
        "annotations": [
         {
          "font": {
           "size": 16
          },
          "showarrow": false,
          "text": "2019",
          "x": 0.15999999999999998,
          "xanchor": "center",
          "xref": "paper",
          "y": 0.46499999999999997,
          "yanchor": "bottom",
          "yref": "paper"
         },
         {
          "font": {
           "size": 16
          },
          "showarrow": false,
          "text": "2022",
          "x": 0.49999999999999994,
          "xanchor": "center",
          "xref": "paper",
          "y": 0.46499999999999997,
          "yanchor": "bottom",
          "yref": "paper"
         },
         {
          "font": {
           "size": 16
          },
          "showarrow": false,
          "text": "2016",
          "x": 0.15999999999999998,
          "xanchor": "center",
          "xref": "paper",
          "y": 0.9999999999999999,
          "yanchor": "bottom",
          "yref": "paper"
         },
         {
          "font": {
           "size": 16
          },
          "showarrow": false,
          "text": "2017",
          "x": 0.49999999999999994,
          "xanchor": "center",
          "xref": "paper",
          "y": 0.9999999999999999,
          "yanchor": "bottom",
          "yref": "paper"
         },
         {
          "font": {
           "size": 16
          },
          "showarrow": false,
          "text": "2018",
          "x": 0.8399999999999999,
          "xanchor": "center",
          "xref": "paper",
          "y": 0.9999999999999999,
          "yanchor": "bottom",
          "yref": "paper"
         }
        ],
        "autosize": false,
        "coloraxis": {
         "colorbar": {
          "title": {
           "text": "% OUD"
          }
         },
         "colorscale": [
          [
           0,
           "rgb(5,48,97)"
          ],
          [
           0.1,
           "rgb(33,102,172)"
          ],
          [
           0.2,
           "rgb(67,147,195)"
          ],
          [
           0.3,
           "rgb(146,197,222)"
          ],
          [
           0.4,
           "rgb(209,229,240)"
          ],
          [
           0.5,
           "rgb(247,247,247)"
          ],
          [
           0.6,
           "rgb(253,219,199)"
          ],
          [
           0.7,
           "rgb(244,165,130)"
          ],
          [
           0.8,
           "rgb(214,96,77)"
          ],
          [
           0.9,
           "rgb(178,24,43)"
          ],
          [
           1,
           "rgb(103,0,31)"
          ]
         ]
        },
        "geo": {
         "center": {},
         "domain": {
          "x": [
           0,
           0.31999999999999995
          ],
          "y": [
           0,
           0.46499999999999997
          ]
         },
         "scope": "usa"
        },
        "geo2": {
         "center": {},
         "domain": {
          "x": [
           0.33999999999999997,
           0.6599999999999999
          ],
          "y": [
           0,
           0.46499999999999997
          ]
         },
         "scope": "usa"
        },
        "geo3": {
         "center": {},
         "domain": {
          "x": [
           0.6799999999999999,
           0.9999999999999999
          ],
          "y": [
           0,
           0.46499999999999997
          ]
         },
         "scope": "usa"
        },
        "geo4": {
         "center": {},
         "domain": {
          "x": [
           0,
           0.31999999999999995
          ],
          "y": [
           0.5349999999999999,
           0.9999999999999999
          ]
         },
         "scope": "usa"
        },
        "geo5": {
         "center": {},
         "domain": {
          "x": [
           0.33999999999999997,
           0.6599999999999999
          ],
          "y": [
           0.5349999999999999,
           0.9999999999999999
          ]
         },
         "scope": "usa"
        },
        "geo6": {
         "center": {},
         "domain": {
          "x": [
           0.6799999999999999,
           0.9999999999999999
          ],
          "y": [
           0.5349999999999999,
           0.9999999999999999
          ]
         },
         "scope": "usa"
        },
        "height": 600,
        "legend": {
         "tracegroupgap": 0
        },
        "margin": {
         "t": 60
        },
        "template": {
         "data": {
          "bar": [
           {
            "error_x": {
             "color": "#2a3f5f"
            },
            "error_y": {
             "color": "#2a3f5f"
            },
            "marker": {
             "line": {
              "color": "#E5ECF6",
              "width": 0.5
             },
             "pattern": {
              "fillmode": "overlay",
              "size": 10,
              "solidity": 0.2
             }
            },
            "type": "bar"
           }
          ],
          "barpolar": [
           {
            "marker": {
             "line": {
              "color": "#E5ECF6",
              "width": 0.5
             },
             "pattern": {
              "fillmode": "overlay",
              "size": 10,
              "solidity": 0.2
             }
            },
            "type": "barpolar"
           }
          ],
          "carpet": [
           {
            "aaxis": {
             "endlinecolor": "#2a3f5f",
             "gridcolor": "white",
             "linecolor": "white",
             "minorgridcolor": "white",
             "startlinecolor": "#2a3f5f"
            },
            "baxis": {
             "endlinecolor": "#2a3f5f",
             "gridcolor": "white",
             "linecolor": "white",
             "minorgridcolor": "white",
             "startlinecolor": "#2a3f5f"
            },
            "type": "carpet"
           }
          ],
          "choropleth": [
           {
            "colorbar": {
             "outlinewidth": 0,
             "ticks": ""
            },
            "type": "choropleth"
           }
          ],
          "contour": [
           {
            "colorbar": {
             "outlinewidth": 0,
             "ticks": ""
            },
            "colorscale": [
             [
              0,
              "#0d0887"
             ],
             [
              0.1111111111111111,
              "#46039f"
             ],
             [
              0.2222222222222222,
              "#7201a8"
             ],
             [
              0.3333333333333333,
              "#9c179e"
             ],
             [
              0.4444444444444444,
              "#bd3786"
             ],
             [
              0.5555555555555556,
              "#d8576b"
             ],
             [
              0.6666666666666666,
              "#ed7953"
             ],
             [
              0.7777777777777778,
              "#fb9f3a"
             ],
             [
              0.8888888888888888,
              "#fdca26"
             ],
             [
              1,
              "#f0f921"
             ]
            ],
            "type": "contour"
           }
          ],
          "contourcarpet": [
           {
            "colorbar": {
             "outlinewidth": 0,
             "ticks": ""
            },
            "type": "contourcarpet"
           }
          ],
          "heatmap": [
           {
            "colorbar": {
             "outlinewidth": 0,
             "ticks": ""
            },
            "colorscale": [
             [
              0,
              "#0d0887"
             ],
             [
              0.1111111111111111,
              "#46039f"
             ],
             [
              0.2222222222222222,
              "#7201a8"
             ],
             [
              0.3333333333333333,
              "#9c179e"
             ],
             [
              0.4444444444444444,
              "#bd3786"
             ],
             [
              0.5555555555555556,
              "#d8576b"
             ],
             [
              0.6666666666666666,
              "#ed7953"
             ],
             [
              0.7777777777777778,
              "#fb9f3a"
             ],
             [
              0.8888888888888888,
              "#fdca26"
             ],
             [
              1,
              "#f0f921"
             ]
            ],
            "type": "heatmap"
           }
          ],
          "heatmapgl": [
           {
            "colorbar": {
             "outlinewidth": 0,
             "ticks": ""
            },
            "colorscale": [
             [
              0,
              "#0d0887"
             ],
             [
              0.1111111111111111,
              "#46039f"
             ],
             [
              0.2222222222222222,
              "#7201a8"
             ],
             [
              0.3333333333333333,
              "#9c179e"
             ],
             [
              0.4444444444444444,
              "#bd3786"
             ],
             [
              0.5555555555555556,
              "#d8576b"
             ],
             [
              0.6666666666666666,
              "#ed7953"
             ],
             [
              0.7777777777777778,
              "#fb9f3a"
             ],
             [
              0.8888888888888888,
              "#fdca26"
             ],
             [
              1,
              "#f0f921"
             ]
            ],
            "type": "heatmapgl"
           }
          ],
          "histogram": [
           {
            "marker": {
             "pattern": {
              "fillmode": "overlay",
              "size": 10,
              "solidity": 0.2
             }
            },
            "type": "histogram"
           }
          ],
          "histogram2d": [
           {
            "colorbar": {
             "outlinewidth": 0,
             "ticks": ""
            },
            "colorscale": [
             [
              0,
              "#0d0887"
             ],
             [
              0.1111111111111111,
              "#46039f"
             ],
             [
              0.2222222222222222,
              "#7201a8"
             ],
             [
              0.3333333333333333,
              "#9c179e"
             ],
             [
              0.4444444444444444,
              "#bd3786"
             ],
             [
              0.5555555555555556,
              "#d8576b"
             ],
             [
              0.6666666666666666,
              "#ed7953"
             ],
             [
              0.7777777777777778,
              "#fb9f3a"
             ],
             [
              0.8888888888888888,
              "#fdca26"
             ],
             [
              1,
              "#f0f921"
             ]
            ],
            "type": "histogram2d"
           }
          ],
          "histogram2dcontour": [
           {
            "colorbar": {
             "outlinewidth": 0,
             "ticks": ""
            },
            "colorscale": [
             [
              0,
              "#0d0887"
             ],
             [
              0.1111111111111111,
              "#46039f"
             ],
             [
              0.2222222222222222,
              "#7201a8"
             ],
             [
              0.3333333333333333,
              "#9c179e"
             ],
             [
              0.4444444444444444,
              "#bd3786"
             ],
             [
              0.5555555555555556,
              "#d8576b"
             ],
             [
              0.6666666666666666,
              "#ed7953"
             ],
             [
              0.7777777777777778,
              "#fb9f3a"
             ],
             [
              0.8888888888888888,
              "#fdca26"
             ],
             [
              1,
              "#f0f921"
             ]
            ],
            "type": "histogram2dcontour"
           }
          ],
          "mesh3d": [
           {
            "colorbar": {
             "outlinewidth": 0,
             "ticks": ""
            },
            "type": "mesh3d"
           }
          ],
          "parcoords": [
           {
            "line": {
             "colorbar": {
              "outlinewidth": 0,
              "ticks": ""
             }
            },
            "type": "parcoords"
           }
          ],
          "pie": [
           {
            "automargin": true,
            "type": "pie"
           }
          ],
          "scatter": [
           {
            "fillpattern": {
             "fillmode": "overlay",
             "size": 10,
             "solidity": 0.2
            },
            "type": "scatter"
           }
          ],
          "scatter3d": [
           {
            "line": {
             "colorbar": {
              "outlinewidth": 0,
              "ticks": ""
             }
            },
            "marker": {
             "colorbar": {
              "outlinewidth": 0,
              "ticks": ""
             }
            },
            "type": "scatter3d"
           }
          ],
          "scattercarpet": [
           {
            "marker": {
             "colorbar": {
              "outlinewidth": 0,
              "ticks": ""
             }
            },
            "type": "scattercarpet"
           }
          ],
          "scattergeo": [
           {
            "marker": {
             "colorbar": {
              "outlinewidth": 0,
              "ticks": ""
             }
            },
            "type": "scattergeo"
           }
          ],
          "scattergl": [
           {
            "marker": {
             "colorbar": {
              "outlinewidth": 0,
              "ticks": ""
             }
            },
            "type": "scattergl"
           }
          ],
          "scattermapbox": [
           {
            "marker": {
             "colorbar": {
              "outlinewidth": 0,
              "ticks": ""
             }
            },
            "type": "scattermapbox"
           }
          ],
          "scatterpolar": [
           {
            "marker": {
             "colorbar": {
              "outlinewidth": 0,
              "ticks": ""
             }
            },
            "type": "scatterpolar"
           }
          ],
          "scatterpolargl": [
           {
            "marker": {
             "colorbar": {
              "outlinewidth": 0,
              "ticks": ""
             }
            },
            "type": "scatterpolargl"
           }
          ],
          "scatterternary": [
           {
            "marker": {
             "colorbar": {
              "outlinewidth": 0,
              "ticks": ""
             }
            },
            "type": "scatterternary"
           }
          ],
          "surface": [
           {
            "colorbar": {
             "outlinewidth": 0,
             "ticks": ""
            },
            "colorscale": [
             [
              0,
              "#0d0887"
             ],
             [
              0.1111111111111111,
              "#46039f"
             ],
             [
              0.2222222222222222,
              "#7201a8"
             ],
             [
              0.3333333333333333,
              "#9c179e"
             ],
             [
              0.4444444444444444,
              "#bd3786"
             ],
             [
              0.5555555555555556,
              "#d8576b"
             ],
             [
              0.6666666666666666,
              "#ed7953"
             ],
             [
              0.7777777777777778,
              "#fb9f3a"
             ],
             [
              0.8888888888888888,
              "#fdca26"
             ],
             [
              1,
              "#f0f921"
             ]
            ],
            "type": "surface"
           }
          ],
          "table": [
           {
            "cells": {
             "fill": {
              "color": "#EBF0F8"
             },
             "line": {
              "color": "white"
             }
            },
            "header": {
             "fill": {
              "color": "#C8D4E3"
             },
             "line": {
              "color": "white"
             }
            },
            "type": "table"
           }
          ]
         },
         "layout": {
          "annotationdefaults": {
           "arrowcolor": "#2a3f5f",
           "arrowhead": 0,
           "arrowwidth": 1
          },
          "autotypenumbers": "strict",
          "coloraxis": {
           "colorbar": {
            "outlinewidth": 0,
            "ticks": ""
           }
          },
          "colorscale": {
           "diverging": [
            [
             0,
             "#8e0152"
            ],
            [
             0.1,
             "#c51b7d"
            ],
            [
             0.2,
             "#de77ae"
            ],
            [
             0.3,
             "#f1b6da"
            ],
            [
             0.4,
             "#fde0ef"
            ],
            [
             0.5,
             "#f7f7f7"
            ],
            [
             0.6,
             "#e6f5d0"
            ],
            [
             0.7,
             "#b8e186"
            ],
            [
             0.8,
             "#7fbc41"
            ],
            [
             0.9,
             "#4d9221"
            ],
            [
             1,
             "#276419"
            ]
           ],
           "sequential": [
            [
             0,
             "#0d0887"
            ],
            [
             0.1111111111111111,
             "#46039f"
            ],
            [
             0.2222222222222222,
             "#7201a8"
            ],
            [
             0.3333333333333333,
             "#9c179e"
            ],
            [
             0.4444444444444444,
             "#bd3786"
            ],
            [
             0.5555555555555556,
             "#d8576b"
            ],
            [
             0.6666666666666666,
             "#ed7953"
            ],
            [
             0.7777777777777778,
             "#fb9f3a"
            ],
            [
             0.8888888888888888,
             "#fdca26"
            ],
            [
             1,
             "#f0f921"
            ]
           ],
           "sequentialminus": [
            [
             0,
             "#0d0887"
            ],
            [
             0.1111111111111111,
             "#46039f"
            ],
            [
             0.2222222222222222,
             "#7201a8"
            ],
            [
             0.3333333333333333,
             "#9c179e"
            ],
            [
             0.4444444444444444,
             "#bd3786"
            ],
            [
             0.5555555555555556,
             "#d8576b"
            ],
            [
             0.6666666666666666,
             "#ed7953"
            ],
            [
             0.7777777777777778,
             "#fb9f3a"
            ],
            [
             0.8888888888888888,
             "#fdca26"
            ],
            [
             1,
             "#f0f921"
            ]
           ]
          },
          "colorway": [
           "#636efa",
           "#EF553B",
           "#00cc96",
           "#ab63fa",
           "#FFA15A",
           "#19d3f3",
           "#FF6692",
           "#B6E880",
           "#FF97FF",
           "#FECB52"
          ],
          "font": {
           "color": "#2a3f5f"
          },
          "geo": {
           "bgcolor": "white",
           "lakecolor": "white",
           "landcolor": "#E5ECF6",
           "showlakes": true,
           "showland": true,
           "subunitcolor": "white"
          },
          "hoverlabel": {
           "align": "left"
          },
          "hovermode": "closest",
          "mapbox": {
           "style": "light"
          },
          "paper_bgcolor": "white",
          "plot_bgcolor": "#E5ECF6",
          "polar": {
           "angularaxis": {
            "gridcolor": "white",
            "linecolor": "white",
            "ticks": ""
           },
           "bgcolor": "#E5ECF6",
           "radialaxis": {
            "gridcolor": "white",
            "linecolor": "white",
            "ticks": ""
           }
          },
          "scene": {
           "xaxis": {
            "backgroundcolor": "#E5ECF6",
            "gridcolor": "white",
            "gridwidth": 2,
            "linecolor": "white",
            "showbackground": true,
            "ticks": "",
            "zerolinecolor": "white"
           },
           "yaxis": {
            "backgroundcolor": "#E5ECF6",
            "gridcolor": "white",
            "gridwidth": 2,
            "linecolor": "white",
            "showbackground": true,
            "ticks": "",
            "zerolinecolor": "white"
           },
           "zaxis": {
            "backgroundcolor": "#E5ECF6",
            "gridcolor": "white",
            "gridwidth": 2,
            "linecolor": "white",
            "showbackground": true,
            "ticks": "",
            "zerolinecolor": "white"
           }
          },
          "shapedefaults": {
           "line": {
            "color": "#2a3f5f"
           }
          },
          "ternary": {
           "aaxis": {
            "gridcolor": "white",
            "linecolor": "white",
            "ticks": ""
           },
           "baxis": {
            "gridcolor": "white",
            "linecolor": "white",
            "ticks": ""
           },
           "bgcolor": "#E5ECF6",
           "caxis": {
            "gridcolor": "white",
            "linecolor": "white",
            "ticks": ""
           }
          },
          "title": {
           "x": 0.05
          },
          "xaxis": {
           "automargin": true,
           "gridcolor": "white",
           "linecolor": "white",
           "ticks": "",
           "title": {
            "standoff": 15
           },
           "zerolinecolor": "white",
           "zerolinewidth": 2
          },
          "yaxis": {
           "automargin": true,
           "gridcolor": "white",
           "linecolor": "white",
           "ticks": "",
           "title": {
            "standoff": 15
           },
           "zerolinecolor": "white",
           "zerolinewidth": 2
          }
         }
        },
        "title": {
         "font": {
          "weight": 600
         },
         "text": "OUD Prevalence Pre-Medicaid Expansion",
         "x": 0.5,
         "xanchor": "center",
         "y": 0.99,
         "yanchor": "top"
        },
        "width": 1200
       }
      }
     },
     "metadata": {},
     "output_type": "display_data"
    }
   ],
   "source": [
    "# Author: Alex\n",
    "\n",
    "# Annual changes in OUD rates pre-expansion\n",
    "supertitle = 'OUD Prevalence Pre-Medicaid Expansion'\n",
    "rate_column = 'Scaled Row %'\n",
    "facet_column = 'rpt_yr'\n",
    "plots_per_row = 3\n",
    "pre_heatmap = draw_heatmap(not_expanded_df, rate_column, facet_column, plots_per_row, supertitle)\n",
    "pre_heatmap.show()"
   ]
  },
  {
   "cell_type": "code",
   "execution_count": null,
   "metadata": {},
   "outputs": [
    {
     "data": {
      "application/vnd.plotly.v1+json": {
       "config": {
        "plotlyServerURL": "https://plot.ly"
       },
       "data": [
        {
         "coloraxis": "coloraxis",
         "geo": "geo4",
         "hovertemplate": "<b>%{hovertext}</b><br><br>rpt_yr=2016<br>Abbrev=%{location}<br>% OUD=%{z}<extra></extra>",
         "hovertext": [
          "AK",
          "AR",
          "AZ",
          "CA",
          "CO",
          "CT",
          "DE",
          "HI",
          "IA",
          "ID",
          "IL",
          "IN",
          "KY",
          "LA",
          "MA",
          "MD",
          "ME",
          "MI",
          "MN",
          "MO",
          "MT",
          "NC",
          "ND",
          "NE",
          "NH",
          "NJ",
          "NM",
          "NV",
          "NY",
          "OH",
          "OK",
          "OR",
          "PA",
          "RI",
          "SD",
          "UT",
          "VA",
          "VT",
          "WA",
          "WV"
         ],
         "locationmode": "USA-states",
         "locations": [
          "AK",
          "AR",
          "AZ",
          "CA",
          "CO",
          "CT",
          "DE",
          "HI",
          "IA",
          "ID",
          "IL",
          "IN",
          "KY",
          "LA",
          "MA",
          "MD",
          "ME",
          "MI",
          "MN",
          "MO",
          "MT",
          "NC",
          "ND",
          "NE",
          "NH",
          "NJ",
          "NM",
          "NV",
          "NY",
          "OH",
          "OK",
          "OR",
          "PA",
          "RI",
          "SD",
          "UT",
          "VA",
          "VT",
          "WA",
          "WV"
         ],
         "name": "",
         "type": "choropleth",
         "z": [
          4.6,
          4.8,
          4.7,
          4.8,
          5.6000000000000005,
          5.2,
          4.7,
          4.5,
          3.3000000000000003,
          5.1,
          3.8,
          5.1,
          5.2,
          4.6,
          3.5999999999999996,
          3.9,
          2.8000000000000003,
          5.1,
          4.1000000000000005,
          4.2,
          4.7,
          4.9,
          3.6999999999999997,
          3.5999999999999996,
          5.1,
          3.5000000000000004,
          4.1000000000000005,
          5.7,
          3.6999999999999997,
          4.6,
          4.2,
          5.7,
          4.5,
          5.2,
          4,
          5.1,
          3.8,
          5,
          6.5,
          3.8
         ]
        },
        {
         "coloraxis": "coloraxis",
         "geo": "geo5",
         "hovertemplate": "<b>%{hovertext}</b><br><br>rpt_yr=2017<br>Abbrev=%{location}<br>% OUD=%{z}<extra></extra>",
         "hovertext": [
          "AK",
          "AR",
          "AZ",
          "CA",
          "CO",
          "CT",
          "DE",
          "HI",
          "IA",
          "ID",
          "IL",
          "IN",
          "KY",
          "LA",
          "MA",
          "MD",
          "ME",
          "MI",
          "MN",
          "MO",
          "MT",
          "NC",
          "ND",
          "NE",
          "NH",
          "NJ",
          "NM",
          "NV",
          "NY",
          "OH",
          "OK",
          "OR",
          "PA",
          "RI",
          "SD",
          "UT",
          "VA",
          "VT",
          "WA",
          "WV"
         ],
         "locationmode": "USA-states",
         "locations": [
          "AK",
          "AR",
          "AZ",
          "CA",
          "CO",
          "CT",
          "DE",
          "HI",
          "IA",
          "ID",
          "IL",
          "IN",
          "KY",
          "LA",
          "MA",
          "MD",
          "ME",
          "MI",
          "MN",
          "MO",
          "MT",
          "NC",
          "ND",
          "NE",
          "NH",
          "NJ",
          "NM",
          "NV",
          "NY",
          "OH",
          "OK",
          "OR",
          "PA",
          "RI",
          "SD",
          "UT",
          "VA",
          "VT",
          "WA",
          "WV"
         ],
         "name": "",
         "type": "choropleth",
         "z": [
          5.1,
          5.7,
          4.2,
          4.3999999999999995,
          5.2,
          4.5,
          4.5,
          3.5999999999999996,
          4.1000000000000005,
          3.8,
          3.4000000000000004,
          5.5,
          4.3999999999999995,
          4.2,
          3.1,
          3.5999999999999996,
          3.2,
          4.5,
          4.1000000000000005,
          4.1000000000000005,
          4.3999999999999995,
          4.2,
          3.2,
          2.9000000000000004,
          4.3,
          3.4000000000000004,
          3.9,
          6,
          3.2,
          5,
          3.9,
          5.8999999999999995,
          4.3999999999999995,
          4.7,
          4.5,
          5,
          3.5999999999999996,
          3.9,
          5.5,
          3.5999999999999996
         ]
        },
        {
         "coloraxis": "coloraxis",
         "geo": "geo6",
         "hovertemplate": "<b>%{hovertext}</b><br><br>rpt_yr=2018<br>Abbrev=%{location}<br>% OUD=%{z}<extra></extra>",
         "hovertext": [
          "AK",
          "AR",
          "AZ",
          "CA",
          "CO",
          "CT",
          "DE",
          "HI",
          "IA",
          "ID",
          "IL",
          "IN",
          "KY",
          "LA",
          "MA",
          "MD",
          "ME",
          "MI",
          "MN",
          "MO",
          "MT",
          "NC",
          "ND",
          "NE",
          "NH",
          "NJ",
          "NM",
          "NV",
          "NY",
          "OH",
          "OK",
          "OR",
          "PA",
          "RI",
          "SD",
          "UT",
          "VA",
          "VT",
          "WA",
          "WV"
         ],
         "locationmode": "USA-states",
         "locations": [
          "AK",
          "AR",
          "AZ",
          "CA",
          "CO",
          "CT",
          "DE",
          "HI",
          "IA",
          "ID",
          "IL",
          "IN",
          "KY",
          "LA",
          "MA",
          "MD",
          "ME",
          "MI",
          "MN",
          "MO",
          "MT",
          "NC",
          "ND",
          "NE",
          "NH",
          "NJ",
          "NM",
          "NV",
          "NY",
          "OH",
          "OK",
          "OR",
          "PA",
          "RI",
          "SD",
          "UT",
          "VA",
          "VT",
          "WA",
          "WV"
         ],
         "name": "",
         "type": "choropleth",
         "z": [
          5.4,
          5.3,
          4.3,
          3.9,
          5.5,
          3.8,
          3.6999999999999997,
          3.6999999999999997,
          4,
          4.6,
          2.7,
          5.1,
          4.3999999999999995,
          4.9,
          3.3000000000000003,
          3.5000000000000004,
          3.2,
          3.8,
          3.5000000000000004,
          4.1000000000000005,
          4.1000000000000005,
          3.2,
          3.1,
          3.1,
          3.6999999999999997,
          3.1,
          3.5999999999999996,
          5.7,
          2.8000000000000003,
          4.3999999999999995,
          4,
          5,
          3.6999999999999997,
          3.9,
          3.6999999999999997,
          3.4000000000000004,
          3.4000000000000004,
          3.3000000000000003,
          4.1000000000000005,
          3.2
         ]
        },
        {
         "coloraxis": "coloraxis",
         "geo": "geo",
         "hovertemplate": "<b>%{hovertext}</b><br><br>rpt_yr=2019<br>Abbrev=%{location}<br>% OUD=%{z}<extra></extra>",
         "hovertext": [
          "AK",
          "AR",
          "AZ",
          "CA",
          "CO",
          "CT",
          "DE",
          "HI",
          "IA",
          "ID",
          "IL",
          "IN",
          "KY",
          "LA",
          "MA",
          "MD",
          "ME",
          "MI",
          "MN",
          "MO",
          "MT",
          "NC",
          "ND",
          "NE",
          "NH",
          "NJ",
          "NM",
          "NV",
          "NY",
          "OH",
          "OK",
          "OR",
          "PA",
          "RI",
          "SD",
          "UT",
          "VA",
          "VT",
          "WA",
          "WV"
         ],
         "locationmode": "USA-states",
         "locations": [
          "AK",
          "AR",
          "AZ",
          "CA",
          "CO",
          "CT",
          "DE",
          "HI",
          "IA",
          "ID",
          "IL",
          "IN",
          "KY",
          "LA",
          "MA",
          "MD",
          "ME",
          "MI",
          "MN",
          "MO",
          "MT",
          "NC",
          "ND",
          "NE",
          "NH",
          "NJ",
          "NM",
          "NV",
          "NY",
          "OH",
          "OK",
          "OR",
          "PA",
          "RI",
          "SD",
          "UT",
          "VA",
          "VT",
          "WA",
          "WV"
         ],
         "name": "",
         "type": "choropleth",
         "z": [
          4.2,
          3.5000000000000004,
          4,
          3.6999999999999997,
          4.6,
          3.1,
          3.4000000000000004,
          4.2,
          4.3999999999999995,
          4.3999999999999995,
          2.4,
          3.6999999999999997,
          4.6,
          4.3,
          2.8000000000000003,
          3.4000000000000004,
          2.8000000000000003,
          3.9,
          3.5000000000000004,
          3.4000000000000004,
          4.5,
          3.5000000000000004,
          3.5999999999999996,
          2.4,
          3.1,
          2.8000000000000003,
          3.6999999999999997,
          4.1000000000000005,
          2.7,
          4.1000000000000005,
          4,
          5.1,
          3,
          3.1,
          2.4,
          3.5999999999999996,
          3.4000000000000004,
          3.2,
          4.3,
          2.7
         ]
        },
        {
         "coloraxis": "coloraxis",
         "geo": "geo2",
         "hovertemplate": "<b>%{hovertext}</b><br><br>rpt_yr=2022<br>Abbrev=%{location}<br>% OUD=%{z}<extra></extra>",
         "hovertext": [
          "AK",
          "AR",
          "AZ",
          "CA",
          "CO",
          "CT",
          "DE",
          "HI",
          "IA",
          "ID",
          "IL",
          "IN",
          "KY",
          "LA",
          "MA",
          "MD",
          "ME",
          "MI",
          "MN",
          "MO",
          "MT",
          "NC",
          "ND",
          "NE",
          "NH",
          "NJ",
          "NM",
          "NV",
          "NY",
          "OH",
          "OK",
          "OR",
          "PA",
          "RI",
          "SD",
          "UT",
          "VA",
          "VT",
          "WA",
          "WV"
         ],
         "locationmode": "USA-states",
         "locations": [
          "AK",
          "AR",
          "AZ",
          "CA",
          "CO",
          "CT",
          "DE",
          "HI",
          "IA",
          "ID",
          "IL",
          "IN",
          "KY",
          "LA",
          "MA",
          "MD",
          "ME",
          "MI",
          "MN",
          "MO",
          "MT",
          "NC",
          "ND",
          "NE",
          "NH",
          "NJ",
          "NM",
          "NV",
          "NY",
          "OH",
          "OK",
          "OR",
          "PA",
          "RI",
          "SD",
          "UT",
          "VA",
          "VT",
          "WA",
          "WV"
         ],
         "name": "",
         "type": "choropleth",
         "z": [
          3,
          4.3,
          3.4000000000000004,
          3,
          3.1,
          2.7,
          3.1,
          3.3000000000000003,
          2.8000000000000003,
          3.5000000000000004,
          2.7,
          3.1,
          3.9,
          4.7,
          2.5,
          4.5,
          1.3,
          2.3,
          2.1999999999999997,
          4.3999999999999995,
          2.6,
          2.7,
          2.3,
          1.9,
          1.7999999999999998,
          2.6,
          4.5,
          5.2,
          2.9000000000000004,
          3.2,
          4,
          4,
          3,
          3.6999999999999997,
          2.1,
          3.5999999999999996,
          2.7,
          2.5,
          2.4,
          3.5999999999999996
         ]
        }
       ],
       "layout": {
        "annotations": [
         {
          "font": {
           "size": 16
          },
          "showarrow": false,
          "text": "2019",
          "x": 0.15999999999999998,
          "xanchor": "center",
          "xref": "paper",
          "y": 0.46499999999999997,
          "yanchor": "bottom",
          "yref": "paper"
         },
         {
          "font": {
           "size": 16
          },
          "showarrow": false,
          "text": "2022",
          "x": 0.49999999999999994,
          "xanchor": "center",
          "xref": "paper",
          "y": 0.46499999999999997,
          "yanchor": "bottom",
          "yref": "paper"
         },
         {
          "font": {
           "size": 16
          },
          "showarrow": false,
          "text": "2016",
          "x": 0.15999999999999998,
          "xanchor": "center",
          "xref": "paper",
          "y": 0.9999999999999999,
          "yanchor": "bottom",
          "yref": "paper"
         },
         {
          "font": {
           "size": 16
          },
          "showarrow": false,
          "text": "2017",
          "x": 0.49999999999999994,
          "xanchor": "center",
          "xref": "paper",
          "y": 0.9999999999999999,
          "yanchor": "bottom",
          "yref": "paper"
         },
         {
          "font": {
           "size": 16
          },
          "showarrow": false,
          "text": "2018",
          "x": 0.8399999999999999,
          "xanchor": "center",
          "xref": "paper",
          "y": 0.9999999999999999,
          "yanchor": "bottom",
          "yref": "paper"
         }
        ],
        "autosize": false,
        "coloraxis": {
         "colorbar": {
          "title": {
           "text": "% OUD"
          }
         },
         "colorscale": [
          [
           0,
           "rgb(5,48,97)"
          ],
          [
           0.1,
           "rgb(33,102,172)"
          ],
          [
           0.2,
           "rgb(67,147,195)"
          ],
          [
           0.3,
           "rgb(146,197,222)"
          ],
          [
           0.4,
           "rgb(209,229,240)"
          ],
          [
           0.5,
           "rgb(247,247,247)"
          ],
          [
           0.6,
           "rgb(253,219,199)"
          ],
          [
           0.7,
           "rgb(244,165,130)"
          ],
          [
           0.8,
           "rgb(214,96,77)"
          ],
          [
           0.9,
           "rgb(178,24,43)"
          ],
          [
           1,
           "rgb(103,0,31)"
          ]
         ]
        },
        "geo": {
         "center": {},
         "domain": {
          "x": [
           0,
           0.31999999999999995
          ],
          "y": [
           0,
           0.46499999999999997
          ]
         },
         "scope": "usa"
        },
        "geo2": {
         "center": {},
         "domain": {
          "x": [
           0.33999999999999997,
           0.6599999999999999
          ],
          "y": [
           0,
           0.46499999999999997
          ]
         },
         "scope": "usa"
        },
        "geo3": {
         "center": {},
         "domain": {
          "x": [
           0.6799999999999999,
           0.9999999999999999
          ],
          "y": [
           0,
           0.46499999999999997
          ]
         },
         "scope": "usa"
        },
        "geo4": {
         "center": {},
         "domain": {
          "x": [
           0,
           0.31999999999999995
          ],
          "y": [
           0.5349999999999999,
           0.9999999999999999
          ]
         },
         "scope": "usa"
        },
        "geo5": {
         "center": {},
         "domain": {
          "x": [
           0.33999999999999997,
           0.6599999999999999
          ],
          "y": [
           0.5349999999999999,
           0.9999999999999999
          ]
         },
         "scope": "usa"
        },
        "geo6": {
         "center": {},
         "domain": {
          "x": [
           0.6799999999999999,
           0.9999999999999999
          ],
          "y": [
           0.5349999999999999,
           0.9999999999999999
          ]
         },
         "scope": "usa"
        },
        "height": 600,
        "legend": {
         "tracegroupgap": 0
        },
        "margin": {
         "t": 60
        },
        "template": {
         "data": {
          "bar": [
           {
            "error_x": {
             "color": "#2a3f5f"
            },
            "error_y": {
             "color": "#2a3f5f"
            },
            "marker": {
             "line": {
              "color": "#E5ECF6",
              "width": 0.5
             },
             "pattern": {
              "fillmode": "overlay",
              "size": 10,
              "solidity": 0.2
             }
            },
            "type": "bar"
           }
          ],
          "barpolar": [
           {
            "marker": {
             "line": {
              "color": "#E5ECF6",
              "width": 0.5
             },
             "pattern": {
              "fillmode": "overlay",
              "size": 10,
              "solidity": 0.2
             }
            },
            "type": "barpolar"
           }
          ],
          "carpet": [
           {
            "aaxis": {
             "endlinecolor": "#2a3f5f",
             "gridcolor": "white",
             "linecolor": "white",
             "minorgridcolor": "white",
             "startlinecolor": "#2a3f5f"
            },
            "baxis": {
             "endlinecolor": "#2a3f5f",
             "gridcolor": "white",
             "linecolor": "white",
             "minorgridcolor": "white",
             "startlinecolor": "#2a3f5f"
            },
            "type": "carpet"
           }
          ],
          "choropleth": [
           {
            "colorbar": {
             "outlinewidth": 0,
             "ticks": ""
            },
            "type": "choropleth"
           }
          ],
          "contour": [
           {
            "colorbar": {
             "outlinewidth": 0,
             "ticks": ""
            },
            "colorscale": [
             [
              0,
              "#0d0887"
             ],
             [
              0.1111111111111111,
              "#46039f"
             ],
             [
              0.2222222222222222,
              "#7201a8"
             ],
             [
              0.3333333333333333,
              "#9c179e"
             ],
             [
              0.4444444444444444,
              "#bd3786"
             ],
             [
              0.5555555555555556,
              "#d8576b"
             ],
             [
              0.6666666666666666,
              "#ed7953"
             ],
             [
              0.7777777777777778,
              "#fb9f3a"
             ],
             [
              0.8888888888888888,
              "#fdca26"
             ],
             [
              1,
              "#f0f921"
             ]
            ],
            "type": "contour"
           }
          ],
          "contourcarpet": [
           {
            "colorbar": {
             "outlinewidth": 0,
             "ticks": ""
            },
            "type": "contourcarpet"
           }
          ],
          "heatmap": [
           {
            "colorbar": {
             "outlinewidth": 0,
             "ticks": ""
            },
            "colorscale": [
             [
              0,
              "#0d0887"
             ],
             [
              0.1111111111111111,
              "#46039f"
             ],
             [
              0.2222222222222222,
              "#7201a8"
             ],
             [
              0.3333333333333333,
              "#9c179e"
             ],
             [
              0.4444444444444444,
              "#bd3786"
             ],
             [
              0.5555555555555556,
              "#d8576b"
             ],
             [
              0.6666666666666666,
              "#ed7953"
             ],
             [
              0.7777777777777778,
              "#fb9f3a"
             ],
             [
              0.8888888888888888,
              "#fdca26"
             ],
             [
              1,
              "#f0f921"
             ]
            ],
            "type": "heatmap"
           }
          ],
          "heatmapgl": [
           {
            "colorbar": {
             "outlinewidth": 0,
             "ticks": ""
            },
            "colorscale": [
             [
              0,
              "#0d0887"
             ],
             [
              0.1111111111111111,
              "#46039f"
             ],
             [
              0.2222222222222222,
              "#7201a8"
             ],
             [
              0.3333333333333333,
              "#9c179e"
             ],
             [
              0.4444444444444444,
              "#bd3786"
             ],
             [
              0.5555555555555556,
              "#d8576b"
             ],
             [
              0.6666666666666666,
              "#ed7953"
             ],
             [
              0.7777777777777778,
              "#fb9f3a"
             ],
             [
              0.8888888888888888,
              "#fdca26"
             ],
             [
              1,
              "#f0f921"
             ]
            ],
            "type": "heatmapgl"
           }
          ],
          "histogram": [
           {
            "marker": {
             "pattern": {
              "fillmode": "overlay",
              "size": 10,
              "solidity": 0.2
             }
            },
            "type": "histogram"
           }
          ],
          "histogram2d": [
           {
            "colorbar": {
             "outlinewidth": 0,
             "ticks": ""
            },
            "colorscale": [
             [
              0,
              "#0d0887"
             ],
             [
              0.1111111111111111,
              "#46039f"
             ],
             [
              0.2222222222222222,
              "#7201a8"
             ],
             [
              0.3333333333333333,
              "#9c179e"
             ],
             [
              0.4444444444444444,
              "#bd3786"
             ],
             [
              0.5555555555555556,
              "#d8576b"
             ],
             [
              0.6666666666666666,
              "#ed7953"
             ],
             [
              0.7777777777777778,
              "#fb9f3a"
             ],
             [
              0.8888888888888888,
              "#fdca26"
             ],
             [
              1,
              "#f0f921"
             ]
            ],
            "type": "histogram2d"
           }
          ],
          "histogram2dcontour": [
           {
            "colorbar": {
             "outlinewidth": 0,
             "ticks": ""
            },
            "colorscale": [
             [
              0,
              "#0d0887"
             ],
             [
              0.1111111111111111,
              "#46039f"
             ],
             [
              0.2222222222222222,
              "#7201a8"
             ],
             [
              0.3333333333333333,
              "#9c179e"
             ],
             [
              0.4444444444444444,
              "#bd3786"
             ],
             [
              0.5555555555555556,
              "#d8576b"
             ],
             [
              0.6666666666666666,
              "#ed7953"
             ],
             [
              0.7777777777777778,
              "#fb9f3a"
             ],
             [
              0.8888888888888888,
              "#fdca26"
             ],
             [
              1,
              "#f0f921"
             ]
            ],
            "type": "histogram2dcontour"
           }
          ],
          "mesh3d": [
           {
            "colorbar": {
             "outlinewidth": 0,
             "ticks": ""
            },
            "type": "mesh3d"
           }
          ],
          "parcoords": [
           {
            "line": {
             "colorbar": {
              "outlinewidth": 0,
              "ticks": ""
             }
            },
            "type": "parcoords"
           }
          ],
          "pie": [
           {
            "automargin": true,
            "type": "pie"
           }
          ],
          "scatter": [
           {
            "fillpattern": {
             "fillmode": "overlay",
             "size": 10,
             "solidity": 0.2
            },
            "type": "scatter"
           }
          ],
          "scatter3d": [
           {
            "line": {
             "colorbar": {
              "outlinewidth": 0,
              "ticks": ""
             }
            },
            "marker": {
             "colorbar": {
              "outlinewidth": 0,
              "ticks": ""
             }
            },
            "type": "scatter3d"
           }
          ],
          "scattercarpet": [
           {
            "marker": {
             "colorbar": {
              "outlinewidth": 0,
              "ticks": ""
             }
            },
            "type": "scattercarpet"
           }
          ],
          "scattergeo": [
           {
            "marker": {
             "colorbar": {
              "outlinewidth": 0,
              "ticks": ""
             }
            },
            "type": "scattergeo"
           }
          ],
          "scattergl": [
           {
            "marker": {
             "colorbar": {
              "outlinewidth": 0,
              "ticks": ""
             }
            },
            "type": "scattergl"
           }
          ],
          "scattermapbox": [
           {
            "marker": {
             "colorbar": {
              "outlinewidth": 0,
              "ticks": ""
             }
            },
            "type": "scattermapbox"
           }
          ],
          "scatterpolar": [
           {
            "marker": {
             "colorbar": {
              "outlinewidth": 0,
              "ticks": ""
             }
            },
            "type": "scatterpolar"
           }
          ],
          "scatterpolargl": [
           {
            "marker": {
             "colorbar": {
              "outlinewidth": 0,
              "ticks": ""
             }
            },
            "type": "scatterpolargl"
           }
          ],
          "scatterternary": [
           {
            "marker": {
             "colorbar": {
              "outlinewidth": 0,
              "ticks": ""
             }
            },
            "type": "scatterternary"
           }
          ],
          "surface": [
           {
            "colorbar": {
             "outlinewidth": 0,
             "ticks": ""
            },
            "colorscale": [
             [
              0,
              "#0d0887"
             ],
             [
              0.1111111111111111,
              "#46039f"
             ],
             [
              0.2222222222222222,
              "#7201a8"
             ],
             [
              0.3333333333333333,
              "#9c179e"
             ],
             [
              0.4444444444444444,
              "#bd3786"
             ],
             [
              0.5555555555555556,
              "#d8576b"
             ],
             [
              0.6666666666666666,
              "#ed7953"
             ],
             [
              0.7777777777777778,
              "#fb9f3a"
             ],
             [
              0.8888888888888888,
              "#fdca26"
             ],
             [
              1,
              "#f0f921"
             ]
            ],
            "type": "surface"
           }
          ],
          "table": [
           {
            "cells": {
             "fill": {
              "color": "#EBF0F8"
             },
             "line": {
              "color": "white"
             }
            },
            "header": {
             "fill": {
              "color": "#C8D4E3"
             },
             "line": {
              "color": "white"
             }
            },
            "type": "table"
           }
          ]
         },
         "layout": {
          "annotationdefaults": {
           "arrowcolor": "#2a3f5f",
           "arrowhead": 0,
           "arrowwidth": 1
          },
          "autotypenumbers": "strict",
          "coloraxis": {
           "colorbar": {
            "outlinewidth": 0,
            "ticks": ""
           }
          },
          "colorscale": {
           "diverging": [
            [
             0,
             "#8e0152"
            ],
            [
             0.1,
             "#c51b7d"
            ],
            [
             0.2,
             "#de77ae"
            ],
            [
             0.3,
             "#f1b6da"
            ],
            [
             0.4,
             "#fde0ef"
            ],
            [
             0.5,
             "#f7f7f7"
            ],
            [
             0.6,
             "#e6f5d0"
            ],
            [
             0.7,
             "#b8e186"
            ],
            [
             0.8,
             "#7fbc41"
            ],
            [
             0.9,
             "#4d9221"
            ],
            [
             1,
             "#276419"
            ]
           ],
           "sequential": [
            [
             0,
             "#0d0887"
            ],
            [
             0.1111111111111111,
             "#46039f"
            ],
            [
             0.2222222222222222,
             "#7201a8"
            ],
            [
             0.3333333333333333,
             "#9c179e"
            ],
            [
             0.4444444444444444,
             "#bd3786"
            ],
            [
             0.5555555555555556,
             "#d8576b"
            ],
            [
             0.6666666666666666,
             "#ed7953"
            ],
            [
             0.7777777777777778,
             "#fb9f3a"
            ],
            [
             0.8888888888888888,
             "#fdca26"
            ],
            [
             1,
             "#f0f921"
            ]
           ],
           "sequentialminus": [
            [
             0,
             "#0d0887"
            ],
            [
             0.1111111111111111,
             "#46039f"
            ],
            [
             0.2222222222222222,
             "#7201a8"
            ],
            [
             0.3333333333333333,
             "#9c179e"
            ],
            [
             0.4444444444444444,
             "#bd3786"
            ],
            [
             0.5555555555555556,
             "#d8576b"
            ],
            [
             0.6666666666666666,
             "#ed7953"
            ],
            [
             0.7777777777777778,
             "#fb9f3a"
            ],
            [
             0.8888888888888888,
             "#fdca26"
            ],
            [
             1,
             "#f0f921"
            ]
           ]
          },
          "colorway": [
           "#636efa",
           "#EF553B",
           "#00cc96",
           "#ab63fa",
           "#FFA15A",
           "#19d3f3",
           "#FF6692",
           "#B6E880",
           "#FF97FF",
           "#FECB52"
          ],
          "font": {
           "color": "#2a3f5f"
          },
          "geo": {
           "bgcolor": "white",
           "lakecolor": "white",
           "landcolor": "#E5ECF6",
           "showlakes": true,
           "showland": true,
           "subunitcolor": "white"
          },
          "hoverlabel": {
           "align": "left"
          },
          "hovermode": "closest",
          "mapbox": {
           "style": "light"
          },
          "paper_bgcolor": "white",
          "plot_bgcolor": "#E5ECF6",
          "polar": {
           "angularaxis": {
            "gridcolor": "white",
            "linecolor": "white",
            "ticks": ""
           },
           "bgcolor": "#E5ECF6",
           "radialaxis": {
            "gridcolor": "white",
            "linecolor": "white",
            "ticks": ""
           }
          },
          "scene": {
           "xaxis": {
            "backgroundcolor": "#E5ECF6",
            "gridcolor": "white",
            "gridwidth": 2,
            "linecolor": "white",
            "showbackground": true,
            "ticks": "",
            "zerolinecolor": "white"
           },
           "yaxis": {
            "backgroundcolor": "#E5ECF6",
            "gridcolor": "white",
            "gridwidth": 2,
            "linecolor": "white",
            "showbackground": true,
            "ticks": "",
            "zerolinecolor": "white"
           },
           "zaxis": {
            "backgroundcolor": "#E5ECF6",
            "gridcolor": "white",
            "gridwidth": 2,
            "linecolor": "white",
            "showbackground": true,
            "ticks": "",
            "zerolinecolor": "white"
           }
          },
          "shapedefaults": {
           "line": {
            "color": "#2a3f5f"
           }
          },
          "ternary": {
           "aaxis": {
            "gridcolor": "white",
            "linecolor": "white",
            "ticks": ""
           },
           "baxis": {
            "gridcolor": "white",
            "linecolor": "white",
            "ticks": ""
           },
           "bgcolor": "#E5ECF6",
           "caxis": {
            "gridcolor": "white",
            "linecolor": "white",
            "ticks": ""
           }
          },
          "title": {
           "x": 0.05
          },
          "xaxis": {
           "automargin": true,
           "gridcolor": "white",
           "linecolor": "white",
           "ticks": "",
           "title": {
            "standoff": 15
           },
           "zerolinecolor": "white",
           "zerolinewidth": 2
          },
          "yaxis": {
           "automargin": true,
           "gridcolor": "white",
           "linecolor": "white",
           "ticks": "",
           "title": {
            "standoff": 15
           },
           "zerolinecolor": "white",
           "zerolinewidth": 2
          }
         }
        },
        "title": {
         "font": {
          "weight": 600
         },
         "text": "OUD Prevalence Post-Medicaid Expansion",
         "x": 0.5,
         "xanchor": "center",
         "y": 0.99,
         "yanchor": "top"
        },
        "width": 1200
       }
      }
     },
     "metadata": {},
     "output_type": "display_data"
    }
   ],
   "source": [
    "# Author: Alex\n",
    "\n",
    "# Annual changes in OUD rates post-expansion\n",
    "supertitle = 'OUD Prevalence Post-Medicaid Expansion'\n",
    "rate_column = 'Scaled Row %'\n",
    "facet_column = 'rpt_yr'\n",
    "plots_per_row = 3\n",
    "post_heatmap = draw_heatmap(expanded_df, rate_column, facet_column, plots_per_row, supertitle)\n",
    "post_heatmap.show()"
   ]
  },
  {
   "cell_type": "markdown",
   "metadata": {},
   "source": [
    "We create two heatmaps of average states' average OUD prevalence rates pre and post."
   ]
  },
  {
   "cell_type": "code",
   "execution_count": null,
   "metadata": {},
   "outputs": [],
   "source": [
    "# Two heatmaps\n"
   ]
  },
  {
   "cell_type": "markdown",
   "metadata": {},
   "source": [
    "We also make a scatter plot of state prevalence pre- and post-expansion."
   ]
  },
  {
   "cell_type": "code",
   "execution_count": null,
   "metadata": {},
   "outputs": [
    {
     "data": {
      "image/png": "[encoded data removed]",
      "text/plain": [
       "<Figure size 640x480 with 1 Axes>"
      ]
     },
     "metadata": {},
     "output_type": "display_data"
    }
   ],
   "source": [
    "# Scatter plot\n",
    "\n",
    "import matplotlib.pyplot as plt\n",
    "import seaborn as sns\n",
    "from matplotlib.ticker import PercentFormatter\n",
    "\n",
    "# Manipulate df prior to plotting\n",
    "scatter_df = working_df.dropna(subset=['rpt_yr', 'Row %']) # Filter out rows with NaN values in columns of interest\n",
    "scatter_df['rpt_yr'] = scatter_df['rpt_yr'].dt.year # Pulling just the year integer for graphing\n",
    "scatter_df['Row %'] = scatter_df['Row %'] * 100\n",
    "\n",
    "# Add trend lines\n",
    "sns.regplot(data=scatter_df[scatter_df['post'] == 0], x='rpt_yr', y='Row %', scatter=True, color='orange', label='Pre-expansion')\n",
    "sns.regplot(data=scatter_df[scatter_df['post'] == 1], x='rpt_yr', y='Row %', scatter=True, color='navy', label='Post-expansion')\n",
    "sns.catplot # does jitter\n",
    "\n",
    "# Add labels and title\n",
    "plt.xlabel('Year')\n",
    "plt.ylabel('OUD prevalence')\n",
    "plt.gca().yaxis.set_major_formatter(PercentFormatter())  # Format y-axis as percentage\n",
    "plt.legend()\n",
    "\n",
    "# Show the plot\n",
    "plt.show()"
   ]
  },
  {
   "cell_type": "code",
   "execution_count": null,
   "metadata": {},
   "outputs": [
    {
     "name": "stdout",
     "output_type": "stream",
     "text": [
      "Slope for Pre-expansion: -0.18699112109936253\n",
      "R squared for Pre-expansion: 0.22251192424859867\n",
      "Slope for Post-expansion: -0.24295046786486335\n",
      "R squared for Post-expansion: 0.3092585143105825\n"
     ]
    }
   ],
   "source": [
    "from sklearn.linear_model import LinearRegression\n",
    "\n",
    "# Create Xs (pre and post) from the year column values. Reshape X\n",
    "X_pre = scatter_df[scatter_df['post'] == 0]['rpt_yr'].values.reshape(-1, 1)\n",
    "X_post = scatter_df[scatter_df['post'] == 1]['rpt_yr'].values.reshape(-1, 1)\n",
    "\n",
    "# Create y (pre and post) from the OUD rate column's values\n",
    "y_pre= scatter_df[scatter_df['post'] == 0]['Row %'].values\n",
    "y_post = scatter_df[scatter_df['post'] == 1]['Row %'].values\n",
    "\n",
    "# Fit the model\n",
    "model_pre = LinearRegression().fit(X_pre, y_pre) \n",
    "model_post = LinearRegression().fit(X_post, y_post) \n",
    "\n",
    "# Calculate R squared values\n",
    "r2_pre = model_pre.score(X_pre, y_pre)\n",
    "r2_post = model_post.score(X_post, y_post)\n",
    "\n",
    "# Print the slopes and R squared values\n",
    "print(f\"Slope for Pre-expansion: {model_pre.coef_[0]}\")\n",
    "print(f\"R squared for Pre-expansion: {r2_pre}\")\n",
    "print(f\"Slope for Post-expansion: {model_post.coef_[0]}\")\n",
    "print(f\"R squared for Post-expansion: {r2_post}\")"
   ]
  },
  {
   "cell_type": "markdown",
   "metadata": {},
   "source": [
    "The slope post-expansion is steeper than that for pre-expansion, suggesting that Medicaid expansion helps to decrease opioid misuse faster! This is a favorable sign for Medicaid expansion.\n",
    "\n",
    "We will also try running a paired t-test to compare the means of pre- and post-expansion rates for the same states to assess whether the change in rates from pre- to post-expansion is significant. We need to verify the following assumptions:\n",
    "- The dependent variable must be continuous interval or ratio. This is satisfied since the dependent variable, the interval or difference in OUD rate for a state pre- and post-expansion, is continuous from 0% to 100%.\n",
    "- The observations are independent of one another. We can assume each states' OUD rate changes are independent from other states'.\n",
    "- The dependent variable should be approximately normally distributed. Since we only have 8 data points of states with both pre and post data, we do **not** have enough data to satisfy this assumption. \n",
    "- The dependent variable should not contain any outliers. Based on our boxplot of the differences below, this assumption is satisfied."
   ]
  },
  {
   "cell_type": "code",
   "execution_count": null,
   "metadata": {},
   "outputs": [
    {
     "data": {
      "image/png": "[encoded data removed]",
      "text/plain": [
       "<Figure size 640x480 with 1 Axes>"
      ]
     },
     "metadata": {},
     "output_type": "display_data"
    }
   ],
   "source": [
    "import matplotlib.pyplot as plt\n",
    "import seaborn as sns\n",
    "from scipy.stats import shapiro\n",
    "\n",
    "# Pivot the data to have one row per state with 'pre' and 'post' rates in separate columns\n",
    "paired_df = scatter_df.pivot_table(index='Abbrev', columns='post', values='Row %')\n",
    "paired_df.columns = ['Pre', 'Post']  # Rename columns for clarity\n",
    "paired_df = paired_df.dropna()  # Drop states without both pre- and post-expansion data\n",
    "\n",
    "# Calculate differences for paired t-test\n",
    "paired_df['Difference'] = paired_df['Post'] - paired_df['Pre']\n",
    "\n",
    "# Create boxplot to check for outliers\n",
    "sns.boxplot(x=paired_df['Difference'], color='orange')\n",
    "plt.title('Boxplot of Differences')\n",
    "plt.xlabel('Difference (Post - Pre)')\n",
    "\n",
    "plt.show()\n"
   ]
  },
  {
   "cell_type": "markdown",
   "metadata": {},
   "source": [
    "We proceed with the test despite the small sample size. Note that we can't make a statistically meaningful conclusion given that our assumptions were not all satisfied."
   ]
  },
  {
   "cell_type": "code",
   "execution_count": null,
   "metadata": {},
   "outputs": [
    {
     "name": "stdout",
     "output_type": "stream",
     "text": [
      "Paired T-Test Results for Pre vs Post Medicaid Expansion OUD Rates\n",
      "------------------------------------------------------------\n",
      "States with data: N = 8\n",
      "Pre-Expansion: Mean = 3.87%\n",
      "Post-Expansion: Mean = 3.28%\n",
      "T-Statistic = 2.389\n",
      "P-Value = 4.823e-02\n",
      "\n",
      "Conclusion: The change in OUD rates from pre to post is statistically significant (p < 0.05).\n"
     ]
    }
   ],
   "source": [
    "from scipy.stats import ttest_rel\n",
    "\n",
    "# Perform a paired t-test\n",
    "t_stat_paired, p_value_paired = ttest_rel(paired_df['Pre'], paired_df['Post'])\n",
    "\n",
    "# Prepare results for presentation\n",
    "mean_pre = paired_df['Pre'].mean()\n",
    "mean_post = paired_df['Post'].mean()\n",
    "n_states = len(paired_df)\n",
    "\n",
    "# Formatted output\n",
    "print(\"Paired T-Test Results for Pre vs Post Medicaid Expansion OUD Rates\")\n",
    "print(\"-\" * 60)\n",
    "print(f\"States with data: N = {n_states}\")\n",
    "print(f\"Pre-Expansion: Mean = {mean_pre:.2f}%\")\n",
    "print(f\"Post-Expansion: Mean = {mean_post:.2f}%\")\n",
    "print(f\"T-Statistic = {t_stat_paired:.3f}\")\n",
    "print(f\"P-Value = {p_value_paired:.3e}\")\n",
    "\n",
    "# Print interpretation of result based on p-value and alpha = .05:\n",
    "if p_value_paired < 0.05:\n",
    "    print(\"\\nConclusion: The change in OUD rates from pre to post is statistically significant (p < 0.05).\")\n",
    "else:\n",
    "    print(\"\\nConclusion: The change in OUD rates from pre to post is not statistically significant (p ≥ 0.05).\")\n"
   ]
  },
  {
   "cell_type": "markdown",
   "metadata": {},
   "source": [
    "The paired t-test results should be interpretted with caution as its assumptions weren't completely satisfied, but conclude that, for states who expanded Medicaid during our data timeframe, OUD rates did decline after expansion was implemented. "
   ]
  },
  {
   "cell_type": "markdown",
   "metadata": {},
   "source": [
    "# Richie's Plot"
   ]
  },
  {
   "cell_type": "code",
   "execution_count": null,
   "metadata": {},
   "outputs": [
    {
     "data": {
      "text/html": [
       "<div>\n",
       "<style scoped>\n",
       "    .dataframe tbody tr th:only-of-type {\n",
       "        vertical-align: middle;\n",
       "    }\n",
       "\n",
       "    .dataframe tbody tr th {\n",
       "        vertical-align: top;\n",
       "    }\n",
       "\n",
       "    .dataframe thead th {\n",
       "        text-align: right;\n",
       "    }\n",
       "</style>\n",
       "<table border=\"1\" class=\"dataframe\">\n",
       "  <thead>\n",
       "    <tr style=\"text-align: right;\">\n",
       "      <th></th>\n",
       "      <th>State</th>\n",
       "      <th>post</th>\n",
       "      <th>opioid-misuse-pct</th>\n",
       "    </tr>\n",
       "  </thead>\n",
       "  <tbody>\n",
       "    <tr>\n",
       "      <th>0</th>\n",
       "      <td>Idaho</td>\n",
       "      <td>False</td>\n",
       "      <td>0.04475</td>\n",
       "    </tr>\n",
       "    <tr>\n",
       "      <th>1</th>\n",
       "      <td>Idaho</td>\n",
       "      <td>True</td>\n",
       "      <td>0.03500</td>\n",
       "    </tr>\n",
       "    <tr>\n",
       "      <th>2</th>\n",
       "      <td>Louisiana</td>\n",
       "      <td>False</td>\n",
       "      <td>0.04600</td>\n",
       "    </tr>\n",
       "    <tr>\n",
       "      <th>3</th>\n",
       "      <td>Louisiana</td>\n",
       "      <td>True</td>\n",
       "      <td>0.04525</td>\n",
       "    </tr>\n",
       "    <tr>\n",
       "      <th>4</th>\n",
       "      <td>Maine</td>\n",
       "      <td>False</td>\n",
       "      <td>0.03000</td>\n",
       "    </tr>\n",
       "  </tbody>\n",
       "</table>\n",
       "</div>"
      ],
      "text/plain": [
       "       State   post  opioid-misuse-pct\n",
       "0      Idaho  False            0.04475\n",
       "1      Idaho   True            0.03500\n",
       "2  Louisiana  False            0.04600\n",
       "3  Louisiana   True            0.04525\n",
       "4      Maine  False            0.03000"
      ]
     },
     "execution_count": 35,
     "metadata": {},
     "output_type": "execute_result"
    }
   ],
   "source": [
    "# Create a dataframe that omits states which have expansion before the oldest data(2016)\n",
    "states_filtered = working_df.loc[working_df['Implemented Expansion On'] > '2016-01-01']\n",
    "\n",
    "# Create a dataframe of average \"Row %\" before and after expansion for each state\n",
    "avg_df = states_filtered[\n",
    "    [\n",
    "        'Location',\n",
    "        'post',\n",
    "        'Row %'\n",
    "    ]\n",
    "].groupby(['Location','post']).mean().reset_index().rename(\n",
    "    columns = {\n",
    "        'Row %' : 'opioid-misuse-pct',\n",
    "        'Location' : 'State'\n",
    "    }\n",
    ")\n",
    "\n",
    "avg_df.head()"
   ]
  },
  {
   "cell_type": "code",
   "execution_count": null,
   "metadata": {},
   "outputs": [
    {
     "data": {
      "image/png": "[encoded data removed]",
      "text/plain": [
       "<Figure size 1400x600 with 1 Axes>"
      ]
     },
     "metadata": {},
     "output_type": "display_data"
    }
   ],
   "source": [
    "import seaborn as sns\n",
    "import matplotlib.pyplot as plt\n",
    "from matplotlib.ticker import PercentFormatter\n",
    "\n",
    "# Set a theme and larger font scale for readability\n",
    "sns.set_theme(style=\"whitegrid\", palette=\"colorblind\")\n",
    "sns.set_context(\"talk\")\n",
    "\n",
    "# Create the figure and axis with a wider aspect ratio\n",
    "fig, ax = plt.subplots(figsize=(14, 6))  # Wider figure size\n",
    "\n",
    "# Create a scatter plot with the pre and post data\n",
    "scatter = sns.scatterplot(\n",
    "    data=avg_df,\n",
    "    x='post',\n",
    "    y='opioid-misuse-pct',\n",
    "    hue='State',\n",
    "    s=100,  # Increase marker size for visibility\n",
    "    edgecolor='black',\n",
    "    alpha=0.8  # Add transparency for a softer look\n",
    ")\n",
    "\n",
    "# Create a line to connect the dots\n",
    "line = sns.lineplot(\n",
    "    data=avg_df,\n",
    "    x='post',\n",
    "    y='opioid-misuse-pct',\n",
    "    hue='State',\n",
    "    estimator=None,\n",
    "    palette='colorblind',\n",
    "    legend=False,\n",
    "    linewidth=1.5  # Thicker lines for better visibility\n",
    ")\n",
    "\n",
    "# Customize axis labels and ticks\n",
    "ax.set(\n",
    "    xlabel=\"\",\n",
    "    ylabel=\"OUD Prevalence\",\n",
    "    xticks=(0, 1),\n",
    "    xticklabels=(\"Pre-Expansion\", \"Post-Expansion\")\n",
    ")\n",
    "ax.yaxis.set_major_formatter(PercentFormatter(1))\n",
    "\n",
    "# Adjust legend position and appearance\n",
    "ax.legend(title=\"State\", fontsize='medium', title_fontsize='large', frameon=True)\n",
    "ax.grid(False)\n",
    "sns.move_legend(scatter, \"upper left\", bbox_to_anchor=(1, 1))\n",
    "\n",
    "# Tight layout to reduce overlap\n",
    "plt.tight_layout()\n",
    "\n",
    "# Display the plot\n",
    "plt.show()\n"
   ]
  },
  {
   "cell_type": "code",
   "execution_count": null,
   "metadata": {},
   "outputs": [
    {
     "data": {
      "image/png": "[encoded data removed]",
      "text/plain": [
       "<Figure size 1200x800 with 1 Axes>"
      ]
     },
     "metadata": {},
     "output_type": "display_data"
    }
   ],
   "source": [
    "import seaborn as sns\n",
    "import matplotlib.pyplot as plt\n",
    "\n",
    "# Set a theme and larger font scale for better aesthetics\n",
    "sns.set_theme(style=\"whitegrid\", palette=\"deep\")\n",
    "sns.set_context(\"talk\")\n",
    "\n",
    "# Create the figure and axis\n",
    "fig, ax = plt.subplots(figsize=(12, 8))  # Adjust figure size\n",
    "\n",
    "# Create the scatter plot\n",
    "scatter = sns.scatterplot(\n",
    "    data=df_filtered,\n",
    "    x='rpt_yr',\n",
    "    y='Row %',\n",
    "    alpha=0.8,       # Transparency for better overlap visibility\n",
    "    edgecolor='black'\n",
    ")\n",
    "\n",
    "ax.yaxis.set_major_formatter(PercentFormatter(1))\n",
    "\n",
    "# Add titles and labels\n",
    "ax.set_xlabel(\"Year\", fontsize=14)\n",
    "ax.set_ylabel(\"OUD Prevalence\", fontsize=14)\n",
    "ax.set_title(\"Annual OUD Prevalence\")\n",
    "ax.grid(False)\n",
    "\n",
    "# Improve layout\n",
    "plt.tight_layout()\n",
    "\n",
    "# Show the plot\n",
    "plt.show()\n"
   ]
  },
  {
   "cell_type": "code",
   "execution_count": null,
   "metadata": {},
   "outputs": [
    {
     "data": {
      "text/html": [
       "<div>\n",
       "<style scoped>\n",
       "    .dataframe tbody tr th:only-of-type {\n",
       "        vertical-align: middle;\n",
       "    }\n",
       "\n",
       "    .dataframe tbody tr th {\n",
       "        vertical-align: top;\n",
       "    }\n",
       "\n",
       "    .dataframe thead th {\n",
       "        text-align: right;\n",
       "    }\n",
       "</style>\n",
       "<table border=\"1\" class=\"dataframe\">\n",
       "  <thead>\n",
       "    <tr style=\"text-align: right;\">\n",
       "      <th></th>\n",
       "      <th>Row %</th>\n",
       "      <th>Row % CI (lower)</th>\n",
       "      <th>Row % CI (upper)</th>\n",
       "      <th>Weighted Count</th>\n",
       "      <th>rpt_yr</th>\n",
       "    </tr>\n",
       "  </thead>\n",
       "  <tbody>\n",
       "    <tr>\n",
       "      <th>count</th>\n",
       "      <td>255.000000</td>\n",
       "      <td>255.000000</td>\n",
       "      <td>255.000000</td>\n",
       "      <td>2.550000e+02</td>\n",
       "      <td>255</td>\n",
       "    </tr>\n",
       "    <tr>\n",
       "      <th>mean</th>\n",
       "      <td>0.038808</td>\n",
       "      <td>0.029490</td>\n",
       "      <td>0.051329</td>\n",
       "      <td>2.045686e+05</td>\n",
       "      <td>2018-05-27 00:00:00</td>\n",
       "    </tr>\n",
       "    <tr>\n",
       "      <th>min</th>\n",
       "      <td>0.013000</td>\n",
       "      <td>0.007000</td>\n",
       "      <td>0.022000</td>\n",
       "      <td>1.200000e+04</td>\n",
       "      <td>2016-01-01 00:00:00</td>\n",
       "    </tr>\n",
       "    <tr>\n",
       "      <th>25%</th>\n",
       "      <td>0.033000</td>\n",
       "      <td>0.024000</td>\n",
       "      <td>0.044000</td>\n",
       "      <td>5.100000e+04</td>\n",
       "      <td>2017-01-01 00:00:00</td>\n",
       "    </tr>\n",
       "    <tr>\n",
       "      <th>50%</th>\n",
       "      <td>0.039000</td>\n",
       "      <td>0.030000</td>\n",
       "      <td>0.051000</td>\n",
       "      <td>1.540000e+05</td>\n",
       "      <td>2018-01-01 00:00:00</td>\n",
       "    </tr>\n",
       "    <tr>\n",
       "      <th>75%</th>\n",
       "      <td>0.045000</td>\n",
       "      <td>0.034000</td>\n",
       "      <td>0.058000</td>\n",
       "      <td>2.495000e+05</td>\n",
       "      <td>2019-01-01 00:00:00</td>\n",
       "    </tr>\n",
       "    <tr>\n",
       "      <th>max</th>\n",
       "      <td>0.065000</td>\n",
       "      <td>0.051000</td>\n",
       "      <td>0.083000</td>\n",
       "      <td>1.571000e+06</td>\n",
       "      <td>2022-01-01 00:00:00</td>\n",
       "    </tr>\n",
       "    <tr>\n",
       "      <th>std</th>\n",
       "      <td>0.008746</td>\n",
       "      <td>0.007924</td>\n",
       "      <td>0.010386</td>\n",
       "      <td>2.335462e+05</td>\n",
       "      <td>NaN</td>\n",
       "    </tr>\n",
       "  </tbody>\n",
       "</table>\n",
       "</div>"
      ],
      "text/plain": [
       "            Row %  Row % CI (lower)  Row % CI (upper)  Weighted Count  \\\n",
       "count  255.000000        255.000000        255.000000    2.550000e+02   \n",
       "mean     0.038808          0.029490          0.051329    2.045686e+05   \n",
       "min      0.013000          0.007000          0.022000    1.200000e+04   \n",
       "25%      0.033000          0.024000          0.044000    5.100000e+04   \n",
       "50%      0.039000          0.030000          0.051000    1.540000e+05   \n",
       "75%      0.045000          0.034000          0.058000    2.495000e+05   \n",
       "max      0.065000          0.051000          0.083000    1.571000e+06   \n",
       "std      0.008746          0.007924          0.010386    2.335462e+05   \n",
       "\n",
       "                    rpt_yr  \n",
       "count                  255  \n",
       "mean   2018-05-27 00:00:00  \n",
       "min    2016-01-01 00:00:00  \n",
       "25%    2017-01-01 00:00:00  \n",
       "50%    2018-01-01 00:00:00  \n",
       "75%    2019-01-01 00:00:00  \n",
       "max    2022-01-01 00:00:00  \n",
       "std                    NaN  "
      ]
     },
     "execution_count": 38,
     "metadata": {},
     "output_type": "execute_result"
    }
   ],
   "source": [
    "df_filtered.describe()"
   ]
  },
  {
   "cell_type": "markdown",
   "metadata": {},
   "source": [
    "## Conclusion\n",
    "\n",
    "[Insert]"
   ]
  }
 ],
 "metadata": {
  "colab": {
   "include_colab_link": true,
   "name": "07_assignment.ipynb",
   "provenance": []
  },
  "kernelspec": {
   "display_name": "Python 3",
   "language": "python",
   "name": "python3"
  },
  "language_info": {
   "codemirror_mode": {
    "name": "ipython",
    "version": 3
   },
   "file_extension": ".py",
   "mimetype": "text/x-python",
   "name": "python",
   "nbconvert_exporter": "python",
   "pygments_lexer": "ipython3",
   "version": "3.12.0"
  }
 },
 "nbformat": 4,
 "nbformat_minor": 4
}
