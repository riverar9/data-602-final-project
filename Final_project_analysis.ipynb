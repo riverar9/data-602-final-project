{
 "cells": [
  {
   "cell_type": "markdown",
   "metadata": {
    "id": "rd2QZetSDszc"
   },
   "source": [
    "# DATA 602 Final Project\n",
    "### Naomi Buell, Richie Rivera, Alexander Simon\n",
    "\n",
    "## Abstract\n",
    "\n",
    "**Background**: Opioid addiction is a public health crisis that has affected countless lives. Medicaid, which is a health insurance program for low-income individuals in the US, plays an important role in helping people with opioid use disorder (OUD) get medical treatment. The Affordable Care Act expanded Medicaid coverage in 2014, but not all states have implemented it yet. \n",
    "\n",
    "**Research Question**: Is there a correlation between OUD prevalence rates in US states and the status of Medicaid expansion?\n",
    "\n",
    "**Methods**: We downloaded data on the prevalence of pain reliever misuse in each state from the National Survey on Drug Use and Health from the Substance and Mental Health Services Administration for all available years (2016–2019 and 2022) and the status of each state’s decision on Medicaid expansion from KFF, a health policy organization. Data were cleaned and merged into a Pandas dataframe and visualized with scatter/line plots and choropleth maps created using matplotlib and Plotly Express. We also performed linear regression and a paired t-test for difference in means using Python.\n",
    "\n",
    "**Results**: Forty states had post-expansion data, 10 had pre-expansion data, and 8 had both pre- and post-expansion data. Overall OUD prevalence rates ranged from 1.3% to 6.5% (mean 3.9%). Choropleth maps showed that OUD prevalence rates have trended downward nationwide from 2016 to 2022. Linear regression analysis suggested that the rate of decline in post-expansion states was slightly faster than in pre-expansion states (slope = -0.24 vs -0.19), but R2 values were low (0.2–0.3). The t test was significant (P=0.048), however, not all test assumptions were met.\n",
    "\n",
    "**Conclusion**: Our results suggest that there is a correlation between OUD prevalence rates and Medicaid expansion status, and that expansion is associated with a faster decline. However, we did not have enough data points to conclude that the difference is statistically significant.\n",
    "\n",
    "\n",
    "## Introduction\n",
    "\n",
    "Opioid addiction is a public health crisis in the US that has affected countless lives. Medicaid is a joint federal and state health insurance program for low-income individuals. As a result of the Affordable Care Act (ACA), expanded coverage became available in 2014, but not all states have implemented it.\n",
    "\n",
    "As professionals in public health and biology, we are interested in knowing whether improved access to medical treatment can reduce the prevalence of substance use disorders. \n",
    "\n",
    "We obtained data on the prevalence of pain reliever misuse in each state from the National Survey on Drug Use and Health (NSDUH) from the [Substance and Mental Health Services Administration (SAMHSA)](https://www.samhsa.gov/) and the status of each state’s decision on Medicaid expansion from [KFF](https://www.kff.org/affordable-care-act/issue-brief/status-of-state-medicaid-expansion-decisions-interactive-map/), a health policy organization. \n",
    "\n",
    "Below, we show our data analysis and findings.\n",
    "\n",
    "\n",
    "## Data Wrangling \n",
    "\n",
    "Our data are from the SAMHSA [National Survey on Drug Use and Health (NSDUH)](https://datatools.samhsa.gov/) 2-year restricted-use data sets for 2015-2016, 2016-17, 2017-18, 2018-19, and 2021-2022. No data related to our research question were available prior to 2015 (survey question of interest was not being asked yet) or for 2020 (likely due to COVID).\n",
    "\n",
    "On the SAMHSA Data Tools webpage, we created \"crosstabs\" (data subsets) for the following variables and downloaded the CSV files:\n",
    "-  PNRNMYR - During the past 12 months, if they misused prescription pain relievers\n",
    "-  STUSAB - State US abbreviation\n",
    "\n",
    "We also downloaded Medicaid expansion data (CSV) from [KFF](https://www.kff.org/affordable-care-act/issue-brief/status-of-state-medicaid-expansion-decisions-interactive-map/).\n",
    "\n",
    "## Exploratory Data Analysis\n",
    "\n",
    "\n",
    "### NSDUH Opioid Misuse Data\n",
    "\n",
    "Below we import the NSDUH datasets, create dataframes, and explore this data.  "
   ]
  },
  {
   "cell_type": "code",
   "execution_count": null,
   "metadata": {
    "id": "1OJmbafkEhhq"
   },
   "outputs": [
    {
     "name": "stdout",
     "output_type": "stream",
     "text": [
      "Reading in \"data/STUSAB X PNRNMYR (2015-16).csv\"\n",
      "Reading in \"data/STUSAB X PNRNMYR (2016-17).csv\"\n",
      "Reading in \"data/STUSAB X PNRNMYR (2017-18).csv\"\n",
      "Reading in \"data/STUSAB X PNRNMYR (2018-19).csv\"\n",
      "Reading in \"data/STUSAB X PNRNMYR (2021-22).csv\"\n",
      "  STATE US ABBREVIATION RC-PAIN RELIEVERS - PAST YEAR MISUSE  Total %  \\\n",
      "0               Overall                              Overall    1.000   \n",
      "1                    AK                              Overall    0.002   \n",
      "2                    AL                              Overall    0.015   \n",
      "3                    AR                              Overall    0.009   \n",
      "4                    AZ                              Overall    0.021   \n",
      "\n",
      "   Total % SE  Total % CI (lower)  Total % CI (upper)  Row %  Row % SE  \\\n",
      "0      0.0000                 NaN                 NaN    1.0       0.0   \n",
      "1      0.0001               0.002               0.002    1.0       0.0   \n",
      "2      0.0006               0.014               0.016    1.0       0.0   \n",
      "3      0.0004               0.008               0.010    1.0       0.0   \n",
      "4      0.0008               0.020               0.023    1.0       0.0   \n",
      "\n",
      "   Row % CI (lower)  Row % CI (upper)  Column %  Column % SE  \\\n",
      "0               NaN               NaN     1.000       0.0000   \n",
      "1               NaN               NaN     0.002       0.0001   \n",
      "2               NaN               NaN     0.015       0.0006   \n",
      "3               NaN               NaN     0.009       0.0004   \n",
      "4               NaN               NaN     0.021       0.0008   \n",
      "\n",
      "   Column % CI (lower)  Column % CI (upper)  Weighted Count  Count  Count SE  \\\n",
      "0                  NaN                  NaN       268562000    NaN   1593000   \n",
      "1                0.002                0.002          583000    NaN     24000   \n",
      "2                0.014                0.016         4061000    NaN    170000   \n",
      "3                0.008                0.010         2463000    NaN    112000   \n",
      "4                0.020                0.023         5694000    NaN    227000   \n",
      "\n",
      "      rpt_yr  \n",
      "0 2016-01-01  \n",
      "1 2016-01-01  \n",
      "2 2016-01-01  \n",
      "3 2016-01-01  \n",
      "4 2016-01-01  \n"
     ]
    }
   ],
   "source": [
    "# Import libraries\n",
    "import pandas as pd\n",
    "import os\n",
    "import re\n",
    "import plotly.express as px\n",
    "from matplotlib import pyplot as plt\n",
    "from scipy.stats import norm\n",
    "import numpy as np\n",
    "\n",
    "# Set up filepaths\n",
    "file_paths = [\n",
    "    'data/STUSAB X PNRNMYR (2015-16).csv',\n",
    "    'data/STUSAB X PNRNMYR (2016-17).csv',\n",
    "    'data/STUSAB X PNRNMYR (2017-18).csv',\n",
    "    'data/STUSAB X PNRNMYR (2018-19).csv',\n",
    "    'data/STUSAB X PNRNMYR (2021-22).csv',\n",
    "]\n",
    "\n",
    "# Iterate over each path to add the CSV file to a list\n",
    "df_collection = []\n",
    "for path in file_paths:\n",
    "    print(f'Reading in \"{path}\"')\n",
    "\n",
    "    # Use regex to extract report year from path\n",
    "    match = re.search(r'-(\\d{2})\\)', path)\n",
    "    report_year = '20' + match.group(1)\n",
    "\n",
    "    t_df = pd.read_csv(path)\n",
    "\n",
    "    # t_df['rpt_yr'] = pd.to_datetime(f'20{path[28:30]}-01-01')\n",
    "    t_df['rpt_yr'] = pd.to_datetime(f'{report_year}-01-01')    \n",
    "\n",
    "    df_collection.append(\n",
    "        t_df\n",
    "    )\n",
    "\n",
    "# Combine the collection of dataframes into one\n",
    "df = pd.concat(df_collection)\n",
    "\n",
    "print(df.head())"
   ]
  },
  {
   "cell_type": "markdown",
   "metadata": {},
   "source": [
    "Below, we print list of columns, length, number of non-missing observations, and data types."
   ]
  },
  {
   "cell_type": "code",
   "execution_count": 65,
   "metadata": {},
   "outputs": [
    {
     "name": "stdout",
     "output_type": "stream",
     "text": [
      "<class 'pandas.core.frame.DataFrame'>\n",
      "Index: 780 entries, 0 to 155\n",
      "Data columns (total 18 columns):\n",
      " #   Column                                Non-Null Count  Dtype         \n",
      "---  ------                                --------------  -----         \n",
      " 0   STATE US ABBREVIATION                 780 non-null    object        \n",
      " 1   RC-PAIN RELIEVERS - PAST YEAR MISUSE  780 non-null    object        \n",
      " 2   Total %                               780 non-null    float64       \n",
      " 3   Total % SE                            780 non-null    float64       \n",
      " 4   Total % CI (lower)                    775 non-null    float64       \n",
      " 5   Total % CI (upper)                    775 non-null    float64       \n",
      " 6   Row %                                 780 non-null    float64       \n",
      " 7   Row % SE                              780 non-null    float64       \n",
      " 8   Row % CI (lower)                      520 non-null    float64       \n",
      " 9   Row % CI (upper)                      520 non-null    float64       \n",
      " 10  Column %                              780 non-null    float64       \n",
      " 11  Column % SE                           780 non-null    float64       \n",
      " 12  Column % CI (lower)                   765 non-null    float64       \n",
      " 13  Column % CI (upper)                   765 non-null    float64       \n",
      " 14  Weighted Count                        780 non-null    int64         \n",
      " 15  Count                                 0 non-null      float64       \n",
      " 16  Count SE                              780 non-null    int64         \n",
      " 17  rpt_yr                                780 non-null    datetime64[ns]\n",
      "dtypes: datetime64[ns](1), float64(13), int64(2), object(2)\n",
      "memory usage: 115.8+ KB\n"
     ]
    }
   ],
   "source": [
    "# Info\n",
    "df.info()"
   ]
  },
  {
   "cell_type": "markdown",
   "metadata": {},
   "source": [
    "All 780 observations of the column `Count` are missing, but we can instead use the `Weighted Count` column for our analysis, so this is OK.<sup>[1](#footnote1)</sup> There are up to 260 missing observations in the columns of this dataset, however, our main variables of interest `STATE US ABBREVIATION`, `RC-PAIN RELIEVERS - PAST YEAR MISUSE`, and `Row %` are complete. We may also use `Row % CI (lower)` and `Row % CI (upper)`, which are 67% complete in the full dataset, but (as explored later) are 100% complete after we filter data down to observations of interest.\n",
    "\n",
    "<sup id=\"footnote1\">1</sup> Note that `Row %`s are rounded, so we may opt to calculate prevalence rates ourselves using `Weighted Count` for more precision.\n",
    "\n",
    "Below are the means, medians, and other summary statistics of numeric columns."
   ]
  },
  {
   "cell_type": "code",
   "execution_count": 66,
   "metadata": {},
   "outputs": [
    {
     "data": {
      "text/html": [
       "<div>\n",
       "<style scoped>\n",
       "    .dataframe tbody tr th:only-of-type {\n",
       "        vertical-align: middle;\n",
       "    }\n",
       "\n",
       "    .dataframe tbody tr th {\n",
       "        vertical-align: top;\n",
       "    }\n",
       "\n",
       "    .dataframe thead th {\n",
       "        text-align: right;\n",
       "    }\n",
       "</style>\n",
       "<table border=\"1\" class=\"dataframe\">\n",
       "  <thead>\n",
       "    <tr style=\"text-align: right;\">\n",
       "      <th></th>\n",
       "      <th>Total %</th>\n",
       "      <th>Total % SE</th>\n",
       "      <th>Total % CI (lower)</th>\n",
       "      <th>Total % CI (upper)</th>\n",
       "      <th>Row %</th>\n",
       "      <th>Row % SE</th>\n",
       "      <th>Row % CI (lower)</th>\n",
       "      <th>Row % CI (upper)</th>\n",
       "      <th>Column %</th>\n",
       "      <th>Column % SE</th>\n",
       "      <th>Column % CI (lower)</th>\n",
       "      <th>Column % CI (upper)</th>\n",
       "      <th>Weighted Count</th>\n",
       "      <th>Count</th>\n",
       "      <th>Count SE</th>\n",
       "      <th>rpt_yr</th>\n",
       "    </tr>\n",
       "  </thead>\n",
       "  <tbody>\n",
       "    <tr>\n",
       "      <th>count</th>\n",
       "      <td>780.000000</td>\n",
       "      <td>780.000000</td>\n",
       "      <td>775.000000</td>\n",
       "      <td>775.000000</td>\n",
       "      <td>780.000000</td>\n",
       "      <td>780.000000</td>\n",
       "      <td>520.000000</td>\n",
       "      <td>520.000000</td>\n",
       "      <td>780.000000</td>\n",
       "      <td>780.000000</td>\n",
       "      <td>765.000000</td>\n",
       "      <td>765.000000</td>\n",
       "      <td>7.800000e+02</td>\n",
       "      <td>0.0</td>\n",
       "      <td>7.800000e+02</td>\n",
       "      <td>780</td>\n",
       "    </tr>\n",
       "    <tr>\n",
       "      <th>mean</th>\n",
       "      <td>0.025624</td>\n",
       "      <td>0.000510</td>\n",
       "      <td>0.018386</td>\n",
       "      <td>0.020391</td>\n",
       "      <td>0.666667</td>\n",
       "      <td>0.003592</td>\n",
       "      <td>0.489262</td>\n",
       "      <td>0.510738</td>\n",
       "      <td>0.038456</td>\n",
       "      <td>0.001267</td>\n",
       "      <td>0.017306</td>\n",
       "      <td>0.022429</td>\n",
       "      <td>7.013690e+06</td>\n",
       "      <td>NaN</td>\n",
       "      <td>1.666756e+05</td>\n",
       "      <td>2018-05-27 00:00:00</td>\n",
       "    </tr>\n",
       "    <tr>\n",
       "      <th>min</th>\n",
       "      <td>0.000000</td>\n",
       "      <td>0.000000</td>\n",
       "      <td>0.000000</td>\n",
       "      <td>0.000000</td>\n",
       "      <td>0.013000</td>\n",
       "      <td>0.000000</td>\n",
       "      <td>0.007000</td>\n",
       "      <td>0.022000</td>\n",
       "      <td>0.001000</td>\n",
       "      <td>0.000000</td>\n",
       "      <td>0.001000</td>\n",
       "      <td>0.002000</td>\n",
       "      <td>1.200000e+04</td>\n",
       "      <td>NaN</td>\n",
       "      <td>2.000000e+03</td>\n",
       "      <td>2016-01-01 00:00:00</td>\n",
       "    </tr>\n",
       "    <tr>\n",
       "      <th>25%</th>\n",
       "      <td>0.001000</td>\n",
       "      <td>0.000100</td>\n",
       "      <td>0.001000</td>\n",
       "      <td>0.001000</td>\n",
       "      <td>0.045000</td>\n",
       "      <td>0.000000</td>\n",
       "      <td>0.030000</td>\n",
       "      <td>0.050000</td>\n",
       "      <td>0.005000</td>\n",
       "      <td>0.000400</td>\n",
       "      <td>0.004000</td>\n",
       "      <td>0.006000</td>\n",
       "      <td>2.555000e+05</td>\n",
       "      <td>NaN</td>\n",
       "      <td>2.800000e+04</td>\n",
       "      <td>2017-01-01 00:00:00</td>\n",
       "    </tr>\n",
       "    <tr>\n",
       "      <th>50%</th>\n",
       "      <td>0.006000</td>\n",
       "      <td>0.000300</td>\n",
       "      <td>0.005000</td>\n",
       "      <td>0.006000</td>\n",
       "      <td>0.961000</td>\n",
       "      <td>0.004300</td>\n",
       "      <td>0.484000</td>\n",
       "      <td>0.516000</td>\n",
       "      <td>0.014000</td>\n",
       "      <td>0.000800</td>\n",
       "      <td>0.012000</td>\n",
       "      <td>0.016000</td>\n",
       "      <td>1.526000e+06</td>\n",
       "      <td>NaN</td>\n",
       "      <td>7.850000e+04</td>\n",
       "      <td>2018-01-01 00:00:00</td>\n",
       "    </tr>\n",
       "    <tr>\n",
       "      <th>75%</th>\n",
       "      <td>0.018000</td>\n",
       "      <td>0.000800</td>\n",
       "      <td>0.017000</td>\n",
       "      <td>0.020000</td>\n",
       "      <td>1.000000</td>\n",
       "      <td>0.005800</td>\n",
       "      <td>0.950000</td>\n",
       "      <td>0.970000</td>\n",
       "      <td>0.024250</td>\n",
       "      <td>0.001700</td>\n",
       "      <td>0.020000</td>\n",
       "      <td>0.028000</td>\n",
       "      <td>5.025000e+06</td>\n",
       "      <td>NaN</td>\n",
       "      <td>2.152500e+05</td>\n",
       "      <td>2019-01-01 00:00:00</td>\n",
       "    </tr>\n",
       "    <tr>\n",
       "      <th>max</th>\n",
       "      <td>1.000000</td>\n",
       "      <td>0.004300</td>\n",
       "      <td>0.968000</td>\n",
       "      <td>0.971000</td>\n",
       "      <td>1.000000</td>\n",
       "      <td>0.011800</td>\n",
       "      <td>0.978000</td>\n",
       "      <td>0.993000</td>\n",
       "      <td>1.000000</td>\n",
       "      <td>0.012300</td>\n",
       "      <td>0.118000</td>\n",
       "      <td>0.146000</td>\n",
       "      <td>2.809260e+08</td>\n",
       "      <td>NaN</td>\n",
       "      <td>3.041000e+06</td>\n",
       "      <td>2022-01-01 00:00:00</td>\n",
       "    </tr>\n",
       "    <tr>\n",
       "      <th>std</th>\n",
       "      <td>0.110711</td>\n",
       "      <td>0.000592</td>\n",
       "      <td>0.078245</td>\n",
       "      <td>0.078851</td>\n",
       "      <td>0.444593</td>\n",
       "      <td>0.002882</td>\n",
       "      <td>0.460170</td>\n",
       "      <td>0.460170</td>\n",
       "      <td>0.136495</td>\n",
       "      <td>0.001456</td>\n",
       "      <td>0.020440</td>\n",
       "      <td>0.024208</td>\n",
       "      <td>3.029175e+07</td>\n",
       "      <td>NaN</td>\n",
       "      <td>2.692497e+05</td>\n",
       "      <td>NaN</td>\n",
       "    </tr>\n",
       "  </tbody>\n",
       "</table>\n",
       "</div>"
      ],
      "text/plain": [
       "          Total %  Total % SE  Total % CI (lower)  Total % CI (upper)  \\\n",
       "count  780.000000  780.000000          775.000000          775.000000   \n",
       "mean     0.025624    0.000510            0.018386            0.020391   \n",
       "min      0.000000    0.000000            0.000000            0.000000   \n",
       "25%      0.001000    0.000100            0.001000            0.001000   \n",
       "50%      0.006000    0.000300            0.005000            0.006000   \n",
       "75%      0.018000    0.000800            0.017000            0.020000   \n",
       "max      1.000000    0.004300            0.968000            0.971000   \n",
       "std      0.110711    0.000592            0.078245            0.078851   \n",
       "\n",
       "            Row %    Row % SE  Row % CI (lower)  Row % CI (upper)    Column %  \\\n",
       "count  780.000000  780.000000        520.000000        520.000000  780.000000   \n",
       "mean     0.666667    0.003592          0.489262          0.510738    0.038456   \n",
       "min      0.013000    0.000000          0.007000          0.022000    0.001000   \n",
       "25%      0.045000    0.000000          0.030000          0.050000    0.005000   \n",
       "50%      0.961000    0.004300          0.484000          0.516000    0.014000   \n",
       "75%      1.000000    0.005800          0.950000          0.970000    0.024250   \n",
       "max      1.000000    0.011800          0.978000          0.993000    1.000000   \n",
       "std      0.444593    0.002882          0.460170          0.460170    0.136495   \n",
       "\n",
       "       Column % SE  Column % CI (lower)  Column % CI (upper)  Weighted Count  \\\n",
       "count   780.000000           765.000000           765.000000    7.800000e+02   \n",
       "mean      0.001267             0.017306             0.022429    7.013690e+06   \n",
       "min       0.000000             0.001000             0.002000    1.200000e+04   \n",
       "25%       0.000400             0.004000             0.006000    2.555000e+05   \n",
       "50%       0.000800             0.012000             0.016000    1.526000e+06   \n",
       "75%       0.001700             0.020000             0.028000    5.025000e+06   \n",
       "max       0.012300             0.118000             0.146000    2.809260e+08   \n",
       "std       0.001456             0.020440             0.024208    3.029175e+07   \n",
       "\n",
       "       Count      Count SE               rpt_yr  \n",
       "count    0.0  7.800000e+02                  780  \n",
       "mean     NaN  1.666756e+05  2018-05-27 00:00:00  \n",
       "min      NaN  2.000000e+03  2016-01-01 00:00:00  \n",
       "25%      NaN  2.800000e+04  2017-01-01 00:00:00  \n",
       "50%      NaN  7.850000e+04  2018-01-01 00:00:00  \n",
       "75%      NaN  2.152500e+05  2019-01-01 00:00:00  \n",
       "max      NaN  3.041000e+06  2022-01-01 00:00:00  \n",
       "std      NaN  2.692497e+05                  NaN  "
      ]
     },
     "execution_count": 66,
     "metadata": {},
     "output_type": "execute_result"
    }
   ],
   "source": [
    "# Summary statistics\n",
    "df.describe()"
   ]
  },
  {
   "cell_type": "markdown",
   "metadata": {},
   "source": [
    "Here is a preview of our data after filtering down to just our columns and rows of interest."
   ]
  },
  {
   "cell_type": "code",
   "execution_count": 79,
   "metadata": {},
   "outputs": [
    {
     "data": {
      "text/html": [
       "<div>\n",
       "<style scoped>\n",
       "    .dataframe tbody tr th:only-of-type {\n",
       "        vertical-align: middle;\n",
       "    }\n",
       "\n",
       "    .dataframe tbody tr th {\n",
       "        vertical-align: top;\n",
       "    }\n",
       "\n",
       "    .dataframe thead th {\n",
       "        text-align: right;\n",
       "    }\n",
       "</style>\n",
       "<table border=\"1\" class=\"dataframe\">\n",
       "  <thead>\n",
       "    <tr style=\"text-align: right;\">\n",
       "      <th></th>\n",
       "      <th>STATE US ABBREVIATION</th>\n",
       "      <th>RC-PAIN RELIEVERS - PAST YEAR MISUSE</th>\n",
       "      <th>Row %</th>\n",
       "      <th>Row % CI (lower)</th>\n",
       "      <th>Row % CI (upper)</th>\n",
       "      <th>Weighted Count</th>\n",
       "      <th>rpt_yr</th>\n",
       "    </tr>\n",
       "  </thead>\n",
       "  <tbody>\n",
       "    <tr>\n",
       "      <th>105</th>\n",
       "      <td>AK</td>\n",
       "      <td>1 - Misused within the past year</td>\n",
       "      <td>0.046</td>\n",
       "      <td>0.038</td>\n",
       "      <td>0.057</td>\n",
       "      <td>27000</td>\n",
       "      <td>2016-01-01</td>\n",
       "    </tr>\n",
       "    <tr>\n",
       "      <th>106</th>\n",
       "      <td>AL</td>\n",
       "      <td>1 - Misused within the past year</td>\n",
       "      <td>0.053</td>\n",
       "      <td>0.043</td>\n",
       "      <td>0.065</td>\n",
       "      <td>215000</td>\n",
       "      <td>2016-01-01</td>\n",
       "    </tr>\n",
       "    <tr>\n",
       "      <th>107</th>\n",
       "      <td>AR</td>\n",
       "      <td>1 - Misused within the past year</td>\n",
       "      <td>0.048</td>\n",
       "      <td>0.038</td>\n",
       "      <td>0.059</td>\n",
       "      <td>117000</td>\n",
       "      <td>2016-01-01</td>\n",
       "    </tr>\n",
       "    <tr>\n",
       "      <th>108</th>\n",
       "      <td>AZ</td>\n",
       "      <td>1 - Misused within the past year</td>\n",
       "      <td>0.047</td>\n",
       "      <td>0.037</td>\n",
       "      <td>0.060</td>\n",
       "      <td>270000</td>\n",
       "      <td>2016-01-01</td>\n",
       "    </tr>\n",
       "    <tr>\n",
       "      <th>109</th>\n",
       "      <td>CA</td>\n",
       "      <td>1 - Misused within the past year</td>\n",
       "      <td>0.048</td>\n",
       "      <td>0.043</td>\n",
       "      <td>0.054</td>\n",
       "      <td>1571000</td>\n",
       "      <td>2016-01-01</td>\n",
       "    </tr>\n",
       "    <tr>\n",
       "      <th>110</th>\n",
       "      <td>CO</td>\n",
       "      <td>1 - Misused within the past year</td>\n",
       "      <td>0.056</td>\n",
       "      <td>0.046</td>\n",
       "      <td>0.067</td>\n",
       "      <td>254000</td>\n",
       "      <td>2016-01-01</td>\n",
       "    </tr>\n",
       "    <tr>\n",
       "      <th>111</th>\n",
       "      <td>CT</td>\n",
       "      <td>1 - Misused within the past year</td>\n",
       "      <td>0.052</td>\n",
       "      <td>0.039</td>\n",
       "      <td>0.070</td>\n",
       "      <td>159000</td>\n",
       "      <td>2016-01-01</td>\n",
       "    </tr>\n",
       "    <tr>\n",
       "      <th>113</th>\n",
       "      <td>DE</td>\n",
       "      <td>1 - Misused within the past year</td>\n",
       "      <td>0.047</td>\n",
       "      <td>0.035</td>\n",
       "      <td>0.062</td>\n",
       "      <td>37000</td>\n",
       "      <td>2016-01-01</td>\n",
       "    </tr>\n",
       "    <tr>\n",
       "      <th>114</th>\n",
       "      <td>FL</td>\n",
       "      <td>1 - Misused within the past year</td>\n",
       "      <td>0.040</td>\n",
       "      <td>0.034</td>\n",
       "      <td>0.046</td>\n",
       "      <td>694000</td>\n",
       "      <td>2016-01-01</td>\n",
       "    </tr>\n",
       "    <tr>\n",
       "      <th>115</th>\n",
       "      <td>GA</td>\n",
       "      <td>1 - Misused within the past year</td>\n",
       "      <td>0.038</td>\n",
       "      <td>0.030</td>\n",
       "      <td>0.047</td>\n",
       "      <td>316000</td>\n",
       "      <td>2016-01-01</td>\n",
       "    </tr>\n",
       "  </tbody>\n",
       "</table>\n",
       "</div>"
      ],
      "text/plain": [
       "    STATE US ABBREVIATION RC-PAIN RELIEVERS - PAST YEAR MISUSE  Row %  \\\n",
       "105                    AK     1 - Misused within the past year  0.046   \n",
       "106                    AL     1 - Misused within the past year  0.053   \n",
       "107                    AR     1 - Misused within the past year  0.048   \n",
       "108                    AZ     1 - Misused within the past year  0.047   \n",
       "109                    CA     1 - Misused within the past year  0.048   \n",
       "110                    CO     1 - Misused within the past year  0.056   \n",
       "111                    CT     1 - Misused within the past year  0.052   \n",
       "113                    DE     1 - Misused within the past year  0.047   \n",
       "114                    FL     1 - Misused within the past year  0.040   \n",
       "115                    GA     1 - Misused within the past year  0.038   \n",
       "\n",
       "     Row % CI (lower)  Row % CI (upper)  Weighted Count     rpt_yr  \n",
       "105             0.038             0.057           27000 2016-01-01  \n",
       "106             0.043             0.065          215000 2016-01-01  \n",
       "107             0.038             0.059          117000 2016-01-01  \n",
       "108             0.037             0.060          270000 2016-01-01  \n",
       "109             0.043             0.054         1571000 2016-01-01  \n",
       "110             0.046             0.067          254000 2016-01-01  \n",
       "111             0.039             0.070          159000 2016-01-01  \n",
       "113             0.035             0.062           37000 2016-01-01  \n",
       "114             0.034             0.046          694000 2016-01-01  \n",
       "115             0.030             0.047          316000 2016-01-01  "
      ]
     },
     "execution_count": 79,
     "metadata": {},
     "output_type": "execute_result"
    }
   ],
   "source": [
    "# Selecting columns of interest from data\n",
    "df_cols = df[['STATE US ABBREVIATION',\n",
    "'RC-PAIN RELIEVERS - PAST YEAR MISUSE',\n",
    "'Row %',\n",
    "'Row % CI (lower)',\n",
    "'Row % CI (upper)',\n",
    "'Weighted Count',\n",
    "'rpt_yr']]\n",
    "\n",
    "# Subset the rows with states, removing the overall US observations\n",
    "# Also removed DC (District of Columbia) because it's not a state\n",
    "df_states = df_cols[(df_cols['STATE US ABBREVIATION'] != 'Overall') & \n",
    "                    (df_cols['STATE US ABBREVIATION'] != 'DC')]\n",
    "\n",
    "# Subset the rows where RC-PAIN RELIEVERS - PAST YEAR MISUSE = \"1 - Misused within the past year\" to get prevalence of opioid misuse\n",
    "df_filtered = df_states[df_states['RC-PAIN RELIEVERS - PAST YEAR MISUSE'] == \"1 - Misused within the past year\"]\n",
    "\n",
    "# Preview filtered data\n",
    "df_filtered.head(10)\n"
   ]
  },
  {
   "cell_type": "markdown",
   "metadata": {},
   "source": [
    "Here are  summary statistics of our numeric variables in this filtered data frame."
   ]
  },
  {
   "cell_type": "code",
   "execution_count": 80,
   "metadata": {},
   "outputs": [
    {
     "name": "stdout",
     "output_type": "stream",
     "text": [
      "<class 'pandas.core.frame.DataFrame'>\n",
      "Index: 250 entries, 105 to 155\n",
      "Data columns (total 7 columns):\n",
      " #   Column                                Non-Null Count  Dtype         \n",
      "---  ------                                --------------  -----         \n",
      " 0   STATE US ABBREVIATION                 250 non-null    object        \n",
      " 1   RC-PAIN RELIEVERS - PAST YEAR MISUSE  250 non-null    object        \n",
      " 2   Row %                                 250 non-null    float64       \n",
      " 3   Row % CI (lower)                      250 non-null    float64       \n",
      " 4   Row % CI (upper)                      250 non-null    float64       \n",
      " 5   Weighted Count                        250 non-null    int64         \n",
      " 6   rpt_yr                                250 non-null    datetime64[ns]\n",
      "dtypes: datetime64[ns](1), float64(3), int64(1), object(2)\n",
      "memory usage: 15.6+ KB\n",
      "None\n"
     ]
    },
    {
     "data": {
      "text/html": [
       "<div>\n",
       "<style scoped>\n",
       "    .dataframe tbody tr th:only-of-type {\n",
       "        vertical-align: middle;\n",
       "    }\n",
       "\n",
       "    .dataframe tbody tr th {\n",
       "        vertical-align: top;\n",
       "    }\n",
       "\n",
       "    .dataframe thead th {\n",
       "        text-align: right;\n",
       "    }\n",
       "</style>\n",
       "<table border=\"1\" class=\"dataframe\">\n",
       "  <thead>\n",
       "    <tr style=\"text-align: right;\">\n",
       "      <th></th>\n",
       "      <th>Row %</th>\n",
       "      <th>Row % CI (lower)</th>\n",
       "      <th>Row % CI (upper)</th>\n",
       "      <th>Weighted Count</th>\n",
       "      <th>rpt_yr</th>\n",
       "    </tr>\n",
       "  </thead>\n",
       "  <tbody>\n",
       "    <tr>\n",
       "      <th>count</th>\n",
       "      <td>250.000000</td>\n",
       "      <td>250.000000</td>\n",
       "      <td>250.000000</td>\n",
       "      <td>2.500000e+02</td>\n",
       "      <td>250</td>\n",
       "    </tr>\n",
       "    <tr>\n",
       "      <th>mean</th>\n",
       "      <td>0.038812</td>\n",
       "      <td>0.029528</td>\n",
       "      <td>0.051256</td>\n",
       "      <td>2.082080e+05</td>\n",
       "      <td>2018-05-27 00:00:00</td>\n",
       "    </tr>\n",
       "    <tr>\n",
       "      <th>min</th>\n",
       "      <td>0.013000</td>\n",
       "      <td>0.007000</td>\n",
       "      <td>0.022000</td>\n",
       "      <td>1.200000e+04</td>\n",
       "      <td>2016-01-01 00:00:00</td>\n",
       "    </tr>\n",
       "    <tr>\n",
       "      <th>25%</th>\n",
       "      <td>0.033000</td>\n",
       "      <td>0.024000</td>\n",
       "      <td>0.044000</td>\n",
       "      <td>5.550000e+04</td>\n",
       "      <td>2017-01-01 00:00:00</td>\n",
       "    </tr>\n",
       "    <tr>\n",
       "      <th>50%</th>\n",
       "      <td>0.039000</td>\n",
       "      <td>0.029500</td>\n",
       "      <td>0.050000</td>\n",
       "      <td>1.605000e+05</td>\n",
       "      <td>2018-01-01 00:00:00</td>\n",
       "    </tr>\n",
       "    <tr>\n",
       "      <th>75%</th>\n",
       "      <td>0.045000</td>\n",
       "      <td>0.034750</td>\n",
       "      <td>0.058000</td>\n",
       "      <td>2.515000e+05</td>\n",
       "      <td>2019-01-01 00:00:00</td>\n",
       "    </tr>\n",
       "    <tr>\n",
       "      <th>max</th>\n",
       "      <td>0.065000</td>\n",
       "      <td>0.051000</td>\n",
       "      <td>0.083000</td>\n",
       "      <td>1.571000e+06</td>\n",
       "      <td>2022-01-01 00:00:00</td>\n",
       "    </tr>\n",
       "    <tr>\n",
       "      <th>std</th>\n",
       "      <td>0.008806</td>\n",
       "      <td>0.007955</td>\n",
       "      <td>0.010472</td>\n",
       "      <td>2.344369e+05</td>\n",
       "      <td>NaN</td>\n",
       "    </tr>\n",
       "  </tbody>\n",
       "</table>\n",
       "</div>"
      ],
      "text/plain": [
       "            Row %  Row % CI (lower)  Row % CI (upper)  Weighted Count  \\\n",
       "count  250.000000        250.000000        250.000000    2.500000e+02   \n",
       "mean     0.038812          0.029528          0.051256    2.082080e+05   \n",
       "min      0.013000          0.007000          0.022000    1.200000e+04   \n",
       "25%      0.033000          0.024000          0.044000    5.550000e+04   \n",
       "50%      0.039000          0.029500          0.050000    1.605000e+05   \n",
       "75%      0.045000          0.034750          0.058000    2.515000e+05   \n",
       "max      0.065000          0.051000          0.083000    1.571000e+06   \n",
       "std      0.008806          0.007955          0.010472    2.344369e+05   \n",
       "\n",
       "                    rpt_yr  \n",
       "count                  250  \n",
       "mean   2018-05-27 00:00:00  \n",
       "min    2016-01-01 00:00:00  \n",
       "25%    2017-01-01 00:00:00  \n",
       "50%    2018-01-01 00:00:00  \n",
       "75%    2019-01-01 00:00:00  \n",
       "max    2022-01-01 00:00:00  \n",
       "std                    NaN  "
      ]
     },
     "execution_count": 80,
     "metadata": {},
     "output_type": "execute_result"
    }
   ],
   "source": [
    "# Show missingness of filtered data\n",
    "print(df_filtered.info())\n",
    "\n",
    "# Show summary statistics of filtered data\n",
    "df_filtered.describe()"
   ]
  },
  {
   "cell_type": "markdown",
   "metadata": {},
   "source": [
    "After filtering data, we have 100% completeness. States have, on average, 3.9% prevalence of opioid misuse per year. "
   ]
  },
  {
   "cell_type": "markdown",
   "metadata": {},
   "source": [
    "### KFF State Medicaid Expansion Data\n",
    "\n",
    "Below we import the KFF dataset and explore this data.  "
   ]
  },
  {
   "cell_type": "code",
   "execution_count": 81,
   "metadata": {},
   "outputs": [
    {
     "data": {
      "text/html": [
       "<div>\n",
       "<style scoped>\n",
       "    .dataframe tbody tr th:only-of-type {\n",
       "        vertical-align: middle;\n",
       "    }\n",
       "\n",
       "    .dataframe tbody tr th {\n",
       "        vertical-align: top;\n",
       "    }\n",
       "\n",
       "    .dataframe thead th {\n",
       "        text-align: right;\n",
       "    }\n",
       "</style>\n",
       "<table border=\"1\" class=\"dataframe\">\n",
       "  <thead>\n",
       "    <tr style=\"text-align: right;\">\n",
       "      <th></th>\n",
       "      <th>Location</th>\n",
       "      <th>Status of Medicaid Expansion Decision</th>\n",
       "      <th>Implemented Expansion On</th>\n",
       "    </tr>\n",
       "  </thead>\n",
       "  <tbody>\n",
       "    <tr>\n",
       "      <th>0</th>\n",
       "      <td>Arizona</td>\n",
       "      <td>Adopted</td>\n",
       "      <td>2014-01-01 00:00:00</td>\n",
       "    </tr>\n",
       "    <tr>\n",
       "      <th>1</th>\n",
       "      <td>Arkansas</td>\n",
       "      <td>Adopted</td>\n",
       "      <td>2014-01-01 00:00:00</td>\n",
       "    </tr>\n",
       "    <tr>\n",
       "      <th>2</th>\n",
       "      <td>California</td>\n",
       "      <td>Adopted</td>\n",
       "      <td>2014-01-01 00:00:00</td>\n",
       "    </tr>\n",
       "    <tr>\n",
       "      <th>3</th>\n",
       "      <td>Colorado</td>\n",
       "      <td>Adopted</td>\n",
       "      <td>2014-01-01 00:00:00</td>\n",
       "    </tr>\n",
       "    <tr>\n",
       "      <th>4</th>\n",
       "      <td>Connecticut</td>\n",
       "      <td>Adopted</td>\n",
       "      <td>2014-01-01 00:00:00</td>\n",
       "    </tr>\n",
       "    <tr>\n",
       "      <th>5</th>\n",
       "      <td>Delaware</td>\n",
       "      <td>Adopted</td>\n",
       "      <td>2014-01-01 00:00:00</td>\n",
       "    </tr>\n",
       "    <tr>\n",
       "      <th>7</th>\n",
       "      <td>Hawaii</td>\n",
       "      <td>Adopted</td>\n",
       "      <td>2014-01-01 00:00:00</td>\n",
       "    </tr>\n",
       "    <tr>\n",
       "      <th>8</th>\n",
       "      <td>Illinois</td>\n",
       "      <td>Adopted</td>\n",
       "      <td>2014-01-01 00:00:00</td>\n",
       "    </tr>\n",
       "    <tr>\n",
       "      <th>9</th>\n",
       "      <td>Iowa</td>\n",
       "      <td>Adopted</td>\n",
       "      <td>2014-01-01 00:00:00</td>\n",
       "    </tr>\n",
       "    <tr>\n",
       "      <th>10</th>\n",
       "      <td>Kentucky</td>\n",
       "      <td>Adopted</td>\n",
       "      <td>2014-01-01 00:00:00</td>\n",
       "    </tr>\n",
       "  </tbody>\n",
       "</table>\n",
       "</div>"
      ],
      "text/plain": [
       "       Location Status of Medicaid Expansion Decision Implemented Expansion On\n",
       "0       Arizona                               Adopted      2014-01-01 00:00:00\n",
       "1      Arkansas                               Adopted      2014-01-01 00:00:00\n",
       "2    California                               Adopted      2014-01-01 00:00:00\n",
       "3      Colorado                               Adopted      2014-01-01 00:00:00\n",
       "4   Connecticut                               Adopted      2014-01-01 00:00:00\n",
       "5      Delaware                               Adopted      2014-01-01 00:00:00\n",
       "7        Hawaii                               Adopted      2014-01-01 00:00:00\n",
       "8      Illinois                               Adopted      2014-01-01 00:00:00\n",
       "9          Iowa                               Adopted      2014-01-01 00:00:00\n",
       "10     Kentucky                               Adopted      2014-01-01 00:00:00"
      ]
     },
     "execution_count": 81,
     "metadata": {},
     "output_type": "execute_result"
    }
   ],
   "source": [
    "# Import KFF data\n",
    "path_kff = \"data/raw_data_kff.xlsx\"\n",
    "\n",
    "df_kff = pd.read_excel(path_kff, skiprows=2)\n",
    "\n",
    "# Remove District of Columbia because it's not a state\n",
    "df_kff = df_kff[df_kff['Location'] != 'District of Columbia']\n",
    "\n",
    "df_kff.head(10)"
   ]
  },
  {
   "cell_type": "markdown",
   "metadata": {},
   "source": [
    "We convert the state names to abbreviations to match NSDUH data."
   ]
  },
  {
   "cell_type": "code",
   "execution_count": 82,
   "metadata": {},
   "outputs": [
    {
     "data": {
      "text/html": [
       "<div>\n",
       "<style scoped>\n",
       "    .dataframe tbody tr th:only-of-type {\n",
       "        vertical-align: middle;\n",
       "    }\n",
       "\n",
       "    .dataframe tbody tr th {\n",
       "        vertical-align: top;\n",
       "    }\n",
       "\n",
       "    .dataframe thead th {\n",
       "        text-align: right;\n",
       "    }\n",
       "</style>\n",
       "<table border=\"1\" class=\"dataframe\">\n",
       "  <thead>\n",
       "    <tr style=\"text-align: right;\">\n",
       "      <th></th>\n",
       "      <th>Location</th>\n",
       "      <th>Status of Medicaid Expansion Decision</th>\n",
       "      <th>Implemented Expansion On</th>\n",
       "      <th>Abbrev</th>\n",
       "    </tr>\n",
       "  </thead>\n",
       "  <tbody>\n",
       "    <tr>\n",
       "      <th>0</th>\n",
       "      <td>Arizona</td>\n",
       "      <td>Adopted</td>\n",
       "      <td>2014-01-01 00:00:00</td>\n",
       "      <td>AZ</td>\n",
       "    </tr>\n",
       "    <tr>\n",
       "      <th>1</th>\n",
       "      <td>Arkansas</td>\n",
       "      <td>Adopted</td>\n",
       "      <td>2014-01-01 00:00:00</td>\n",
       "      <td>AR</td>\n",
       "    </tr>\n",
       "    <tr>\n",
       "      <th>2</th>\n",
       "      <td>California</td>\n",
       "      <td>Adopted</td>\n",
       "      <td>2014-01-01 00:00:00</td>\n",
       "      <td>CA</td>\n",
       "    </tr>\n",
       "    <tr>\n",
       "      <th>3</th>\n",
       "      <td>Colorado</td>\n",
       "      <td>Adopted</td>\n",
       "      <td>2014-01-01 00:00:00</td>\n",
       "      <td>CO</td>\n",
       "    </tr>\n",
       "    <tr>\n",
       "      <th>4</th>\n",
       "      <td>Connecticut</td>\n",
       "      <td>Adopted</td>\n",
       "      <td>2014-01-01 00:00:00</td>\n",
       "      <td>CT</td>\n",
       "    </tr>\n",
       "    <tr>\n",
       "      <th>5</th>\n",
       "      <td>Delaware</td>\n",
       "      <td>Adopted</td>\n",
       "      <td>2014-01-01 00:00:00</td>\n",
       "      <td>DE</td>\n",
       "    </tr>\n",
       "    <tr>\n",
       "      <th>7</th>\n",
       "      <td>Hawaii</td>\n",
       "      <td>Adopted</td>\n",
       "      <td>2014-01-01 00:00:00</td>\n",
       "      <td>HI</td>\n",
       "    </tr>\n",
       "    <tr>\n",
       "      <th>8</th>\n",
       "      <td>Illinois</td>\n",
       "      <td>Adopted</td>\n",
       "      <td>2014-01-01 00:00:00</td>\n",
       "      <td>IL</td>\n",
       "    </tr>\n",
       "    <tr>\n",
       "      <th>9</th>\n",
       "      <td>Iowa</td>\n",
       "      <td>Adopted</td>\n",
       "      <td>2014-01-01 00:00:00</td>\n",
       "      <td>IA</td>\n",
       "    </tr>\n",
       "    <tr>\n",
       "      <th>10</th>\n",
       "      <td>Kentucky</td>\n",
       "      <td>Adopted</td>\n",
       "      <td>2014-01-01 00:00:00</td>\n",
       "      <td>KY</td>\n",
       "    </tr>\n",
       "  </tbody>\n",
       "</table>\n",
       "</div>"
      ],
      "text/plain": [
       "       Location Status of Medicaid Expansion Decision  \\\n",
       "0       Arizona                               Adopted   \n",
       "1      Arkansas                               Adopted   \n",
       "2    California                               Adopted   \n",
       "3      Colorado                               Adopted   \n",
       "4   Connecticut                               Adopted   \n",
       "5      Delaware                               Adopted   \n",
       "7        Hawaii                               Adopted   \n",
       "8      Illinois                               Adopted   \n",
       "9          Iowa                               Adopted   \n",
       "10     Kentucky                               Adopted   \n",
       "\n",
       "   Implemented Expansion On Abbrev  \n",
       "0       2014-01-01 00:00:00     AZ  \n",
       "1       2014-01-01 00:00:00     AR  \n",
       "2       2014-01-01 00:00:00     CA  \n",
       "3       2014-01-01 00:00:00     CO  \n",
       "4       2014-01-01 00:00:00     CT  \n",
       "5       2014-01-01 00:00:00     DE  \n",
       "7       2014-01-01 00:00:00     HI  \n",
       "8       2014-01-01 00:00:00     IL  \n",
       "9       2014-01-01 00:00:00     IA  \n",
       "10      2014-01-01 00:00:00     KY  "
      ]
     },
     "execution_count": 82,
     "metadata": {},
     "output_type": "execute_result"
    }
   ],
   "source": [
    "# Create a dictionary with state names and their abbreviations as key:value pairs\n",
    "us_state_to_abbrev = {\n",
    "    \"Alabama\": \"AL\",\n",
    "    \"Alaska\": \"AK\",\n",
    "    \"Arizona\": \"AZ\",\n",
    "    \"Arkansas\": \"AR\",\n",
    "    \"California\": \"CA\",\n",
    "    \"Colorado\": \"CO\",\n",
    "    \"Connecticut\": \"CT\",\n",
    "    \"Delaware\": \"DE\",\n",
    "    \"Florida\": \"FL\",\n",
    "    \"Georgia\": \"GA\",\n",
    "    \"Hawaii\": \"HI\",\n",
    "    \"Idaho\": \"ID\",\n",
    "    \"Illinois\": \"IL\",\n",
    "    \"Indiana\": \"IN\",\n",
    "    \"Iowa\": \"IA\",\n",
    "    \"Kansas\": \"KS\",\n",
    "    \"Kentucky\": \"KY\",\n",
    "    \"Louisiana\": \"LA\",\n",
    "    \"Maine\": \"ME\",\n",
    "    \"Maryland\": \"MD\",\n",
    "    \"Massachusetts\": \"MA\",\n",
    "    \"Michigan\": \"MI\",\n",
    "    \"Minnesota\": \"MN\",\n",
    "    \"Mississippi\": \"MS\",\n",
    "    \"Missouri\": \"MO\",\n",
    "    \"Montana\": \"MT\",\n",
    "    \"Nebraska\": \"NE\",\n",
    "    \"Nevada\": \"NV\",\n",
    "    \"New Hampshire\": \"NH\",\n",
    "    \"New Jersey\": \"NJ\",\n",
    "    \"New Mexico\": \"NM\",\n",
    "    \"New York\": \"NY\",\n",
    "    \"North Carolina\": \"NC\",\n",
    "    \"North Dakota\": \"ND\",\n",
    "    \"Ohio\": \"OH\",\n",
    "    \"Oklahoma\": \"OK\",\n",
    "    \"Oregon\": \"OR\",\n",
    "    \"Pennsylvania\": \"PA\",\n",
    "    \"Rhode Island\": \"RI\",\n",
    "    \"South Carolina\": \"SC\",\n",
    "    \"South Dakota\": \"SD\",\n",
    "    \"Tennessee\": \"TN\",\n",
    "    \"Texas\": \"TX\",\n",
    "    \"Utah\": \"UT\",\n",
    "    \"Vermont\": \"VT\",\n",
    "    \"Virginia\": \"VA\",\n",
    "    \"Washington\": \"WA\",\n",
    "    \"West Virginia\": \"WV\",\n",
    "    \"Wisconsin\": \"WI\",\n",
    "    \"Wyoming\": \"WY\"\n",
    "    # \"District of Columbia\": \"DC\",\n",
    "    # \"American Samoa\": \"AS\",  \n",
    "    # \"Guam\": \"GU\",  \n",
    "    # \"Northern Mariana Islands\": \"MP\",  \n",
    "    # \"Puerto Rico\": \"PR\",\n",
    "    # \"United States\": \"US\",\n",
    "}\n",
    "\n",
    "# Map the state names in the KFF dataframe to the corresponding abbreviation\n",
    "df_kff['Abbrev'] = df_kff['Location'].map(us_state_to_abbrev)\n",
    "\n",
    "df_kff.head(10)"
   ]
  },
  {
   "cell_type": "markdown",
   "metadata": {},
   "source": [
    "Below, we print the list of columns, length, number of non-missing observations, and data types."
   ]
  },
  {
   "cell_type": "code",
   "execution_count": 85,
   "metadata": {},
   "outputs": [
    {
     "name": "stdout",
     "output_type": "stream",
     "text": [
      "<class 'pandas.core.frame.DataFrame'>\n",
      "Index: 59 entries, 0 to 59\n",
      "Data columns (total 4 columns):\n",
      " #   Column                                 Non-Null Count  Dtype \n",
      "---  ------                                 --------------  ----- \n",
      " 0   Location                               56 non-null     object\n",
      " 1   Status of Medicaid Expansion Decision  51 non-null     object\n",
      " 2   Implemented Expansion On               51 non-null     object\n",
      " 3   Abbrev                                 50 non-null     object\n",
      "dtypes: object(4)\n",
      "memory usage: 2.3+ KB\n"
     ]
    }
   ],
   "source": [
    "# Info\n",
    "df_kff.info()"
   ]
  },
  {
   "cell_type": "markdown",
   "metadata": {},
   "source": [
    "We convert the `Implemented Expansion On` variable to a datetime datatype and summarize it below."
   ]
  },
  {
   "cell_type": "code",
   "execution_count": 86,
   "metadata": {},
   "outputs": [
    {
     "data": {
      "text/html": [
       "<div>\n",
       "<style scoped>\n",
       "    .dataframe tbody tr th:only-of-type {\n",
       "        vertical-align: middle;\n",
       "    }\n",
       "\n",
       "    .dataframe tbody tr th {\n",
       "        vertical-align: top;\n",
       "    }\n",
       "\n",
       "    .dataframe thead th {\n",
       "        text-align: right;\n",
       "    }\n",
       "</style>\n",
       "<table border=\"1\" class=\"dataframe\">\n",
       "  <thead>\n",
       "    <tr style=\"text-align: right;\">\n",
       "      <th></th>\n",
       "      <th>Implemented Expansion On</th>\n",
       "    </tr>\n",
       "  </thead>\n",
       "  <tbody>\n",
       "    <tr>\n",
       "      <th>count</th>\n",
       "      <td>40</td>\n",
       "    </tr>\n",
       "    <tr>\n",
       "      <th>mean</th>\n",
       "      <td>2015-10-25 07:12:00</td>\n",
       "    </tr>\n",
       "    <tr>\n",
       "      <th>min</th>\n",
       "      <td>2014-01-01 00:00:00</td>\n",
       "    </tr>\n",
       "    <tr>\n",
       "      <th>25%</th>\n",
       "      <td>2014-01-01 00:00:00</td>\n",
       "    </tr>\n",
       "    <tr>\n",
       "      <th>50%</th>\n",
       "      <td>2014-01-01 00:00:00</td>\n",
       "    </tr>\n",
       "    <tr>\n",
       "      <th>75%</th>\n",
       "      <td>2016-02-15 12:00:00</td>\n",
       "    </tr>\n",
       "    <tr>\n",
       "      <th>max</th>\n",
       "      <td>2023-12-01 00:00:00</td>\n",
       "    </tr>\n",
       "  </tbody>\n",
       "</table>\n",
       "</div>"
      ],
      "text/plain": [
       "      Implemented Expansion On\n",
       "count                       40\n",
       "mean       2015-10-25 07:12:00\n",
       "min        2014-01-01 00:00:00\n",
       "25%        2014-01-01 00:00:00\n",
       "50%        2014-01-01 00:00:00\n",
       "75%        2016-02-15 12:00:00\n",
       "max        2023-12-01 00:00:00"
      ]
     },
     "execution_count": 86,
     "metadata": {},
     "output_type": "execute_result"
    }
   ],
   "source": [
    "# Convert to datetime\n",
    "df_kff['Implemented Expansion On'] = pd.to_datetime(df_kff['Implemented Expansion On'], errors='coerce')\n",
    "\n",
    "# Range of dates\n",
    "df_kff.describe()"
   ]
  },
  {
   "cell_type": "markdown",
   "metadata": {},
   "source": [
    "The 'count' row shows that 40 states have expanded Medicaid so far (missing dates indicate that a state has not yet adopted Medicaid expansion). Most states that have expanded Medicaid did so on the first day of 2014. The last state to expand Medicaid, North Carolina, did so in December 2023."
   ]
  },
  {
   "cell_type": "markdown",
   "metadata": {},
   "source": [
    "Lastly, we'll combine the KFF and NSDUH data into one dataframe that we will perform our analysis on:"
   ]
  },
  {
   "cell_type": "code",
   "execution_count": 87,
   "metadata": {},
   "outputs": [
    {
     "data": {
      "text/html": [
       "<div>\n",
       "<style scoped>\n",
       "    .dataframe tbody tr th:only-of-type {\n",
       "        vertical-align: middle;\n",
       "    }\n",
       "\n",
       "    .dataframe tbody tr th {\n",
       "        vertical-align: top;\n",
       "    }\n",
       "\n",
       "    .dataframe thead th {\n",
       "        text-align: right;\n",
       "    }\n",
       "</style>\n",
       "<table border=\"1\" class=\"dataframe\">\n",
       "  <thead>\n",
       "    <tr style=\"text-align: right;\">\n",
       "      <th></th>\n",
       "      <th>STATE US ABBREVIATION</th>\n",
       "      <th>RC-PAIN RELIEVERS - PAST YEAR MISUSE</th>\n",
       "      <th>Row %</th>\n",
       "      <th>Row % CI (lower)</th>\n",
       "      <th>Row % CI (upper)</th>\n",
       "      <th>Weighted Count</th>\n",
       "      <th>rpt_yr</th>\n",
       "      <th>Location</th>\n",
       "      <th>Status of Medicaid Expansion Decision</th>\n",
       "      <th>Implemented Expansion On</th>\n",
       "      <th>Abbrev</th>\n",
       "    </tr>\n",
       "  </thead>\n",
       "  <tbody>\n",
       "    <tr>\n",
       "      <th>0</th>\n",
       "      <td>AK</td>\n",
       "      <td>1 - Misused within the past year</td>\n",
       "      <td>0.046</td>\n",
       "      <td>0.038</td>\n",
       "      <td>0.057</td>\n",
       "      <td>27000</td>\n",
       "      <td>2016-01-01</td>\n",
       "      <td>Alaska</td>\n",
       "      <td>Adopted</td>\n",
       "      <td>2015-09-01</td>\n",
       "      <td>AK</td>\n",
       "    </tr>\n",
       "    <tr>\n",
       "      <th>1</th>\n",
       "      <td>AL</td>\n",
       "      <td>1 - Misused within the past year</td>\n",
       "      <td>0.053</td>\n",
       "      <td>0.043</td>\n",
       "      <td>0.065</td>\n",
       "      <td>215000</td>\n",
       "      <td>2016-01-01</td>\n",
       "      <td>Alabama</td>\n",
       "      <td>Not Adopted</td>\n",
       "      <td>NaT</td>\n",
       "      <td>AL</td>\n",
       "    </tr>\n",
       "    <tr>\n",
       "      <th>2</th>\n",
       "      <td>AR</td>\n",
       "      <td>1 - Misused within the past year</td>\n",
       "      <td>0.048</td>\n",
       "      <td>0.038</td>\n",
       "      <td>0.059</td>\n",
       "      <td>117000</td>\n",
       "      <td>2016-01-01</td>\n",
       "      <td>Arkansas</td>\n",
       "      <td>Adopted</td>\n",
       "      <td>2014-01-01</td>\n",
       "      <td>AR</td>\n",
       "    </tr>\n",
       "    <tr>\n",
       "      <th>3</th>\n",
       "      <td>AZ</td>\n",
       "      <td>1 - Misused within the past year</td>\n",
       "      <td>0.047</td>\n",
       "      <td>0.037</td>\n",
       "      <td>0.060</td>\n",
       "      <td>270000</td>\n",
       "      <td>2016-01-01</td>\n",
       "      <td>Arizona</td>\n",
       "      <td>Adopted</td>\n",
       "      <td>2014-01-01</td>\n",
       "      <td>AZ</td>\n",
       "    </tr>\n",
       "    <tr>\n",
       "      <th>4</th>\n",
       "      <td>CA</td>\n",
       "      <td>1 - Misused within the past year</td>\n",
       "      <td>0.048</td>\n",
       "      <td>0.043</td>\n",
       "      <td>0.054</td>\n",
       "      <td>1571000</td>\n",
       "      <td>2016-01-01</td>\n",
       "      <td>California</td>\n",
       "      <td>Adopted</td>\n",
       "      <td>2014-01-01</td>\n",
       "      <td>CA</td>\n",
       "    </tr>\n",
       "  </tbody>\n",
       "</table>\n",
       "</div>"
      ],
      "text/plain": [
       "  STATE US ABBREVIATION RC-PAIN RELIEVERS - PAST YEAR MISUSE  Row %  \\\n",
       "0                    AK     1 - Misused within the past year  0.046   \n",
       "1                    AL     1 - Misused within the past year  0.053   \n",
       "2                    AR     1 - Misused within the past year  0.048   \n",
       "3                    AZ     1 - Misused within the past year  0.047   \n",
       "4                    CA     1 - Misused within the past year  0.048   \n",
       "\n",
       "   Row % CI (lower)  Row % CI (upper)  Weighted Count     rpt_yr    Location  \\\n",
       "0             0.038             0.057           27000 2016-01-01      Alaska   \n",
       "1             0.043             0.065          215000 2016-01-01     Alabama   \n",
       "2             0.038             0.059          117000 2016-01-01    Arkansas   \n",
       "3             0.037             0.060          270000 2016-01-01     Arizona   \n",
       "4             0.043             0.054         1571000 2016-01-01  California   \n",
       "\n",
       "  Status of Medicaid Expansion Decision Implemented Expansion On Abbrev  \n",
       "0                               Adopted               2015-09-01     AK  \n",
       "1                           Not Adopted                      NaT     AL  \n",
       "2                               Adopted               2014-01-01     AR  \n",
       "3                               Adopted               2014-01-01     AZ  \n",
       "4                               Adopted               2014-01-01     CA  "
      ]
     },
     "execution_count": 87,
     "metadata": {},
     "output_type": "execute_result"
    }
   ],
   "source": [
    "working_df = df_filtered.merge(\n",
    "    df_kff,\n",
    "    left_on = 'STATE US ABBREVIATION',\n",
    "    right_on = 'Abbrev',\n",
    "    how = 'left'\n",
    ")\n",
    "\n",
    "working_df.head()"
   ]
  },
  {
   "cell_type": "markdown",
   "metadata": {},
   "source": [
    "Perform some additional wrangling to faciliate analyses"
   ]
  },
  {
   "cell_type": "code",
   "execution_count": 88,
   "metadata": {},
   "outputs": [
    {
     "data": {
      "text/html": [
       "<div>\n",
       "<style scoped>\n",
       "    .dataframe tbody tr th:only-of-type {\n",
       "        vertical-align: middle;\n",
       "    }\n",
       "\n",
       "    .dataframe tbody tr th {\n",
       "        vertical-align: top;\n",
       "    }\n",
       "\n",
       "    .dataframe thead th {\n",
       "        text-align: right;\n",
       "    }\n",
       "</style>\n",
       "<table border=\"1\" class=\"dataframe\">\n",
       "  <thead>\n",
       "    <tr style=\"text-align: right;\">\n",
       "      <th></th>\n",
       "      <th>STATE US ABBREVIATION</th>\n",
       "      <th>RC-PAIN RELIEVERS - PAST YEAR MISUSE</th>\n",
       "      <th>Row %</th>\n",
       "      <th>Row % CI (lower)</th>\n",
       "      <th>Row % CI (upper)</th>\n",
       "      <th>Weighted Count</th>\n",
       "      <th>rpt_yr</th>\n",
       "      <th>Location</th>\n",
       "      <th>Status of Medicaid Expansion Decision</th>\n",
       "      <th>Implemented Expansion On</th>\n",
       "      <th>Abbrev</th>\n",
       "      <th>Post Expansion</th>\n",
       "      <th>Scaled Row %</th>\n",
       "    </tr>\n",
       "  </thead>\n",
       "  <tbody>\n",
       "    <tr>\n",
       "      <th>0</th>\n",
       "      <td>AK</td>\n",
       "      <td>1 - Misused within the past year</td>\n",
       "      <td>0.046</td>\n",
       "      <td>0.038</td>\n",
       "      <td>0.057</td>\n",
       "      <td>27000</td>\n",
       "      <td>2016</td>\n",
       "      <td>Alaska</td>\n",
       "      <td>Adopted</td>\n",
       "      <td>2015-09-01</td>\n",
       "      <td>AK</td>\n",
       "      <td>True</td>\n",
       "      <td>4.6</td>\n",
       "    </tr>\n",
       "    <tr>\n",
       "      <th>1</th>\n",
       "      <td>AL</td>\n",
       "      <td>1 - Misused within the past year</td>\n",
       "      <td>0.053</td>\n",
       "      <td>0.043</td>\n",
       "      <td>0.065</td>\n",
       "      <td>215000</td>\n",
       "      <td>2016</td>\n",
       "      <td>Alabama</td>\n",
       "      <td>Not Adopted</td>\n",
       "      <td>NaT</td>\n",
       "      <td>AL</td>\n",
       "      <td>False</td>\n",
       "      <td>5.3</td>\n",
       "    </tr>\n",
       "    <tr>\n",
       "      <th>2</th>\n",
       "      <td>AR</td>\n",
       "      <td>1 - Misused within the past year</td>\n",
       "      <td>0.048</td>\n",
       "      <td>0.038</td>\n",
       "      <td>0.059</td>\n",
       "      <td>117000</td>\n",
       "      <td>2016</td>\n",
       "      <td>Arkansas</td>\n",
       "      <td>Adopted</td>\n",
       "      <td>2014-01-01</td>\n",
       "      <td>AR</td>\n",
       "      <td>True</td>\n",
       "      <td>4.8</td>\n",
       "    </tr>\n",
       "    <tr>\n",
       "      <th>3</th>\n",
       "      <td>AZ</td>\n",
       "      <td>1 - Misused within the past year</td>\n",
       "      <td>0.047</td>\n",
       "      <td>0.037</td>\n",
       "      <td>0.060</td>\n",
       "      <td>270000</td>\n",
       "      <td>2016</td>\n",
       "      <td>Arizona</td>\n",
       "      <td>Adopted</td>\n",
       "      <td>2014-01-01</td>\n",
       "      <td>AZ</td>\n",
       "      <td>True</td>\n",
       "      <td>4.7</td>\n",
       "    </tr>\n",
       "    <tr>\n",
       "      <th>4</th>\n",
       "      <td>CA</td>\n",
       "      <td>1 - Misused within the past year</td>\n",
       "      <td>0.048</td>\n",
       "      <td>0.043</td>\n",
       "      <td>0.054</td>\n",
       "      <td>1571000</td>\n",
       "      <td>2016</td>\n",
       "      <td>California</td>\n",
       "      <td>Adopted</td>\n",
       "      <td>2014-01-01</td>\n",
       "      <td>CA</td>\n",
       "      <td>True</td>\n",
       "      <td>4.8</td>\n",
       "    </tr>\n",
       "  </tbody>\n",
       "</table>\n",
       "</div>"
      ],
      "text/plain": [
       "  STATE US ABBREVIATION RC-PAIN RELIEVERS - PAST YEAR MISUSE  Row %  \\\n",
       "0                    AK     1 - Misused within the past year  0.046   \n",
       "1                    AL     1 - Misused within the past year  0.053   \n",
       "2                    AR     1 - Misused within the past year  0.048   \n",
       "3                    AZ     1 - Misused within the past year  0.047   \n",
       "4                    CA     1 - Misused within the past year  0.048   \n",
       "\n",
       "   Row % CI (lower)  Row % CI (upper)  Weighted Count  rpt_yr    Location  \\\n",
       "0             0.038             0.057           27000    2016      Alaska   \n",
       "1             0.043             0.065          215000    2016     Alabama   \n",
       "2             0.038             0.059          117000    2016    Arkansas   \n",
       "3             0.037             0.060          270000    2016     Arizona   \n",
       "4             0.043             0.054         1571000    2016  California   \n",
       "\n",
       "  Status of Medicaid Expansion Decision Implemented Expansion On Abbrev  \\\n",
       "0                               Adopted               2015-09-01     AK   \n",
       "1                           Not Adopted                      NaT     AL   \n",
       "2                               Adopted               2014-01-01     AR   \n",
       "3                               Adopted               2014-01-01     AZ   \n",
       "4                               Adopted               2014-01-01     CA   \n",
       "\n",
       "   Post Expansion  Scaled Row %  \n",
       "0            True           4.6  \n",
       "1           False           5.3  \n",
       "2            True           4.8  \n",
       "3            True           4.7  \n",
       "4            True           4.8  "
      ]
     },
     "execution_count": 88,
     "metadata": {},
     "output_type": "execute_result"
    }
   ],
   "source": [
    "# Add Boolean to indicate whether rates are post expansion (pre-expansion = False)\n",
    "working_df['Post Expansion'] = working_df['rpt_yr'] >= working_df['Implemented Expansion On']\n",
    "# Extract year from report datetime\n",
    "working_df['rpt_yr'] = working_df['rpt_yr'].dt.year\n",
    "# Scale the row % to make it easier to understand in the heatmaps\n",
    "working_df['Scaled Row %'] = working_df['Row %'] * 100\n",
    "\n",
    "working_df.head()"
   ]
  },
  {
   "cell_type": "markdown",
   "metadata": {},
   "source": [
    "Pivot the 'Row %' column from long to wide so each report year is in its own column. This makes it easier to calculate the average OUD prevalence for each state."
   ]
  },
  {
   "cell_type": "code",
   "execution_count": 89,
   "metadata": {},
   "outputs": [
    {
     "name": "stdout",
     "output_type": "stream",
     "text": [
      "rpt_yr Abbrev  2016  2017  2018  2019  2022  Avg_2016_2019 Expansion_status\n",
      "0          AL   5.3   4.4   5.2   5.3   4.9            5.0    Pre-Expansion\n",
      "1          FL   4.0   4.4   4.6   3.9   2.2            4.2    Pre-Expansion\n",
      "2          GA   3.8   3.2   3.5   3.5   2.8            3.5    Pre-Expansion\n",
      "3          KS   4.2   4.6   3.9   4.0   3.2            4.2    Pre-Expansion\n",
      "4          MS   4.5   4.0   4.6   4.4   3.6            4.4    Pre-Expansion\n"
     ]
    }
   ],
   "source": [
    "# This cell contributed by Alex\n",
    "# I divided working_df into expanded and not_expanded dataframes and pivoted them from long to wide\n",
    "\n",
    "# States that expanded Medicaid\n",
    "expanded_df = working_df[working_df['Implemented Expansion On'].notna()]\n",
    "expanded_pivot_df = expanded_df.pivot(index = 'Abbrev', columns = 'rpt_yr', values = 'Scaled Row %').reset_index()\n",
    "# Calculate average OUD rates during 2016-2019 (ie, before COVID)\n",
    "expanded_pivot_df['Avg_2016_2019'] = expanded_pivot_df[[2016, 2017, 2018, 2019]].mean(axis = 1).round(1)\n",
    "expanded_pivot_df['Expansion_status'] = 'Post-Expansion'\n",
    "expanded_df.head()\n",
    "\n",
    "# States that had not expanded Medicaid\n",
    "not_expanded_df = working_df[working_df['Implemented Expansion On'].isna()]\n",
    "not_expanded_pivot_df = not_expanded_df.pivot(index = 'Abbrev', columns = 'rpt_yr', values = 'Scaled Row %').reset_index()\n",
    "# Calculate average OUD rates during 2016-2019\n",
    "not_expanded_pivot_df['Avg_2016_2019'] = not_expanded_pivot_df[[2016, 2017, 2018, 2019]].mean(axis = 1).round(1)\n",
    "not_expanded_pivot_df['Expansion_status'] = 'Pre-Expansion'\n",
    "\n",
    "# Merge the dataframes\n",
    "all_pivot_df = pd.concat([not_expanded_pivot_df, expanded_pivot_df], axis = 0)\n",
    "print(all_pivot_df.head())"
   ]
  },
  {
   "cell_type": "markdown",
   "metadata": {},
   "source": [
    "## Data Analysis"
   ]
  },
  {
   "cell_type": "markdown",
   "metadata": {},
   "source": [
    "The histogram below shows the distribution of OUD prevalence rates in our dataset. We also fit the data to a normal distribution, which is overlaid on the histogram and indicates that the rates are approximately normally distributed."
   ]
  },
  {
   "cell_type": "code",
   "execution_count": null,
   "metadata": {},
   "outputs": [],
   "source": [
    "# This cell contributed by Alex\n",
    "# Create histogram of OUD rates with a normal distribution for comparison\n",
    "\n",
    "# Fit normal distribution to the data\n",
    "mu, std = norm.fit(working_df['Scaled Row %']) \n",
    "\n",
    "# Plot histogram of OUD rates\n",
    "plt.hist(working_df['Scaled Row %'], bins = 30, density = True, \n",
    "         color = 'lightblue', edgecolor = 'darkgray')\n",
    "plt.axvline(working_df['Scaled Row %'].mean(), color = 'red', \n",
    "            linestyle = 'dashed')\n",
    "plt.axvline(working_df['Scaled Row %'].median(), color = 'blue', \n",
    "            linestyle = 'dashed')\n",
    "\n",
    "# Overlay normal distribution\n",
    "xmin, xmax = plt.xlim()\n",
    "x = np.linspace(xmin, xmax, 100)\n",
    "p = norm.pdf(x, mu, std)\n",
    "plt.plot(x, p, 'k')\n",
    "\n",
    "# Labels\n",
    "min_ylim, max_ylim = plt.ylim()\n",
    "plt.text(working_df['Scaled Row %'].mean() * 1.2, max_ylim * 0.9, \n",
    "         'Mean: {:.2f}'.format(working_df['Scaled Row %'].mean()), \n",
    "         color = 'red')\n",
    "plt.text(working_df['Scaled Row %'].mean() * 1.2, max_ylim * 0.85, \n",
    "         'Median: {:.2f}'.format(working_df['Scaled Row %'].median()), \n",
    "         color = 'blue')\n",
    "plt.xlabel('OUD Prevalence (%)')\n",
    "plt.ylabel('Frequency')\n",
    "plt.title('Histogram of OUD Prevalence Rates')\n",
    "\n",
    "# View plot\n",
    "plt.figure(figsize = (10, 6))\n",
    "plt.show()"
   ]
  },
  {
   "cell_type": "markdown",
   "metadata": {},
   "source": [
    "We created heatmaps (technically choropleth maps) of the average rates of opioid misuse during 2016-2019 (ie, pre-COVID) in states pre- and post- Medicaid expansion.\n",
    "\n",
    "Pre-expansion (left plot), Alabama had the highest average rate of misuse (5.0%) and Wyoming had the average lowest rate (3.2%). Post-expansion (right plot), Oregon and Nevada had the highest average rate of misuse (5.4% for both). Maine and Nebraska had the lowest average rate of misuse (3.0% for both)."
   ]
  },
  {
   "cell_type": "code",
   "execution_count": null,
   "metadata": {},
   "outputs": [],
   "source": [
    "# Author: Alex\n",
    "\n",
    "def draw_heatmap(df: pd.DataFrame, rate_column: str, \n",
    "                 facet_column: str, plots_per_row: int, title: str) -> px:\n",
    "  '''\n",
    "  This function takes a dataframe with OUD rates and \n",
    "  returns a choropleth map (ie, geographic heatmap)\n",
    "\n",
    "  Args:\n",
    "    df: Dataframe containing OUD prevalence rates\n",
    "    rate_column: Name of column with OUD rates\n",
    "    facet_column: Name of column with titles for each facet\n",
    "    plots_per_row: Number of facets per row\n",
    "    title: Main plot title\n",
    "  \n",
    "  Returns:\n",
    "    heatmap: Plotly Express object\n",
    "  '''\n",
    "  heatmap = px.choropleth(df,\n",
    "                        locations = 'Abbrev',\n",
    "                        locationmode = \"USA-states\",\n",
    "                        color = rate_column,\n",
    "                        color_continuous_scale = 'rdbu_r',\n",
    "                        labels = {rate_column : '% OUD'},\n",
    "                        hover_name = 'Abbrev',\n",
    "                        scope = 'usa',\n",
    "                        facet_col = facet_column,\n",
    "                        facet_col_wrap = plots_per_row)\n",
    "\n",
    "  # Customize facets\n",
    "  # Remove column name from title\n",
    "  heatmap.for_each_annotation(lambda a: a.update(text = a.text.split(\"=\")[-1]))\n",
    "  # Adjust font size of title\n",
    "  heatmap.update_annotations(font_size = 16)\n",
    "  # Overall layout\n",
    "  heatmap.update_layout(\n",
    "      autosize = False,\n",
    "      width = 1200,\n",
    "      height = 600,\n",
    "      title = {\n",
    "          'text': title,\n",
    "          'y' : 0.99,\n",
    "          'x' : 0.5,\n",
    "          'xanchor': 'center',\n",
    "          'yanchor': 'top'},\n",
    "      title_font_weight = 600)\n",
    "\n",
    "  return heatmap"
   ]
  },
  {
   "cell_type": "markdown",
   "metadata": {},
   "source": [
    "Note that the Plotly Express heatmaps are interactive. You can see information about individual states by hovering over it and zoom/pan each map."
   ]
  },
  {
   "cell_type": "code",
   "execution_count": 91,
   "metadata": {},
   "outputs": [
    {
     "data": {
      "application/vnd.plotly.v1+json": {
       "config": {
        "plotlyServerURL": "https://plot.ly"
       },
       "data": [
        {
         "coloraxis": "coloraxis",
         "geo": "geo",
         "hovertemplate": "<b>%{hovertext}</b><br><br>Expansion_status=Pre-Expansion<br>Abbrev=%{location}<br>% OUD=%{z}<extra></extra>",
         "hovertext": [
          "AL",
          "FL",
          "GA",
          "KS",
          "MS",
          "SC",
          "TN",
          "TX",
          "WI",
          "WY"
         ],
         "locationmode": "USA-states",
         "locations": [
          "AL",
          "FL",
          "GA",
          "KS",
          "MS",
          "SC",
          "TN",
          "TX",
          "WI",
          "WY"
         ],
         "name": "",
         "type": "choropleth",
         "z": [
          5,
          4.2,
          3.5,
          4.2,
          4.4,
          4,
          3.9,
          3.9,
          3.7,
          3.2
         ]
        },
        {
         "coloraxis": "coloraxis",
         "geo": "geo2",
         "hovertemplate": "<b>%{hovertext}</b><br><br>Expansion_status=Post-Expansion<br>Abbrev=%{location}<br>% OUD=%{z}<extra></extra>",
         "hovertext": [
          "AK",
          "AR",
          "AZ",
          "CA",
          "CO",
          "CT",
          "DE",
          "HI",
          "IA",
          "ID",
          "IL",
          "IN",
          "KY",
          "LA",
          "MA",
          "MD",
          "ME",
          "MI",
          "MN",
          "MO",
          "MT",
          "NC",
          "ND",
          "NE",
          "NH",
          "NJ",
          "NM",
          "NV",
          "NY",
          "OH",
          "OK",
          "OR",
          "PA",
          "RI",
          "SD",
          "UT",
          "VA",
          "VT",
          "WA",
          "WV"
         ],
         "locationmode": "USA-states",
         "locations": [
          "AK",
          "AR",
          "AZ",
          "CA",
          "CO",
          "CT",
          "DE",
          "HI",
          "IA",
          "ID",
          "IL",
          "IN",
          "KY",
          "LA",
          "MA",
          "MD",
          "ME",
          "MI",
          "MN",
          "MO",
          "MT",
          "NC",
          "ND",
          "NE",
          "NH",
          "NJ",
          "NM",
          "NV",
          "NY",
          "OH",
          "OK",
          "OR",
          "PA",
          "RI",
          "SD",
          "UT",
          "VA",
          "VT",
          "WA",
          "WV"
         ],
         "name": "",
         "type": "choropleth",
         "z": [
          4.8,
          4.8,
          4.3,
          4.2,
          5.2,
          4.2,
          4.1,
          4,
          4,
          4.5,
          3.1,
          4.8,
          4.6,
          4.5,
          3.2,
          3.6,
          3,
          4.3,
          3.8,
          4,
          4.4,
          4,
          3.4,
          3,
          4,
          3.2,
          3.8,
          5.4,
          3.1,
          4.5,
          4,
          5.4,
          3.9,
          4.2,
          3.6,
          4.3,
          3.6,
          3.9,
          5.1,
          3.3
         ]
        }
       ],
       "layout": {
        "annotations": [
         {
          "font": {
           "size": 16
          },
          "showarrow": false,
          "text": "Pre-Expansion",
          "x": 0.245,
          "xanchor": "center",
          "xref": "paper",
          "y": 1,
          "yanchor": "bottom",
          "yref": "paper"
         },
         {
          "font": {
           "size": 16
          },
          "showarrow": false,
          "text": "Post-Expansion",
          "x": 0.755,
          "xanchor": "center",
          "xref": "paper",
          "y": 1,
          "yanchor": "bottom",
          "yref": "paper"
         }
        ],
        "autosize": false,
        "coloraxis": {
         "colorbar": {
          "title": {
           "text": "% OUD"
          }
         },
         "colorscale": [
          [
           0,
           "rgb(5,48,97)"
          ],
          [
           0.1,
           "rgb(33,102,172)"
          ],
          [
           0.2,
           "rgb(67,147,195)"
          ],
          [
           0.3,
           "rgb(146,197,222)"
          ],
          [
           0.4,
           "rgb(209,229,240)"
          ],
          [
           0.5,
           "rgb(247,247,247)"
          ],
          [
           0.6,
           "rgb(253,219,199)"
          ],
          [
           0.7,
           "rgb(244,165,130)"
          ],
          [
           0.8,
           "rgb(214,96,77)"
          ],
          [
           0.9,
           "rgb(178,24,43)"
          ],
          [
           1,
           "rgb(103,0,31)"
          ]
         ]
        },
        "geo": {
         "center": {},
         "domain": {
          "x": [
           0,
           0.49
          ],
          "y": [
           0,
           1
          ]
         },
         "scope": "usa"
        },
        "geo2": {
         "center": {},
         "domain": {
          "x": [
           0.51,
           1
          ],
          "y": [
           0,
           1
          ]
         },
         "scope": "usa"
        },
        "height": 600,
        "legend": {
         "tracegroupgap": 0
        },
        "margin": {
         "t": 60
        },
        "template": {
         "data": {
          "bar": [
           {
            "error_x": {
             "color": "#2a3f5f"
            },
            "error_y": {
             "color": "#2a3f5f"
            },
            "marker": {
             "line": {
              "color": "#E5ECF6",
              "width": 0.5
             },
             "pattern": {
              "fillmode": "overlay",
              "size": 10,
              "solidity": 0.2
             }
            },
            "type": "bar"
           }
          ],
          "barpolar": [
           {
            "marker": {
             "line": {
              "color": "#E5ECF6",
              "width": 0.5
             },
             "pattern": {
              "fillmode": "overlay",
              "size": 10,
              "solidity": 0.2
             }
            },
            "type": "barpolar"
           }
          ],
          "carpet": [
           {
            "aaxis": {
             "endlinecolor": "#2a3f5f",
             "gridcolor": "white",
             "linecolor": "white",
             "minorgridcolor": "white",
             "startlinecolor": "#2a3f5f"
            },
            "baxis": {
             "endlinecolor": "#2a3f5f",
             "gridcolor": "white",
             "linecolor": "white",
             "minorgridcolor": "white",
             "startlinecolor": "#2a3f5f"
            },
            "type": "carpet"
           }
          ],
          "choropleth": [
           {
            "colorbar": {
             "outlinewidth": 0,
             "ticks": ""
            },
            "type": "choropleth"
           }
          ],
          "contour": [
           {
            "colorbar": {
             "outlinewidth": 0,
             "ticks": ""
            },
            "colorscale": [
             [
              0,
              "#0d0887"
             ],
             [
              0.1111111111111111,
              "#46039f"
             ],
             [
              0.2222222222222222,
              "#7201a8"
             ],
             [
              0.3333333333333333,
              "#9c179e"
             ],
             [
              0.4444444444444444,
              "#bd3786"
             ],
             [
              0.5555555555555556,
              "#d8576b"
             ],
             [
              0.6666666666666666,
              "#ed7953"
             ],
             [
              0.7777777777777778,
              "#fb9f3a"
             ],
             [
              0.8888888888888888,
              "#fdca26"
             ],
             [
              1,
              "#f0f921"
             ]
            ],
            "type": "contour"
           }
          ],
          "contourcarpet": [
           {
            "colorbar": {
             "outlinewidth": 0,
             "ticks": ""
            },
            "type": "contourcarpet"
           }
          ],
          "heatmap": [
           {
            "colorbar": {
             "outlinewidth": 0,
             "ticks": ""
            },
            "colorscale": [
             [
              0,
              "#0d0887"
             ],
             [
              0.1111111111111111,
              "#46039f"
             ],
             [
              0.2222222222222222,
              "#7201a8"
             ],
             [
              0.3333333333333333,
              "#9c179e"
             ],
             [
              0.4444444444444444,
              "#bd3786"
             ],
             [
              0.5555555555555556,
              "#d8576b"
             ],
             [
              0.6666666666666666,
              "#ed7953"
             ],
             [
              0.7777777777777778,
              "#fb9f3a"
             ],
             [
              0.8888888888888888,
              "#fdca26"
             ],
             [
              1,
              "#f0f921"
             ]
            ],
            "type": "heatmap"
           }
          ],
          "heatmapgl": [
           {
            "colorbar": {
             "outlinewidth": 0,
             "ticks": ""
            },
            "colorscale": [
             [
              0,
              "#0d0887"
             ],
             [
              0.1111111111111111,
              "#46039f"
             ],
             [
              0.2222222222222222,
              "#7201a8"
             ],
             [
              0.3333333333333333,
              "#9c179e"
             ],
             [
              0.4444444444444444,
              "#bd3786"
             ],
             [
              0.5555555555555556,
              "#d8576b"
             ],
             [
              0.6666666666666666,
              "#ed7953"
             ],
             [
              0.7777777777777778,
              "#fb9f3a"
             ],
             [
              0.8888888888888888,
              "#fdca26"
             ],
             [
              1,
              "#f0f921"
             ]
            ],
            "type": "heatmapgl"
           }
          ],
          "histogram": [
           {
            "marker": {
             "pattern": {
              "fillmode": "overlay",
              "size": 10,
              "solidity": 0.2
             }
            },
            "type": "histogram"
           }
          ],
          "histogram2d": [
           {
            "colorbar": {
             "outlinewidth": 0,
             "ticks": ""
            },
            "colorscale": [
             [
              0,
              "#0d0887"
             ],
             [
              0.1111111111111111,
              "#46039f"
             ],
             [
              0.2222222222222222,
              "#7201a8"
             ],
             [
              0.3333333333333333,
              "#9c179e"
             ],
             [
              0.4444444444444444,
              "#bd3786"
             ],
             [
              0.5555555555555556,
              "#d8576b"
             ],
             [
              0.6666666666666666,
              "#ed7953"
             ],
             [
              0.7777777777777778,
              "#fb9f3a"
             ],
             [
              0.8888888888888888,
              "#fdca26"
             ],
             [
              1,
              "#f0f921"
             ]
            ],
            "type": "histogram2d"
           }
          ],
          "histogram2dcontour": [
           {
            "colorbar": {
             "outlinewidth": 0,
             "ticks": ""
            },
            "colorscale": [
             [
              0,
              "#0d0887"
             ],
             [
              0.1111111111111111,
              "#46039f"
             ],
             [
              0.2222222222222222,
              "#7201a8"
             ],
             [
              0.3333333333333333,
              "#9c179e"
             ],
             [
              0.4444444444444444,
              "#bd3786"
             ],
             [
              0.5555555555555556,
              "#d8576b"
             ],
             [
              0.6666666666666666,
              "#ed7953"
             ],
             [
              0.7777777777777778,
              "#fb9f3a"
             ],
             [
              0.8888888888888888,
              "#fdca26"
             ],
             [
              1,
              "#f0f921"
             ]
            ],
            "type": "histogram2dcontour"
           }
          ],
          "mesh3d": [
           {
            "colorbar": {
             "outlinewidth": 0,
             "ticks": ""
            },
            "type": "mesh3d"
           }
          ],
          "parcoords": [
           {
            "line": {
             "colorbar": {
              "outlinewidth": 0,
              "ticks": ""
             }
            },
            "type": "parcoords"
           }
          ],
          "pie": [
           {
            "automargin": true,
            "type": "pie"
           }
          ],
          "scatter": [
           {
            "fillpattern": {
             "fillmode": "overlay",
             "size": 10,
             "solidity": 0.2
            },
            "type": "scatter"
           }
          ],
          "scatter3d": [
           {
            "line": {
             "colorbar": {
              "outlinewidth": 0,
              "ticks": ""
             }
            },
            "marker": {
             "colorbar": {
              "outlinewidth": 0,
              "ticks": ""
             }
            },
            "type": "scatter3d"
           }
          ],
          "scattercarpet": [
           {
            "marker": {
             "colorbar": {
              "outlinewidth": 0,
              "ticks": ""
             }
            },
            "type": "scattercarpet"
           }
          ],
          "scattergeo": [
           {
            "marker": {
             "colorbar": {
              "outlinewidth": 0,
              "ticks": ""
             }
            },
            "type": "scattergeo"
           }
          ],
          "scattergl": [
           {
            "marker": {
             "colorbar": {
              "outlinewidth": 0,
              "ticks": ""
             }
            },
            "type": "scattergl"
           }
          ],
          "scattermapbox": [
           {
            "marker": {
             "colorbar": {
              "outlinewidth": 0,
              "ticks": ""
             }
            },
            "type": "scattermapbox"
           }
          ],
          "scatterpolar": [
           {
            "marker": {
             "colorbar": {
              "outlinewidth": 0,
              "ticks": ""
             }
            },
            "type": "scatterpolar"
           }
          ],
          "scatterpolargl": [
           {
            "marker": {
             "colorbar": {
              "outlinewidth": 0,
              "ticks": ""
             }
            },
            "type": "scatterpolargl"
           }
          ],
          "scatterternary": [
           {
            "marker": {
             "colorbar": {
              "outlinewidth": 0,
              "ticks": ""
             }
            },
            "type": "scatterternary"
           }
          ],
          "surface": [
           {
            "colorbar": {
             "outlinewidth": 0,
             "ticks": ""
            },
            "colorscale": [
             [
              0,
              "#0d0887"
             ],
             [
              0.1111111111111111,
              "#46039f"
             ],
             [
              0.2222222222222222,
              "#7201a8"
             ],
             [
              0.3333333333333333,
              "#9c179e"
             ],
             [
              0.4444444444444444,
              "#bd3786"
             ],
             [
              0.5555555555555556,
              "#d8576b"
             ],
             [
              0.6666666666666666,
              "#ed7953"
             ],
             [
              0.7777777777777778,
              "#fb9f3a"
             ],
             [
              0.8888888888888888,
              "#fdca26"
             ],
             [
              1,
              "#f0f921"
             ]
            ],
            "type": "surface"
           }
          ],
          "table": [
           {
            "cells": {
             "fill": {
              "color": "#EBF0F8"
             },
             "line": {
              "color": "white"
             }
            },
            "header": {
             "fill": {
              "color": "#C8D4E3"
             },
             "line": {
              "color": "white"
             }
            },
            "type": "table"
           }
          ]
         },
         "layout": {
          "annotationdefaults": {
           "arrowcolor": "#2a3f5f",
           "arrowhead": 0,
           "arrowwidth": 1
          },
          "autotypenumbers": "strict",
          "coloraxis": {
           "colorbar": {
            "outlinewidth": 0,
            "ticks": ""
           }
          },
          "colorscale": {
           "diverging": [
            [
             0,
             "#8e0152"
            ],
            [
             0.1,
             "#c51b7d"
            ],
            [
             0.2,
             "#de77ae"
            ],
            [
             0.3,
             "#f1b6da"
            ],
            [
             0.4,
             "#fde0ef"
            ],
            [
             0.5,
             "#f7f7f7"
            ],
            [
             0.6,
             "#e6f5d0"
            ],
            [
             0.7,
             "#b8e186"
            ],
            [
             0.8,
             "#7fbc41"
            ],
            [
             0.9,
             "#4d9221"
            ],
            [
             1,
             "#276419"
            ]
           ],
           "sequential": [
            [
             0,
             "#0d0887"
            ],
            [
             0.1111111111111111,
             "#46039f"
            ],
            [
             0.2222222222222222,
             "#7201a8"
            ],
            [
             0.3333333333333333,
             "#9c179e"
            ],
            [
             0.4444444444444444,
             "#bd3786"
            ],
            [
             0.5555555555555556,
             "#d8576b"
            ],
            [
             0.6666666666666666,
             "#ed7953"
            ],
            [
             0.7777777777777778,
             "#fb9f3a"
            ],
            [
             0.8888888888888888,
             "#fdca26"
            ],
            [
             1,
             "#f0f921"
            ]
           ],
           "sequentialminus": [
            [
             0,
             "#0d0887"
            ],
            [
             0.1111111111111111,
             "#46039f"
            ],
            [
             0.2222222222222222,
             "#7201a8"
            ],
            [
             0.3333333333333333,
             "#9c179e"
            ],
            [
             0.4444444444444444,
             "#bd3786"
            ],
            [
             0.5555555555555556,
             "#d8576b"
            ],
            [
             0.6666666666666666,
             "#ed7953"
            ],
            [
             0.7777777777777778,
             "#fb9f3a"
            ],
            [
             0.8888888888888888,
             "#fdca26"
            ],
            [
             1,
             "#f0f921"
            ]
           ]
          },
          "colorway": [
           "#636efa",
           "#EF553B",
           "#00cc96",
           "#ab63fa",
           "#FFA15A",
           "#19d3f3",
           "#FF6692",
           "#B6E880",
           "#FF97FF",
           "#FECB52"
          ],
          "font": {
           "color": "#2a3f5f"
          },
          "geo": {
           "bgcolor": "white",
           "lakecolor": "white",
           "landcolor": "#E5ECF6",
           "showlakes": true,
           "showland": true,
           "subunitcolor": "white"
          },
          "hoverlabel": {
           "align": "left"
          },
          "hovermode": "closest",
          "mapbox": {
           "style": "light"
          },
          "paper_bgcolor": "white",
          "plot_bgcolor": "#E5ECF6",
          "polar": {
           "angularaxis": {
            "gridcolor": "white",
            "linecolor": "white",
            "ticks": ""
           },
           "bgcolor": "#E5ECF6",
           "radialaxis": {
            "gridcolor": "white",
            "linecolor": "white",
            "ticks": ""
           }
          },
          "scene": {
           "xaxis": {
            "backgroundcolor": "#E5ECF6",
            "gridcolor": "white",
            "gridwidth": 2,
            "linecolor": "white",
            "showbackground": true,
            "ticks": "",
            "zerolinecolor": "white"
           },
           "yaxis": {
            "backgroundcolor": "#E5ECF6",
            "gridcolor": "white",
            "gridwidth": 2,
            "linecolor": "white",
            "showbackground": true,
            "ticks": "",
            "zerolinecolor": "white"
           },
           "zaxis": {
            "backgroundcolor": "#E5ECF6",
            "gridcolor": "white",
            "gridwidth": 2,
            "linecolor": "white",
            "showbackground": true,
            "ticks": "",
            "zerolinecolor": "white"
           }
          },
          "shapedefaults": {
           "line": {
            "color": "#2a3f5f"
           }
          },
          "ternary": {
           "aaxis": {
            "gridcolor": "white",
            "linecolor": "white",
            "ticks": ""
           },
           "baxis": {
            "gridcolor": "white",
            "linecolor": "white",
            "ticks": ""
           },
           "bgcolor": "#E5ECF6",
           "caxis": {
            "gridcolor": "white",
            "linecolor": "white",
            "ticks": ""
           }
          },
          "title": {
           "x": 0.05
          },
          "xaxis": {
           "automargin": true,
           "gridcolor": "white",
           "linecolor": "white",
           "ticks": "",
           "title": {
            "standoff": 15
           },
           "zerolinecolor": "white",
           "zerolinewidth": 2
          },
          "yaxis": {
           "automargin": true,
           "gridcolor": "white",
           "linecolor": "white",
           "ticks": "",
           "title": {
            "standoff": 15
           },
           "zerolinecolor": "white",
           "zerolinewidth": 2
          }
         }
        },
        "title": {
         "font": {
          "weight": 600
         },
         "text": "Average OUD Prevalence During 2016-2019",
         "x": 0.5,
         "xanchor": "center",
         "y": 0.99,
         "yanchor": "top"
        },
        "width": 1200
       }
      }
     },
     "metadata": {},
     "output_type": "display_data"
    }
   ],
   "source": [
    "# This cell contributed by Alex\n",
    "\n",
    "# Compare average OUD rates pre vs post expansion\n",
    "supertitle = 'Average OUD Prevalence During 2016-2019'\n",
    "rate_column = 'Avg_2016_2019'\n",
    "facet_column = 'Expansion_status'\n",
    "plots_per_row = 2\n",
    "avg_heatmap = draw_heatmap(all_pivot_df, rate_column, facet_column, plots_per_row, supertitle)\n",
    "avg_heatmap.show()"
   ]
  },
  {
   "cell_type": "markdown",
   "metadata": {},
   "source": [
    "We also created heatmaps for individual years to show the change in OUD prevalence over time pre- and post- expansion.\n",
    "\n",
    "In general, OUD rates decreased from 2016 to 2022 in both pre-expansion states and post-expansion states, suggesting that the decline in OUD rates was not solely due to Medicaid expansion. In addition, a few pre-expansion states (eg, Alabama) and post-expansion states (eg, Nevada) had consistently high OUD rates over time."
   ]
  },
  {
   "cell_type": "code",
   "execution_count": null,
   "metadata": {},
   "outputs": [
    {
     "data": {
      "application/vnd.plotly.v1+json": {
       "config": {
        "plotlyServerURL": "https://plot.ly"
       },
       "data": [
        {
         "coloraxis": "coloraxis",
         "geo": "geo4",
         "hovertemplate": "<b>%{hovertext}</b><br><br>rpt_yr=2016<br>Abbrev=%{location}<br>% OUD=%{z}<extra></extra>",
         "hovertext": [
          "AL",
          "FL",
          "GA",
          "KS",
          "MS",
          "SC",
          "TN",
          "TX",
          "WI",
          "WY"
         ],
         "locationmode": "USA-states",
         "locations": [
          "AL",
          "FL",
          "GA",
          "KS",
          "MS",
          "SC",
          "TN",
          "TX",
          "WI",
          "WY"
         ],
         "name": "",
         "type": "choropleth",
         "z": [
          5.3,
          4,
          3.8,
          4.2,
          4.5,
          4.6,
          4.8,
          4.6,
          3.3000000000000003,
          3.8
         ]
        },
        {
         "coloraxis": "coloraxis",
         "geo": "geo5",
         "hovertemplate": "<b>%{hovertext}</b><br><br>rpt_yr=2017<br>Abbrev=%{location}<br>% OUD=%{z}<extra></extra>",
         "hovertext": [
          "AL",
          "FL",
          "GA",
          "KS",
          "MS",
          "SC",
          "TN",
          "TX",
          "WI",
          "WY"
         ],
         "locationmode": "USA-states",
         "locations": [
          "AL",
          "FL",
          "GA",
          "KS",
          "MS",
          "SC",
          "TN",
          "TX",
          "WI",
          "WY"
         ],
         "name": "",
         "type": "choropleth",
         "z": [
          4.3999999999999995,
          4.3999999999999995,
          3.2,
          4.6,
          4,
          4.3,
          3.9,
          4,
          3.1,
          3.3000000000000003
         ]
        },
        {
         "coloraxis": "coloraxis",
         "geo": "geo6",
         "hovertemplate": "<b>%{hovertext}</b><br><br>rpt_yr=2018<br>Abbrev=%{location}<br>% OUD=%{z}<extra></extra>",
         "hovertext": [
          "AL",
          "FL",
          "GA",
          "KS",
          "MS",
          "SC",
          "TN",
          "TX",
          "WI",
          "WY"
         ],
         "locationmode": "USA-states",
         "locations": [
          "AL",
          "FL",
          "GA",
          "KS",
          "MS",
          "SC",
          "TN",
          "TX",
          "WI",
          "WY"
         ],
         "name": "",
         "type": "choropleth",
         "z": [
          5.2,
          4.6,
          3.5000000000000004,
          3.9,
          4.6,
          3.8,
          3.5000000000000004,
          3.5999999999999996,
          4.3,
          3
         ]
        },
        {
         "coloraxis": "coloraxis",
         "geo": "geo",
         "hovertemplate": "<b>%{hovertext}</b><br><br>rpt_yr=2019<br>Abbrev=%{location}<br>% OUD=%{z}<extra></extra>",
         "hovertext": [
          "AL",
          "FL",
          "GA",
          "KS",
          "MS",
          "SC",
          "TN",
          "TX",
          "WI",
          "WY"
         ],
         "locationmode": "USA-states",
         "locations": [
          "AL",
          "FL",
          "GA",
          "KS",
          "MS",
          "SC",
          "TN",
          "TX",
          "WI",
          "WY"
         ],
         "name": "",
         "type": "choropleth",
         "z": [
          5.3,
          3.9,
          3.5000000000000004,
          4,
          4.3999999999999995,
          3.5000000000000004,
          3.3000000000000003,
          3.5000000000000004,
          4,
          2.6
         ]
        },
        {
         "coloraxis": "coloraxis",
         "geo": "geo2",
         "hovertemplate": "<b>%{hovertext}</b><br><br>rpt_yr=2022<br>Abbrev=%{location}<br>% OUD=%{z}<extra></extra>",
         "hovertext": [
          "AL",
          "FL",
          "GA",
          "KS",
          "MS",
          "SC",
          "TN",
          "TX",
          "WI",
          "WY"
         ],
         "locationmode": "USA-states",
         "locations": [
          "AL",
          "FL",
          "GA",
          "KS",
          "MS",
          "SC",
          "TN",
          "TX",
          "WI",
          "WY"
         ],
         "name": "",
         "type": "choropleth",
         "z": [
          4.9,
          2.1999999999999997,
          2.8000000000000003,
          3.2,
          3.5999999999999996,
          2.9000000000000004,
          4.2,
          3.1,
          2.3,
          3.3000000000000003
         ]
        }
       ],
       "layout": {
        "annotations": [
         {
          "font": {
           "size": 16
          },
          "showarrow": false,
          "text": "2019",
          "x": 0.15999999999999998,
          "xanchor": "center",
          "xref": "paper",
          "y": 0.46499999999999997,
          "yanchor": "bottom",
          "yref": "paper"
         },
         {
          "font": {
           "size": 16
          },
          "showarrow": false,
          "text": "2022",
          "x": 0.49999999999999994,
          "xanchor": "center",
          "xref": "paper",
          "y": 0.46499999999999997,
          "yanchor": "bottom",
          "yref": "paper"
         },
         {
          "font": {
           "size": 16
          },
          "showarrow": false,
          "text": "2016",
          "x": 0.15999999999999998,
          "xanchor": "center",
          "xref": "paper",
          "y": 0.9999999999999999,
          "yanchor": "bottom",
          "yref": "paper"
         },
         {
          "font": {
           "size": 16
          },
          "showarrow": false,
          "text": "2017",
          "x": 0.49999999999999994,
          "xanchor": "center",
          "xref": "paper",
          "y": 0.9999999999999999,
          "yanchor": "bottom",
          "yref": "paper"
         },
         {
          "font": {
           "size": 16
          },
          "showarrow": false,
          "text": "2018",
          "x": 0.8399999999999999,
          "xanchor": "center",
          "xref": "paper",
          "y": 0.9999999999999999,
          "yanchor": "bottom",
          "yref": "paper"
         }
        ],
        "autosize": false,
        "coloraxis": {
         "colorbar": {
          "title": {
           "text": "% OUD"
          }
         },
         "colorscale": [
          [
           0,
           "rgb(5,48,97)"
          ],
          [
           0.1,
           "rgb(33,102,172)"
          ],
          [
           0.2,
           "rgb(67,147,195)"
          ],
          [
           0.3,
           "rgb(146,197,222)"
          ],
          [
           0.4,
           "rgb(209,229,240)"
          ],
          [
           0.5,
           "rgb(247,247,247)"
          ],
          [
           0.6,
           "rgb(253,219,199)"
          ],
          [
           0.7,
           "rgb(244,165,130)"
          ],
          [
           0.8,
           "rgb(214,96,77)"
          ],
          [
           0.9,
           "rgb(178,24,43)"
          ],
          [
           1,
           "rgb(103,0,31)"
          ]
         ]
        },
        "geo": {
         "center": {},
         "domain": {
          "x": [
           0,
           0.31999999999999995
          ],
          "y": [
           0,
           0.46499999999999997
          ]
         },
         "scope": "usa"
        },
        "geo2": {
         "center": {},
         "domain": {
          "x": [
           0.33999999999999997,
           0.6599999999999999
          ],
          "y": [
           0,
           0.46499999999999997
          ]
         },
         "scope": "usa"
        },
        "geo3": {
         "center": {},
         "domain": {
          "x": [
           0.6799999999999999,
           0.9999999999999999
          ],
          "y": [
           0,
           0.46499999999999997
          ]
         },
         "scope": "usa"
        },
        "geo4": {
         "center": {},
         "domain": {
          "x": [
           0,
           0.31999999999999995
          ],
          "y": [
           0.5349999999999999,
           0.9999999999999999
          ]
         },
         "scope": "usa"
        },
        "geo5": {
         "center": {},
         "domain": {
          "x": [
           0.33999999999999997,
           0.6599999999999999
          ],
          "y": [
           0.5349999999999999,
           0.9999999999999999
          ]
         },
         "scope": "usa"
        },
        "geo6": {
         "center": {},
         "domain": {
          "x": [
           0.6799999999999999,
           0.9999999999999999
          ],
          "y": [
           0.5349999999999999,
           0.9999999999999999
          ]
         },
         "scope": "usa"
        },
        "height": 600,
        "legend": {
         "tracegroupgap": 0
        },
        "margin": {
         "t": 60
        },
        "template": {
         "data": {
          "bar": [
           {
            "error_x": {
             "color": "#2a3f5f"
            },
            "error_y": {
             "color": "#2a3f5f"
            },
            "marker": {
             "line": {
              "color": "#E5ECF6",
              "width": 0.5
             },
             "pattern": {
              "fillmode": "overlay",
              "size": 10,
              "solidity": 0.2
             }
            },
            "type": "bar"
           }
          ],
          "barpolar": [
           {
            "marker": {
             "line": {
              "color": "#E5ECF6",
              "width": 0.5
             },
             "pattern": {
              "fillmode": "overlay",
              "size": 10,
              "solidity": 0.2
             }
            },
            "type": "barpolar"
           }
          ],
          "carpet": [
           {
            "aaxis": {
             "endlinecolor": "#2a3f5f",
             "gridcolor": "white",
             "linecolor": "white",
             "minorgridcolor": "white",
             "startlinecolor": "#2a3f5f"
            },
            "baxis": {
             "endlinecolor": "#2a3f5f",
             "gridcolor": "white",
             "linecolor": "white",
             "minorgridcolor": "white",
             "startlinecolor": "#2a3f5f"
            },
            "type": "carpet"
           }
          ],
          "choropleth": [
           {
            "colorbar": {
             "outlinewidth": 0,
             "ticks": ""
            },
            "type": "choropleth"
           }
          ],
          "contour": [
           {
            "colorbar": {
             "outlinewidth": 0,
             "ticks": ""
            },
            "colorscale": [
             [
              0,
              "#0d0887"
             ],
             [
              0.1111111111111111,
              "#46039f"
             ],
             [
              0.2222222222222222,
              "#7201a8"
             ],
             [
              0.3333333333333333,
              "#9c179e"
             ],
             [
              0.4444444444444444,
              "#bd3786"
             ],
             [
              0.5555555555555556,
              "#d8576b"
             ],
             [
              0.6666666666666666,
              "#ed7953"
             ],
             [
              0.7777777777777778,
              "#fb9f3a"
             ],
             [
              0.8888888888888888,
              "#fdca26"
             ],
             [
              1,
              "#f0f921"
             ]
            ],
            "type": "contour"
           }
          ],
          "contourcarpet": [
           {
            "colorbar": {
             "outlinewidth": 0,
             "ticks": ""
            },
            "type": "contourcarpet"
           }
          ],
          "heatmap": [
           {
            "colorbar": {
             "outlinewidth": 0,
             "ticks": ""
            },
            "colorscale": [
             [
              0,
              "#0d0887"
             ],
             [
              0.1111111111111111,
              "#46039f"
             ],
             [
              0.2222222222222222,
              "#7201a8"
             ],
             [
              0.3333333333333333,
              "#9c179e"
             ],
             [
              0.4444444444444444,
              "#bd3786"
             ],
             [
              0.5555555555555556,
              "#d8576b"
             ],
             [
              0.6666666666666666,
              "#ed7953"
             ],
             [
              0.7777777777777778,
              "#fb9f3a"
             ],
             [
              0.8888888888888888,
              "#fdca26"
             ],
             [
              1,
              "#f0f921"
             ]
            ],
            "type": "heatmap"
           }
          ],
          "heatmapgl": [
           {
            "colorbar": {
             "outlinewidth": 0,
             "ticks": ""
            },
            "colorscale": [
             [
              0,
              "#0d0887"
             ],
             [
              0.1111111111111111,
              "#46039f"
             ],
             [
              0.2222222222222222,
              "#7201a8"
             ],
             [
              0.3333333333333333,
              "#9c179e"
             ],
             [
              0.4444444444444444,
              "#bd3786"
             ],
             [
              0.5555555555555556,
              "#d8576b"
             ],
             [
              0.6666666666666666,
              "#ed7953"
             ],
             [
              0.7777777777777778,
              "#fb9f3a"
             ],
             [
              0.8888888888888888,
              "#fdca26"
             ],
             [
              1,
              "#f0f921"
             ]
            ],
            "type": "heatmapgl"
           }
          ],
          "histogram": [
           {
            "marker": {
             "pattern": {
              "fillmode": "overlay",
              "size": 10,
              "solidity": 0.2
             }
            },
            "type": "histogram"
           }
          ],
          "histogram2d": [
           {
            "colorbar": {
             "outlinewidth": 0,
             "ticks": ""
            },
            "colorscale": [
             [
              0,
              "#0d0887"
             ],
             [
              0.1111111111111111,
              "#46039f"
             ],
             [
              0.2222222222222222,
              "#7201a8"
             ],
             [
              0.3333333333333333,
              "#9c179e"
             ],
             [
              0.4444444444444444,
              "#bd3786"
             ],
             [
              0.5555555555555556,
              "#d8576b"
             ],
             [
              0.6666666666666666,
              "#ed7953"
             ],
             [
              0.7777777777777778,
              "#fb9f3a"
             ],
             [
              0.8888888888888888,
              "#fdca26"
             ],
             [
              1,
              "#f0f921"
             ]
            ],
            "type": "histogram2d"
           }
          ],
          "histogram2dcontour": [
           {
            "colorbar": {
             "outlinewidth": 0,
             "ticks": ""
            },
            "colorscale": [
             [
              0,
              "#0d0887"
             ],
             [
              0.1111111111111111,
              "#46039f"
             ],
             [
              0.2222222222222222,
              "#7201a8"
             ],
             [
              0.3333333333333333,
              "#9c179e"
             ],
             [
              0.4444444444444444,
              "#bd3786"
             ],
             [
              0.5555555555555556,
              "#d8576b"
             ],
             [
              0.6666666666666666,
              "#ed7953"
             ],
             [
              0.7777777777777778,
              "#fb9f3a"
             ],
             [
              0.8888888888888888,
              "#fdca26"
             ],
             [
              1,
              "#f0f921"
             ]
            ],
            "type": "histogram2dcontour"
           }
          ],
          "mesh3d": [
           {
            "colorbar": {
             "outlinewidth": 0,
             "ticks": ""
            },
            "type": "mesh3d"
           }
          ],
          "parcoords": [
           {
            "line": {
             "colorbar": {
              "outlinewidth": 0,
              "ticks": ""
             }
            },
            "type": "parcoords"
           }
          ],
          "pie": [
           {
            "automargin": true,
            "type": "pie"
           }
          ],
          "scatter": [
           {
            "fillpattern": {
             "fillmode": "overlay",
             "size": 10,
             "solidity": 0.2
            },
            "type": "scatter"
           }
          ],
          "scatter3d": [
           {
            "line": {
             "colorbar": {
              "outlinewidth": 0,
              "ticks": ""
             }
            },
            "marker": {
             "colorbar": {
              "outlinewidth": 0,
              "ticks": ""
             }
            },
            "type": "scatter3d"
           }
          ],
          "scattercarpet": [
           {
            "marker": {
             "colorbar": {
              "outlinewidth": 0,
              "ticks": ""
             }
            },
            "type": "scattercarpet"
           }
          ],
          "scattergeo": [
           {
            "marker": {
             "colorbar": {
              "outlinewidth": 0,
              "ticks": ""
             }
            },
            "type": "scattergeo"
           }
          ],
          "scattergl": [
           {
            "marker": {
             "colorbar": {
              "outlinewidth": 0,
              "ticks": ""
             }
            },
            "type": "scattergl"
           }
          ],
          "scattermapbox": [
           {
            "marker": {
             "colorbar": {
              "outlinewidth": 0,
              "ticks": ""
             }
            },
            "type": "scattermapbox"
           }
          ],
          "scatterpolar": [
           {
            "marker": {
             "colorbar": {
              "outlinewidth": 0,
              "ticks": ""
             }
            },
            "type": "scatterpolar"
           }
          ],
          "scatterpolargl": [
           {
            "marker": {
             "colorbar": {
              "outlinewidth": 0,
              "ticks": ""
             }
            },
            "type": "scatterpolargl"
           }
          ],
          "scatterternary": [
           {
            "marker": {
             "colorbar": {
              "outlinewidth": 0,
              "ticks": ""
             }
            },
            "type": "scatterternary"
           }
          ],
          "surface": [
           {
            "colorbar": {
             "outlinewidth": 0,
             "ticks": ""
            },
            "colorscale": [
             [
              0,
              "#0d0887"
             ],
             [
              0.1111111111111111,
              "#46039f"
             ],
             [
              0.2222222222222222,
              "#7201a8"
             ],
             [
              0.3333333333333333,
              "#9c179e"
             ],
             [
              0.4444444444444444,
              "#bd3786"
             ],
             [
              0.5555555555555556,
              "#d8576b"
             ],
             [
              0.6666666666666666,
              "#ed7953"
             ],
             [
              0.7777777777777778,
              "#fb9f3a"
             ],
             [
              0.8888888888888888,
              "#fdca26"
             ],
             [
              1,
              "#f0f921"
             ]
            ],
            "type": "surface"
           }
          ],
          "table": [
           {
            "cells": {
             "fill": {
              "color": "#EBF0F8"
             },
             "line": {
              "color": "white"
             }
            },
            "header": {
             "fill": {
              "color": "#C8D4E3"
             },
             "line": {
              "color": "white"
             }
            },
            "type": "table"
           }
          ]
         },
         "layout": {
          "annotationdefaults": {
           "arrowcolor": "#2a3f5f",
           "arrowhead": 0,
           "arrowwidth": 1
          },
          "autotypenumbers": "strict",
          "coloraxis": {
           "colorbar": {
            "outlinewidth": 0,
            "ticks": ""
           }
          },
          "colorscale": {
           "diverging": [
            [
             0,
             "#8e0152"
            ],
            [
             0.1,
             "#c51b7d"
            ],
            [
             0.2,
             "#de77ae"
            ],
            [
             0.3,
             "#f1b6da"
            ],
            [
             0.4,
             "#fde0ef"
            ],
            [
             0.5,
             "#f7f7f7"
            ],
            [
             0.6,
             "#e6f5d0"
            ],
            [
             0.7,
             "#b8e186"
            ],
            [
             0.8,
             "#7fbc41"
            ],
            [
             0.9,
             "#4d9221"
            ],
            [
             1,
             "#276419"
            ]
           ],
           "sequential": [
            [
             0,
             "#0d0887"
            ],
            [
             0.1111111111111111,
             "#46039f"
            ],
            [
             0.2222222222222222,
             "#7201a8"
            ],
            [
             0.3333333333333333,
             "#9c179e"
            ],
            [
             0.4444444444444444,
             "#bd3786"
            ],
            [
             0.5555555555555556,
             "#d8576b"
            ],
            [
             0.6666666666666666,
             "#ed7953"
            ],
            [
             0.7777777777777778,
             "#fb9f3a"
            ],
            [
             0.8888888888888888,
             "#fdca26"
            ],
            [
             1,
             "#f0f921"
            ]
           ],
           "sequentialminus": [
            [
             0,
             "#0d0887"
            ],
            [
             0.1111111111111111,
             "#46039f"
            ],
            [
             0.2222222222222222,
             "#7201a8"
            ],
            [
             0.3333333333333333,
             "#9c179e"
            ],
            [
             0.4444444444444444,
             "#bd3786"
            ],
            [
             0.5555555555555556,
             "#d8576b"
            ],
            [
             0.6666666666666666,
             "#ed7953"
            ],
            [
             0.7777777777777778,
             "#fb9f3a"
            ],
            [
             0.8888888888888888,
             "#fdca26"
            ],
            [
             1,
             "#f0f921"
            ]
           ]
          },
          "colorway": [
           "#636efa",
           "#EF553B",
           "#00cc96",
           "#ab63fa",
           "#FFA15A",
           "#19d3f3",
           "#FF6692",
           "#B6E880",
           "#FF97FF",
           "#FECB52"
          ],
          "font": {
           "color": "#2a3f5f"
          },
          "geo": {
           "bgcolor": "white",
           "lakecolor": "white",
           "landcolor": "#E5ECF6",
           "showlakes": true,
           "showland": true,
           "subunitcolor": "white"
          },
          "hoverlabel": {
           "align": "left"
          },
          "hovermode": "closest",
          "mapbox": {
           "style": "light"
          },
          "paper_bgcolor": "white",
          "plot_bgcolor": "#E5ECF6",
          "polar": {
           "angularaxis": {
            "gridcolor": "white",
            "linecolor": "white",
            "ticks": ""
           },
           "bgcolor": "#E5ECF6",
           "radialaxis": {
            "gridcolor": "white",
            "linecolor": "white",
            "ticks": ""
           }
          },
          "scene": {
           "xaxis": {
            "backgroundcolor": "#E5ECF6",
            "gridcolor": "white",
            "gridwidth": 2,
            "linecolor": "white",
            "showbackground": true,
            "ticks": "",
            "zerolinecolor": "white"
           },
           "yaxis": {
            "backgroundcolor": "#E5ECF6",
            "gridcolor": "white",
            "gridwidth": 2,
            "linecolor": "white",
            "showbackground": true,
            "ticks": "",
            "zerolinecolor": "white"
           },
           "zaxis": {
            "backgroundcolor": "#E5ECF6",
            "gridcolor": "white",
            "gridwidth": 2,
            "linecolor": "white",
            "showbackground": true,
            "ticks": "",
            "zerolinecolor": "white"
           }
          },
          "shapedefaults": {
           "line": {
            "color": "#2a3f5f"
           }
          },
          "ternary": {
           "aaxis": {
            "gridcolor": "white",
            "linecolor": "white",
            "ticks": ""
           },
           "baxis": {
            "gridcolor": "white",
            "linecolor": "white",
            "ticks": ""
           },
           "bgcolor": "#E5ECF6",
           "caxis": {
            "gridcolor": "white",
            "linecolor": "white",
            "ticks": ""
           }
          },
          "title": {
           "x": 0.05
          },
          "xaxis": {
           "automargin": true,
           "gridcolor": "white",
           "linecolor": "white",
           "ticks": "",
           "title": {
            "standoff": 15
           },
           "zerolinecolor": "white",
           "zerolinewidth": 2
          },
          "yaxis": {
           "automargin": true,
           "gridcolor": "white",
           "linecolor": "white",
           "ticks": "",
           "title": {
            "standoff": 15
           },
           "zerolinecolor": "white",
           "zerolinewidth": 2
          }
         }
        },
        "title": {
         "font": {
          "weight": 600
         },
         "text": "OUD Prevalence Pre-Medicaid Expansion",
         "x": 0.5,
         "xanchor": "center",
         "y": 0.99,
         "yanchor": "top"
        },
        "width": 1200
       }
      }
     },
     "metadata": {},
     "output_type": "display_data"
    }
   ],
   "source": [
    "# Author: Alex\n",
    "\n",
    "# Annual changes in OUD rates pre-expansion\n",
    "supertitle = 'OUD Prevalence Pre-Medicaid Expansion'\n",
    "rate_column = 'Scaled Row %'\n",
    "facet_column = 'rpt_yr'\n",
    "plots_per_row = 3\n",
    "pre_heatmap = draw_heatmap(not_expanded_df, rate_column, facet_column, plots_per_row, supertitle)\n",
    "pre_heatmap.show()"
   ]
  },
  {
   "cell_type": "code",
   "execution_count": null,
   "metadata": {},
   "outputs": [
    {
     "data": {
      "application/vnd.plotly.v1+json": {
       "config": {
        "plotlyServerURL": "https://plot.ly"
       },
       "data": [
        {
         "coloraxis": "coloraxis",
         "geo": "geo4",
         "hovertemplate": "<b>%{hovertext}</b><br><br>rpt_yr=2016<br>Abbrev=%{location}<br>% OUD=%{z}<extra></extra>",
         "hovertext": [
          "AK",
          "AR",
          "AZ",
          "CA",
          "CO",
          "CT",
          "DE",
          "HI",
          "IA",
          "ID",
          "IL",
          "IN",
          "KY",
          "LA",
          "MA",
          "MD",
          "ME",
          "MI",
          "MN",
          "MO",
          "MT",
          "NC",
          "ND",
          "NE",
          "NH",
          "NJ",
          "NM",
          "NV",
          "NY",
          "OH",
          "OK",
          "OR",
          "PA",
          "RI",
          "SD",
          "UT",
          "VA",
          "VT",
          "WA",
          "WV"
         ],
         "locationmode": "USA-states",
         "locations": [
          "AK",
          "AR",
          "AZ",
          "CA",
          "CO",
          "CT",
          "DE",
          "HI",
          "IA",
          "ID",
          "IL",
          "IN",
          "KY",
          "LA",
          "MA",
          "MD",
          "ME",
          "MI",
          "MN",
          "MO",
          "MT",
          "NC",
          "ND",
          "NE",
          "NH",
          "NJ",
          "NM",
          "NV",
          "NY",
          "OH",
          "OK",
          "OR",
          "PA",
          "RI",
          "SD",
          "UT",
          "VA",
          "VT",
          "WA",
          "WV"
         ],
         "name": "",
         "type": "choropleth",
         "z": [
          4.6,
          4.8,
          4.7,
          4.8,
          5.6000000000000005,
          5.2,
          4.7,
          4.5,
          3.3000000000000003,
          5.1,
          3.8,
          5.1,
          5.2,
          4.6,
          3.5999999999999996,
          3.9,
          2.8000000000000003,
          5.1,
          4.1000000000000005,
          4.2,
          4.7,
          4.9,
          3.6999999999999997,
          3.5999999999999996,
          5.1,
          3.5000000000000004,
          4.1000000000000005,
          5.7,
          3.6999999999999997,
          4.6,
          4.2,
          5.7,
          4.5,
          5.2,
          4,
          5.1,
          3.8,
          5,
          6.5,
          3.8
         ]
        },
        {
         "coloraxis": "coloraxis",
         "geo": "geo5",
         "hovertemplate": "<b>%{hovertext}</b><br><br>rpt_yr=2017<br>Abbrev=%{location}<br>% OUD=%{z}<extra></extra>",
         "hovertext": [
          "AK",
          "AR",
          "AZ",
          "CA",
          "CO",
          "CT",
          "DE",
          "HI",
          "IA",
          "ID",
          "IL",
          "IN",
          "KY",
          "LA",
          "MA",
          "MD",
          "ME",
          "MI",
          "MN",
          "MO",
          "MT",
          "NC",
          "ND",
          "NE",
          "NH",
          "NJ",
          "NM",
          "NV",
          "NY",
          "OH",
          "OK",
          "OR",
          "PA",
          "RI",
          "SD",
          "UT",
          "VA",
          "VT",
          "WA",
          "WV"
         ],
         "locationmode": "USA-states",
         "locations": [
          "AK",
          "AR",
          "AZ",
          "CA",
          "CO",
          "CT",
          "DE",
          "HI",
          "IA",
          "ID",
          "IL",
          "IN",
          "KY",
          "LA",
          "MA",
          "MD",
          "ME",
          "MI",
          "MN",
          "MO",
          "MT",
          "NC",
          "ND",
          "NE",
          "NH",
          "NJ",
          "NM",
          "NV",
          "NY",
          "OH",
          "OK",
          "OR",
          "PA",
          "RI",
          "SD",
          "UT",
          "VA",
          "VT",
          "WA",
          "WV"
         ],
         "name": "",
         "type": "choropleth",
         "z": [
          5.1,
          5.7,
          4.2,
          4.3999999999999995,
          5.2,
          4.5,
          4.5,
          3.5999999999999996,
          4.1000000000000005,
          3.8,
          3.4000000000000004,
          5.5,
          4.3999999999999995,
          4.2,
          3.1,
          3.5999999999999996,
          3.2,
          4.5,
          4.1000000000000005,
          4.1000000000000005,
          4.3999999999999995,
          4.2,
          3.2,
          2.9000000000000004,
          4.3,
          3.4000000000000004,
          3.9,
          6,
          3.2,
          5,
          3.9,
          5.8999999999999995,
          4.3999999999999995,
          4.7,
          4.5,
          5,
          3.5999999999999996,
          3.9,
          5.5,
          3.5999999999999996
         ]
        },
        {
         "coloraxis": "coloraxis",
         "geo": "geo6",
         "hovertemplate": "<b>%{hovertext}</b><br><br>rpt_yr=2018<br>Abbrev=%{location}<br>% OUD=%{z}<extra></extra>",
         "hovertext": [
          "AK",
          "AR",
          "AZ",
          "CA",
          "CO",
          "CT",
          "DE",
          "HI",
          "IA",
          "ID",
          "IL",
          "IN",
          "KY",
          "LA",
          "MA",
          "MD",
          "ME",
          "MI",
          "MN",
          "MO",
          "MT",
          "NC",
          "ND",
          "NE",
          "NH",
          "NJ",
          "NM",
          "NV",
          "NY",
          "OH",
          "OK",
          "OR",
          "PA",
          "RI",
          "SD",
          "UT",
          "VA",
          "VT",
          "WA",
          "WV"
         ],
         "locationmode": "USA-states",
         "locations": [
          "AK",
          "AR",
          "AZ",
          "CA",
          "CO",
          "CT",
          "DE",
          "HI",
          "IA",
          "ID",
          "IL",
          "IN",
          "KY",
          "LA",
          "MA",
          "MD",
          "ME",
          "MI",
          "MN",
          "MO",
          "MT",
          "NC",
          "ND",
          "NE",
          "NH",
          "NJ",
          "NM",
          "NV",
          "NY",
          "OH",
          "OK",
          "OR",
          "PA",
          "RI",
          "SD",
          "UT",
          "VA",
          "VT",
          "WA",
          "WV"
         ],
         "name": "",
         "type": "choropleth",
         "z": [
          5.4,
          5.3,
          4.3,
          3.9,
          5.5,
          3.8,
          3.6999999999999997,
          3.6999999999999997,
          4,
          4.6,
          2.7,
          5.1,
          4.3999999999999995,
          4.9,
          3.3000000000000003,
          3.5000000000000004,
          3.2,
          3.8,
          3.5000000000000004,
          4.1000000000000005,
          4.1000000000000005,
          3.2,
          3.1,
          3.1,
          3.6999999999999997,
          3.1,
          3.5999999999999996,
          5.7,
          2.8000000000000003,
          4.3999999999999995,
          4,
          5,
          3.6999999999999997,
          3.9,
          3.6999999999999997,
          3.4000000000000004,
          3.4000000000000004,
          3.3000000000000003,
          4.1000000000000005,
          3.2
         ]
        },
        {
         "coloraxis": "coloraxis",
         "geo": "geo",
         "hovertemplate": "<b>%{hovertext}</b><br><br>rpt_yr=2019<br>Abbrev=%{location}<br>% OUD=%{z}<extra></extra>",
         "hovertext": [
          "AK",
          "AR",
          "AZ",
          "CA",
          "CO",
          "CT",
          "DE",
          "HI",
          "IA",
          "ID",
          "IL",
          "IN",
          "KY",
          "LA",
          "MA",
          "MD",
          "ME",
          "MI",
          "MN",
          "MO",
          "MT",
          "NC",
          "ND",
          "NE",
          "NH",
          "NJ",
          "NM",
          "NV",
          "NY",
          "OH",
          "OK",
          "OR",
          "PA",
          "RI",
          "SD",
          "UT",
          "VA",
          "VT",
          "WA",
          "WV"
         ],
         "locationmode": "USA-states",
         "locations": [
          "AK",
          "AR",
          "AZ",
          "CA",
          "CO",
          "CT",
          "DE",
          "HI",
          "IA",
          "ID",
          "IL",
          "IN",
          "KY",
          "LA",
          "MA",
          "MD",
          "ME",
          "MI",
          "MN",
          "MO",
          "MT",
          "NC",
          "ND",
          "NE",
          "NH",
          "NJ",
          "NM",
          "NV",
          "NY",
          "OH",
          "OK",
          "OR",
          "PA",
          "RI",
          "SD",
          "UT",
          "VA",
          "VT",
          "WA",
          "WV"
         ],
         "name": "",
         "type": "choropleth",
         "z": [
          4.2,
          3.5000000000000004,
          4,
          3.6999999999999997,
          4.6,
          3.1,
          3.4000000000000004,
          4.2,
          4.3999999999999995,
          4.3999999999999995,
          2.4,
          3.6999999999999997,
          4.6,
          4.3,
          2.8000000000000003,
          3.4000000000000004,
          2.8000000000000003,
          3.9,
          3.5000000000000004,
          3.4000000000000004,
          4.5,
          3.5000000000000004,
          3.5999999999999996,
          2.4,
          3.1,
          2.8000000000000003,
          3.6999999999999997,
          4.1000000000000005,
          2.7,
          4.1000000000000005,
          4,
          5.1,
          3,
          3.1,
          2.4,
          3.5999999999999996,
          3.4000000000000004,
          3.2,
          4.3,
          2.7
         ]
        },
        {
         "coloraxis": "coloraxis",
         "geo": "geo2",
         "hovertemplate": "<b>%{hovertext}</b><br><br>rpt_yr=2022<br>Abbrev=%{location}<br>% OUD=%{z}<extra></extra>",
         "hovertext": [
          "AK",
          "AR",
          "AZ",
          "CA",
          "CO",
          "CT",
          "DE",
          "HI",
          "IA",
          "ID",
          "IL",
          "IN",
          "KY",
          "LA",
          "MA",
          "MD",
          "ME",
          "MI",
          "MN",
          "MO",
          "MT",
          "NC",
          "ND",
          "NE",
          "NH",
          "NJ",
          "NM",
          "NV",
          "NY",
          "OH",
          "OK",
          "OR",
          "PA",
          "RI",
          "SD",
          "UT",
          "VA",
          "VT",
          "WA",
          "WV"
         ],
         "locationmode": "USA-states",
         "locations": [
          "AK",
          "AR",
          "AZ",
          "CA",
          "CO",
          "CT",
          "DE",
          "HI",
          "IA",
          "ID",
          "IL",
          "IN",
          "KY",
          "LA",
          "MA",
          "MD",
          "ME",
          "MI",
          "MN",
          "MO",
          "MT",
          "NC",
          "ND",
          "NE",
          "NH",
          "NJ",
          "NM",
          "NV",
          "NY",
          "OH",
          "OK",
          "OR",
          "PA",
          "RI",
          "SD",
          "UT",
          "VA",
          "VT",
          "WA",
          "WV"
         ],
         "name": "",
         "type": "choropleth",
         "z": [
          3,
          4.3,
          3.4000000000000004,
          3,
          3.1,
          2.7,
          3.1,
          3.3000000000000003,
          2.8000000000000003,
          3.5000000000000004,
          2.7,
          3.1,
          3.9,
          4.7,
          2.5,
          4.5,
          1.3,
          2.3,
          2.1999999999999997,
          4.3999999999999995,
          2.6,
          2.7,
          2.3,
          1.9,
          1.7999999999999998,
          2.6,
          4.5,
          5.2,
          2.9000000000000004,
          3.2,
          4,
          4,
          3,
          3.6999999999999997,
          2.1,
          3.5999999999999996,
          2.7,
          2.5,
          2.4,
          3.5999999999999996
         ]
        }
       ],
       "layout": {
        "annotations": [
         {
          "font": {
           "size": 16
          },
          "showarrow": false,
          "text": "2019",
          "x": 0.15999999999999998,
          "xanchor": "center",
          "xref": "paper",
          "y": 0.46499999999999997,
          "yanchor": "bottom",
          "yref": "paper"
         },
         {
          "font": {
           "size": 16
          },
          "showarrow": false,
          "text": "2022",
          "x": 0.49999999999999994,
          "xanchor": "center",
          "xref": "paper",
          "y": 0.46499999999999997,
          "yanchor": "bottom",
          "yref": "paper"
         },
         {
          "font": {
           "size": 16
          },
          "showarrow": false,
          "text": "2016",
          "x": 0.15999999999999998,
          "xanchor": "center",
          "xref": "paper",
          "y": 0.9999999999999999,
          "yanchor": "bottom",
          "yref": "paper"
         },
         {
          "font": {
           "size": 16
          },
          "showarrow": false,
          "text": "2017",
          "x": 0.49999999999999994,
          "xanchor": "center",
          "xref": "paper",
          "y": 0.9999999999999999,
          "yanchor": "bottom",
          "yref": "paper"
         },
         {
          "font": {
           "size": 16
          },
          "showarrow": false,
          "text": "2018",
          "x": 0.8399999999999999,
          "xanchor": "center",
          "xref": "paper",
          "y": 0.9999999999999999,
          "yanchor": "bottom",
          "yref": "paper"
         }
        ],
        "autosize": false,
        "coloraxis": {
         "colorbar": {
          "title": {
           "text": "% OUD"
          }
         },
         "colorscale": [
          [
           0,
           "rgb(5,48,97)"
          ],
          [
           0.1,
           "rgb(33,102,172)"
          ],
          [
           0.2,
           "rgb(67,147,195)"
          ],
          [
           0.3,
           "rgb(146,197,222)"
          ],
          [
           0.4,
           "rgb(209,229,240)"
          ],
          [
           0.5,
           "rgb(247,247,247)"
          ],
          [
           0.6,
           "rgb(253,219,199)"
          ],
          [
           0.7,
           "rgb(244,165,130)"
          ],
          [
           0.8,
           "rgb(214,96,77)"
          ],
          [
           0.9,
           "rgb(178,24,43)"
          ],
          [
           1,
           "rgb(103,0,31)"
          ]
         ]
        },
        "geo": {
         "center": {},
         "domain": {
          "x": [
           0,
           0.31999999999999995
          ],
          "y": [
           0,
           0.46499999999999997
          ]
         },
         "scope": "usa"
        },
        "geo2": {
         "center": {},
         "domain": {
          "x": [
           0.33999999999999997,
           0.6599999999999999
          ],
          "y": [
           0,
           0.46499999999999997
          ]
         },
         "scope": "usa"
        },
        "geo3": {
         "center": {},
         "domain": {
          "x": [
           0.6799999999999999,
           0.9999999999999999
          ],
          "y": [
           0,
           0.46499999999999997
          ]
         },
         "scope": "usa"
        },
        "geo4": {
         "center": {},
         "domain": {
          "x": [
           0,
           0.31999999999999995
          ],
          "y": [
           0.5349999999999999,
           0.9999999999999999
          ]
         },
         "scope": "usa"
        },
        "geo5": {
         "center": {},
         "domain": {
          "x": [
           0.33999999999999997,
           0.6599999999999999
          ],
          "y": [
           0.5349999999999999,
           0.9999999999999999
          ]
         },
         "scope": "usa"
        },
        "geo6": {
         "center": {},
         "domain": {
          "x": [
           0.6799999999999999,
           0.9999999999999999
          ],
          "y": [
           0.5349999999999999,
           0.9999999999999999
          ]
         },
         "scope": "usa"
        },
        "height": 600,
        "legend": {
         "tracegroupgap": 0
        },
        "margin": {
         "t": 60
        },
        "template": {
         "data": {
          "bar": [
           {
            "error_x": {
             "color": "#2a3f5f"
            },
            "error_y": {
             "color": "#2a3f5f"
            },
            "marker": {
             "line": {
              "color": "#E5ECF6",
              "width": 0.5
             },
             "pattern": {
              "fillmode": "overlay",
              "size": 10,
              "solidity": 0.2
             }
            },
            "type": "bar"
           }
          ],
          "barpolar": [
           {
            "marker": {
             "line": {
              "color": "#E5ECF6",
              "width": 0.5
             },
             "pattern": {
              "fillmode": "overlay",
              "size": 10,
              "solidity": 0.2
             }
            },
            "type": "barpolar"
           }
          ],
          "carpet": [
           {
            "aaxis": {
             "endlinecolor": "#2a3f5f",
             "gridcolor": "white",
             "linecolor": "white",
             "minorgridcolor": "white",
             "startlinecolor": "#2a3f5f"
            },
            "baxis": {
             "endlinecolor": "#2a3f5f",
             "gridcolor": "white",
             "linecolor": "white",
             "minorgridcolor": "white",
             "startlinecolor": "#2a3f5f"
            },
            "type": "carpet"
           }
          ],
          "choropleth": [
           {
            "colorbar": {
             "outlinewidth": 0,
             "ticks": ""
            },
            "type": "choropleth"
           }
          ],
          "contour": [
           {
            "colorbar": {
             "outlinewidth": 0,
             "ticks": ""
            },
            "colorscale": [
             [
              0,
              "#0d0887"
             ],
             [
              0.1111111111111111,
              "#46039f"
             ],
             [
              0.2222222222222222,
              "#7201a8"
             ],
             [
              0.3333333333333333,
              "#9c179e"
             ],
             [
              0.4444444444444444,
              "#bd3786"
             ],
             [
              0.5555555555555556,
              "#d8576b"
             ],
             [
              0.6666666666666666,
              "#ed7953"
             ],
             [
              0.7777777777777778,
              "#fb9f3a"
             ],
             [
              0.8888888888888888,
              "#fdca26"
             ],
             [
              1,
              "#f0f921"
             ]
            ],
            "type": "contour"
           }
          ],
          "contourcarpet": [
           {
            "colorbar": {
             "outlinewidth": 0,
             "ticks": ""
            },
            "type": "contourcarpet"
           }
          ],
          "heatmap": [
           {
            "colorbar": {
             "outlinewidth": 0,
             "ticks": ""
            },
            "colorscale": [
             [
              0,
              "#0d0887"
             ],
             [
              0.1111111111111111,
              "#46039f"
             ],
             [
              0.2222222222222222,
              "#7201a8"
             ],
             [
              0.3333333333333333,
              "#9c179e"
             ],
             [
              0.4444444444444444,
              "#bd3786"
             ],
             [
              0.5555555555555556,
              "#d8576b"
             ],
             [
              0.6666666666666666,
              "#ed7953"
             ],
             [
              0.7777777777777778,
              "#fb9f3a"
             ],
             [
              0.8888888888888888,
              "#fdca26"
             ],
             [
              1,
              "#f0f921"
             ]
            ],
            "type": "heatmap"
           }
          ],
          "heatmapgl": [
           {
            "colorbar": {
             "outlinewidth": 0,
             "ticks": ""
            },
            "colorscale": [
             [
              0,
              "#0d0887"
             ],
             [
              0.1111111111111111,
              "#46039f"
             ],
             [
              0.2222222222222222,
              "#7201a8"
             ],
             [
              0.3333333333333333,
              "#9c179e"
             ],
             [
              0.4444444444444444,
              "#bd3786"
             ],
             [
              0.5555555555555556,
              "#d8576b"
             ],
             [
              0.6666666666666666,
              "#ed7953"
             ],
             [
              0.7777777777777778,
              "#fb9f3a"
             ],
             [
              0.8888888888888888,
              "#fdca26"
             ],
             [
              1,
              "#f0f921"
             ]
            ],
            "type": "heatmapgl"
           }
          ],
          "histogram": [
           {
            "marker": {
             "pattern": {
              "fillmode": "overlay",
              "size": 10,
              "solidity": 0.2
             }
            },
            "type": "histogram"
           }
          ],
          "histogram2d": [
           {
            "colorbar": {
             "outlinewidth": 0,
             "ticks": ""
            },
            "colorscale": [
             [
              0,
              "#0d0887"
             ],
             [
              0.1111111111111111,
              "#46039f"
             ],
             [
              0.2222222222222222,
              "#7201a8"
             ],
             [
              0.3333333333333333,
              "#9c179e"
             ],
             [
              0.4444444444444444,
              "#bd3786"
             ],
             [
              0.5555555555555556,
              "#d8576b"
             ],
             [
              0.6666666666666666,
              "#ed7953"
             ],
             [
              0.7777777777777778,
              "#fb9f3a"
             ],
             [
              0.8888888888888888,
              "#fdca26"
             ],
             [
              1,
              "#f0f921"
             ]
            ],
            "type": "histogram2d"
           }
          ],
          "histogram2dcontour": [
           {
            "colorbar": {
             "outlinewidth": 0,
             "ticks": ""
            },
            "colorscale": [
             [
              0,
              "#0d0887"
             ],
             [
              0.1111111111111111,
              "#46039f"
             ],
             [
              0.2222222222222222,
              "#7201a8"
             ],
             [
              0.3333333333333333,
              "#9c179e"
             ],
             [
              0.4444444444444444,
              "#bd3786"
             ],
             [
              0.5555555555555556,
              "#d8576b"
             ],
             [
              0.6666666666666666,
              "#ed7953"
             ],
             [
              0.7777777777777778,
              "#fb9f3a"
             ],
             [
              0.8888888888888888,
              "#fdca26"
             ],
             [
              1,
              "#f0f921"
             ]
            ],
            "type": "histogram2dcontour"
           }
          ],
          "mesh3d": [
           {
            "colorbar": {
             "outlinewidth": 0,
             "ticks": ""
            },
            "type": "mesh3d"
           }
          ],
          "parcoords": [
           {
            "line": {
             "colorbar": {
              "outlinewidth": 0,
              "ticks": ""
             }
            },
            "type": "parcoords"
           }
          ],
          "pie": [
           {
            "automargin": true,
            "type": "pie"
           }
          ],
          "scatter": [
           {
            "fillpattern": {
             "fillmode": "overlay",
             "size": 10,
             "solidity": 0.2
            },
            "type": "scatter"
           }
          ],
          "scatter3d": [
           {
            "line": {
             "colorbar": {
              "outlinewidth": 0,
              "ticks": ""
             }
            },
            "marker": {
             "colorbar": {
              "outlinewidth": 0,
              "ticks": ""
             }
            },
            "type": "scatter3d"
           }
          ],
          "scattercarpet": [
           {
            "marker": {
             "colorbar": {
              "outlinewidth": 0,
              "ticks": ""
             }
            },
            "type": "scattercarpet"
           }
          ],
          "scattergeo": [
           {
            "marker": {
             "colorbar": {
              "outlinewidth": 0,
              "ticks": ""
             }
            },
            "type": "scattergeo"
           }
          ],
          "scattergl": [
           {
            "marker": {
             "colorbar": {
              "outlinewidth": 0,
              "ticks": ""
             }
            },
            "type": "scattergl"
           }
          ],
          "scattermapbox": [
           {
            "marker": {
             "colorbar": {
              "outlinewidth": 0,
              "ticks": ""
             }
            },
            "type": "scattermapbox"
           }
          ],
          "scatterpolar": [
           {
            "marker": {
             "colorbar": {
              "outlinewidth": 0,
              "ticks": ""
             }
            },
            "type": "scatterpolar"
           }
          ],
          "scatterpolargl": [
           {
            "marker": {
             "colorbar": {
              "outlinewidth": 0,
              "ticks": ""
             }
            },
            "type": "scatterpolargl"
           }
          ],
          "scatterternary": [
           {
            "marker": {
             "colorbar": {
              "outlinewidth": 0,
              "ticks": ""
             }
            },
            "type": "scatterternary"
           }
          ],
          "surface": [
           {
            "colorbar": {
             "outlinewidth": 0,
             "ticks": ""
            },
            "colorscale": [
             [
              0,
              "#0d0887"
             ],
             [
              0.1111111111111111,
              "#46039f"
             ],
             [
              0.2222222222222222,
              "#7201a8"
             ],
             [
              0.3333333333333333,
              "#9c179e"
             ],
             [
              0.4444444444444444,
              "#bd3786"
             ],
             [
              0.5555555555555556,
              "#d8576b"
             ],
             [
              0.6666666666666666,
              "#ed7953"
             ],
             [
              0.7777777777777778,
              "#fb9f3a"
             ],
             [
              0.8888888888888888,
              "#fdca26"
             ],
             [
              1,
              "#f0f921"
             ]
            ],
            "type": "surface"
           }
          ],
          "table": [
           {
            "cells": {
             "fill": {
              "color": "#EBF0F8"
             },
             "line": {
              "color": "white"
             }
            },
            "header": {
             "fill": {
              "color": "#C8D4E3"
             },
             "line": {
              "color": "white"
             }
            },
            "type": "table"
           }
          ]
         },
         "layout": {
          "annotationdefaults": {
           "arrowcolor": "#2a3f5f",
           "arrowhead": 0,
           "arrowwidth": 1
          },
          "autotypenumbers": "strict",
          "coloraxis": {
           "colorbar": {
            "outlinewidth": 0,
            "ticks": ""
           }
          },
          "colorscale": {
           "diverging": [
            [
             0,
             "#8e0152"
            ],
            [
             0.1,
             "#c51b7d"
            ],
            [
             0.2,
             "#de77ae"
            ],
            [
             0.3,
             "#f1b6da"
            ],
            [
             0.4,
             "#fde0ef"
            ],
            [
             0.5,
             "#f7f7f7"
            ],
            [
             0.6,
             "#e6f5d0"
            ],
            [
             0.7,
             "#b8e186"
            ],
            [
             0.8,
             "#7fbc41"
            ],
            [
             0.9,
             "#4d9221"
            ],
            [
             1,
             "#276419"
            ]
           ],
           "sequential": [
            [
             0,
             "#0d0887"
            ],
            [
             0.1111111111111111,
             "#46039f"
            ],
            [
             0.2222222222222222,
             "#7201a8"
            ],
            [
             0.3333333333333333,
             "#9c179e"
            ],
            [
             0.4444444444444444,
             "#bd3786"
            ],
            [
             0.5555555555555556,
             "#d8576b"
            ],
            [
             0.6666666666666666,
             "#ed7953"
            ],
            [
             0.7777777777777778,
             "#fb9f3a"
            ],
            [
             0.8888888888888888,
             "#fdca26"
            ],
            [
             1,
             "#f0f921"
            ]
           ],
           "sequentialminus": [
            [
             0,
             "#0d0887"
            ],
            [
             0.1111111111111111,
             "#46039f"
            ],
            [
             0.2222222222222222,
             "#7201a8"
            ],
            [
             0.3333333333333333,
             "#9c179e"
            ],
            [
             0.4444444444444444,
             "#bd3786"
            ],
            [
             0.5555555555555556,
             "#d8576b"
            ],
            [
             0.6666666666666666,
             "#ed7953"
            ],
            [
             0.7777777777777778,
             "#fb9f3a"
            ],
            [
             0.8888888888888888,
             "#fdca26"
            ],
            [
             1,
             "#f0f921"
            ]
           ]
          },
          "colorway": [
           "#636efa",
           "#EF553B",
           "#00cc96",
           "#ab63fa",
           "#FFA15A",
           "#19d3f3",
           "#FF6692",
           "#B6E880",
           "#FF97FF",
           "#FECB52"
          ],
          "font": {
           "color": "#2a3f5f"
          },
          "geo": {
           "bgcolor": "white",
           "lakecolor": "white",
           "landcolor": "#E5ECF6",
           "showlakes": true,
           "showland": true,
           "subunitcolor": "white"
          },
          "hoverlabel": {
           "align": "left"
          },
          "hovermode": "closest",
          "mapbox": {
           "style": "light"
          },
          "paper_bgcolor": "white",
          "plot_bgcolor": "#E5ECF6",
          "polar": {
           "angularaxis": {
            "gridcolor": "white",
            "linecolor": "white",
            "ticks": ""
           },
           "bgcolor": "#E5ECF6",
           "radialaxis": {
            "gridcolor": "white",
            "linecolor": "white",
            "ticks": ""
           }
          },
          "scene": {
           "xaxis": {
            "backgroundcolor": "#E5ECF6",
            "gridcolor": "white",
            "gridwidth": 2,
            "linecolor": "white",
            "showbackground": true,
            "ticks": "",
            "zerolinecolor": "white"
           },
           "yaxis": {
            "backgroundcolor": "#E5ECF6",
            "gridcolor": "white",
            "gridwidth": 2,
            "linecolor": "white",
            "showbackground": true,
            "ticks": "",
            "zerolinecolor": "white"
           },
           "zaxis": {
            "backgroundcolor": "#E5ECF6",
            "gridcolor": "white",
            "gridwidth": 2,
            "linecolor": "white",
            "showbackground": true,
            "ticks": "",
            "zerolinecolor": "white"
           }
          },
          "shapedefaults": {
           "line": {
            "color": "#2a3f5f"
           }
          },
          "ternary": {
           "aaxis": {
            "gridcolor": "white",
            "linecolor": "white",
            "ticks": ""
           },
           "baxis": {
            "gridcolor": "white",
            "linecolor": "white",
            "ticks": ""
           },
           "bgcolor": "#E5ECF6",
           "caxis": {
            "gridcolor": "white",
            "linecolor": "white",
            "ticks": ""
           }
          },
          "title": {
           "x": 0.05
          },
          "xaxis": {
           "automargin": true,
           "gridcolor": "white",
           "linecolor": "white",
           "ticks": "",
           "title": {
            "standoff": 15
           },
           "zerolinecolor": "white",
           "zerolinewidth": 2
          },
          "yaxis": {
           "automargin": true,
           "gridcolor": "white",
           "linecolor": "white",
           "ticks": "",
           "title": {
            "standoff": 15
           },
           "zerolinecolor": "white",
           "zerolinewidth": 2
          }
         }
        },
        "title": {
         "font": {
          "weight": 600
         },
         "text": "OUD Prevalence Post-Medicaid Expansion",
         "x": 0.5,
         "xanchor": "center",
         "y": 0.99,
         "yanchor": "top"
        },
        "width": 1200
       }
      }
     },
     "metadata": {},
     "output_type": "display_data"
    }
   ],
   "source": [
    "# Author: Alex\n",
    "\n",
    "# Annual changes in OUD rates post-expansion\n",
    "supertitle = 'OUD Prevalence Post-Medicaid Expansion'\n",
    "rate_column = 'Scaled Row %'\n",
    "facet_column = 'rpt_yr'\n",
    "plots_per_row = 3\n",
    "post_heatmap = draw_heatmap(expanded_df, rate_column, facet_column, plots_per_row, supertitle)\n",
    "post_heatmap.show()"
   ]
  },
  {
   "cell_type": "markdown",
   "metadata": {},
   "source": [
    "## Conclusion\n",
    "\n",
    "Although we did not have enough data to make a statistically significant conclusion, our analysis suggests that, yes, there is a correlation between OUD and Medicaid expansion, and that Medicaid expansion is associated with faster decline of OUD rates. Our findings suggest that policymakers can reduce the burden of OUD in the US by extending Medicaid expansion to states that have not yet adopted it.\n"
   ]
  }
 ],
 "metadata": {
  "colab": {
   "include_colab_link": true,
   "name": "07_assignment.ipynb",
   "provenance": []
  },
  "kernelspec": {
   "display_name": "Python 3",
   "language": "python",
   "name": "python3"
  },
  "language_info": {
   "codemirror_mode": {
    "name": "ipython",
    "version": 3
   },
   "file_extension": ".py",
   "mimetype": "text/x-python",
   "name": "python",
   "nbconvert_exporter": "python",
   "pygments_lexer": "ipython3",
   "version": "3.9.1"
  }
 },
 "nbformat": 4,
 "nbformat_minor": 4
}
