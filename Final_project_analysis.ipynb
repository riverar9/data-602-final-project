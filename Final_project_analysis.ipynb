{
 "cells": [
  {
   "cell_type": "markdown",
   "metadata": {
    "id": "rd2QZetSDszc"
   },
   "source": [
    "\n",
    "\n",
    "# DATA 602 Final Project\n",
    "\n",
    "### Naomi Buell, Richie Rivera, Alexander Simon\n",
    "\n",
    "## Abstract\n",
    "\n",
    "[Insert abstract here. no more than 300 words.]\n",
    "\n",
    "## Introduction\n",
    "\n",
    "Our research question is: Is there a correlation between pain reliever misuse in US states and whether [states have expanded Medicaid](https://www.kff.org/affordable-care-act/issue-brief/status-of-state-medicaid-expansion-decisions-interactive-map/)? How has Medicaid expansion affected opioid misuse in the US? We plan to investigate the correlation between pain reliever misuse and states that have expanded Medicaid, and whether the rate of opioid misuse decreased after states expanded their Medicaid programs. We picked this topic because, as professionals in public health and biology, we are well aware of the toll that substance use disorders have taken, and the potential that Medicaid expansion under the Affordable Care Act (ACA) has to improve access to treatment for these disorders. \n",
    "\n",
    "We will obtain data on the prevalence of pain reliever misuse in each state from the [National Survey on Drug Use and Health (NSDUH)](https://datatools.samhsa.gov/nsduh/2019/nsduh-2018-2019-rd02yr/crosstab?row=PNRNMYR&column=STUSAB&weight=DASWT_1) from the Substance and Mental Health Services Administration (SAMHSA) and the status of each state’s decision on Medicaid expansion from [KFF](https://www.kff.org/affordable-care-act/issue-brief/status-of-state-medicaid-expansion-decisions-interactive-map/), a health policy organization. We will use the pandas and matplotlib libraries for our data analysis. Below is our exploratory data analysis and some summary statistics.\n",
    "\n",
    "## Data Wrangling \n",
    "\n",
    "[Insert tidying of your data, manipulating missing values, structuring of\n",
    "your data, etc.]\n",
    "\n",
    "Our data are from the SAMHSA [National Survey on Drug Use and Health (NSDUH)](https://datatools.samhsa.gov/) 2-year restricted-use data sets for 2015-2016, 2016-17, 2017-18, 2018-19, and 2021-2022. No data related to our research question were available prior to 2015 (survey question of interest was not being asked yet) or for 2020 (likely due to COVID).\n",
    "\n",
    "On the SAMHSA Data Tools webpage, we created \"crosstabs\" (data subsets) for the following variables and downloaded the CSV files:\n",
    "-  PNRNMYR - During the past 12 months, if they misused prescription pain relievers\n",
    "-  STUSAB - State US abbreviation\n",
    "\n",
    "We also downloaded Medicaid expansion data (CSV) from [KFF](https://www.kff.org/affordable-care-act/issue-brief/status-of-state-medicaid-expansion-decisions-interactive-map/).\n",
    "\n",
    "## Exploratory Data Analysis\n",
    "\n",
    "[Insert EDA - well-labeled graphs/plots that are appropriate to your analysis. Each\n",
    "visualization includes a description of what is being shown.]\n",
    "\n",
    "\n",
    "### NSDUH Opioid Misuse Data\n",
    "\n",
    "Below we import the NSDUH datasets, create dataframes, and explore this data.  "
   ]
  },
  {
   "cell_type": "code",
   "execution_count": null,
   "metadata": {
    "id": "1OJmbafkEhhq"
   },
   "outputs": [],
   "source": [
    "# Import libraries\n",
    "import pandas as pd\n",
    "import os\n",
    "\n",
    "# Set up filepaths\n",
    "file_paths = [\n",
    "    'data/STUSAB X PNRNMYR (2015-16).csv',\n",
    "    'data/STUSAB X PNRNMYR (2016-17).csv',\n",
    "    'data/STUSAB X PNRNMYR (2017-18).csv',\n",
    "    'data/STUSAB X PNRNMYR (2018-19).csv',\n",
    "    'data/STUSAB X PNRNMYR (2021-22).csv',\n",
    "]\n",
    "\n",
    "# Iterate over each path to add the CSV file to a list\n",
    "df_collection = []\n",
    "for path in file_paths:\n",
    "    print(f'Reading in \"{path}\"')\n",
    "\n",
    "    t_df = pd.read_csv(path)\n",
    "\n",
    "    t_df['rpt_yr'] = pd.to_datetime(f'20{path[28:30]}-01-01')\n",
    "\n",
    "    df_collection.append(\n",
    "        t_df\n",
    "    )\n",
    "\n",
    "# Combine the collection of dataframes into one\n",
    "df = pd.concat(df_collection)\n",
    "\n",
    "print(df.head())"
   ]
  },
  {
   "cell_type": "markdown",
   "metadata": {},
   "source": [
    "Below, we print list of columns, length, number of non-missing observations, and data types."
   ]
  },
  {
   "cell_type": "code",
   "execution_count": null,
   "metadata": {},
   "outputs": [],
   "source": [
    "# Info\n",
    "df.info()"
   ]
  },
  {
   "cell_type": "markdown",
   "metadata": {},
   "source": [
    "All 780 observations of the column `Count` are missing, but we can instead use the `Weighted Count` column for our analysis, so this is OK.<sup>[1](#footnote1)</sup> There are up to 260 missing observations in the columns of this dataset, however, our main variables of interest `STATE US ABBREVIATION`, `RC-PAIN RELIEVERS - PAST YEAR MISUSE`, and `Row %` are complete. We may also use `Row % CI (lower)` and `Row % CI (upper)`, which are 67% complete in the full dataset, but (as explored later) are 100% complete after we filter data down to observations of interest.\n",
    "\n",
    "<sup id=\"footnote1\">1</sup> Note that `Row %`s are rounded, so we may opt to calculate prevalence rates ourselves using `Weighted Count` for more precision.\n",
    "\n",
    "Below are the means, medians, and other summary statistics of numeric columns."
   ]
  },
  {
   "cell_type": "code",
   "execution_count": null,
   "metadata": {},
   "outputs": [],
   "source": [
    "# Summary statistics\n",
    "df.describe()"
   ]
  },
  {
   "cell_type": "markdown",
   "metadata": {},
   "source": [
    "Here is a preview of our data after filtering down to just our columns and rows of interest."
   ]
  },
  {
   "cell_type": "code",
   "execution_count": null,
   "metadata": {},
   "outputs": [],
   "source": [
    "# Selecting columns of interest from data\n",
    "df_cols = df[['STATE US ABBREVIATION',\n",
    "'RC-PAIN RELIEVERS - PAST YEAR MISUSE',\n",
    "'Row %',\n",
    "'Row % CI (lower)',\n",
    "'Row % CI (upper)',\n",
    "'Weighted Count',\n",
    "'rpt_yr']]\n",
    "\n",
    "# Subset the rows with states, removing the overall US observations\n",
    "df_states = df_cols[df_cols['STATE US ABBREVIATION'] != \"Overall\"]\n",
    "\n",
    "# Subset the rows where RC-PAIN RELIEVERS - PAST YEAR MISUSE = \"1 - Misused within the past year\" to get prevalence of opioid misuse\n",
    "df_filtered = df_states[df_states['RC-PAIN RELIEVERS - PAST YEAR MISUSE'] == \"1 - Misused within the past year\"]\n",
    "\n",
    "# Preview filtered data\n",
    "df_filtered.head()\n"
   ]
  },
  {
   "cell_type": "markdown",
   "metadata": {},
   "source": [
    "Here are  summary statistics of our numeric variables in this filtered data frame."
   ]
  },
  {
   "cell_type": "code",
   "execution_count": null,
   "metadata": {},
   "outputs": [],
   "source": [
    "# Show missingness of filtered data\n",
    "print(df_filtered.info())\n",
    "\n",
    "# Show summary statistics of filtered data\n",
    "df_filtered.describe()"
   ]
  },
  {
   "cell_type": "code",
   "execution_count": null,
   "metadata": {},
   "outputs": [],
   "source": [
    "df_filtered"
   ]
  },
  {
   "cell_type": "markdown",
   "metadata": {},
   "source": [
    "After filtering data, we have 100% completeness. States have, on average, 3.9% prevalence of opioid misuse in the past 12 months. "
   ]
  },
  {
   "cell_type": "markdown",
   "metadata": {},
   "source": [
    "### KFF State Medicaid Expansion Data\n",
    "\n",
    "Below we import the KFF dataset and explore this data.  "
   ]
  },
  {
   "cell_type": "code",
   "execution_count": null,
   "metadata": {},
   "outputs": [],
   "source": [
    "# Import KFF data\n",
    "path_kff = \"data/raw_data_kff.xlsx\"\n",
    "\n",
    "df_kff = pd.read_excel(path_kff, skiprows=2)\n",
    "\n",
    "df_kff.head()"
   ]
  },
  {
   "cell_type": "markdown",
   "metadata": {},
   "source": [
    "We convert the state names to abbreviations to match NSDUH data."
   ]
  },
  {
   "cell_type": "code",
   "execution_count": null,
   "metadata": {},
   "outputs": [],
   "source": [
    "# Create a dictionary with state names and their abbreviations as key:value pairs\n",
    "us_state_to_abbrev = {\n",
    "    \"Alabama\": \"AL\",\n",
    "    \"Alaska\": \"AK\",\n",
    "    \"Arizona\": \"AZ\",\n",
    "    \"Arkansas\": \"AR\",\n",
    "    \"California\": \"CA\",\n",
    "    \"Colorado\": \"CO\",\n",
    "    \"Connecticut\": \"CT\",\n",
    "    \"Delaware\": \"DE\",\n",
    "    \"Florida\": \"FL\",\n",
    "    \"Georgia\": \"GA\",\n",
    "    \"Hawaii\": \"HI\",\n",
    "    \"Idaho\": \"ID\",\n",
    "    \"Illinois\": \"IL\",\n",
    "    \"Indiana\": \"IN\",\n",
    "    \"Iowa\": \"IA\",\n",
    "    \"Kansas\": \"KS\",\n",
    "    \"Kentucky\": \"KY\",\n",
    "    \"Louisiana\": \"LA\",\n",
    "    \"Maine\": \"ME\",\n",
    "    \"Maryland\": \"MD\",\n",
    "    \"Massachusetts\": \"MA\",\n",
    "    \"Michigan\": \"MI\",\n",
    "    \"Minnesota\": \"MN\",\n",
    "    \"Mississippi\": \"MS\",\n",
    "    \"Missouri\": \"MO\",\n",
    "    \"Montana\": \"MT\",\n",
    "    \"Nebraska\": \"NE\",\n",
    "    \"Nevada\": \"NV\",\n",
    "    \"New Hampshire\": \"NH\",\n",
    "    \"New Jersey\": \"NJ\",\n",
    "    \"New Mexico\": \"NM\",\n",
    "    \"New York\": \"NY\",\n",
    "    \"North Carolina\": \"NC\",\n",
    "    \"North Dakota\": \"ND\",\n",
    "    \"Ohio\": \"OH\",\n",
    "    \"Oklahoma\": \"OK\",\n",
    "    \"Oregon\": \"OR\",\n",
    "    \"Pennsylvania\": \"PA\",\n",
    "    \"Rhode Island\": \"RI\",\n",
    "    \"South Carolina\": \"SC\",\n",
    "    \"South Dakota\": \"SD\",\n",
    "    \"Tennessee\": \"TN\",\n",
    "    \"Texas\": \"TX\",\n",
    "    \"Utah\": \"UT\",\n",
    "    \"Vermont\": \"VT\",\n",
    "    \"Virginia\": \"VA\",\n",
    "    \"Washington\": \"WA\",\n",
    "    \"West Virginia\": \"WV\",\n",
    "    \"Wisconsin\": \"WI\",\n",
    "    \"Wyoming\": \"WY\",\n",
    "    \"District of Columbia\": \"DC\",\n",
    "    \"American Samoa\": \"AS\",  # Delete?\n",
    "    \"Guam\": \"GU\",  # Delete?\n",
    "    \"Northern Mariana Islands\": \"MP\",  # Delete?\n",
    "    \"Puerto Rico\": \"PR\",\n",
    "    \"United States\": \"US\",\n",
    "}\n",
    "\n",
    "# Map the state names in the KFF dataframe to the corresponding abbreviation\n",
    "df_kff['Abbrev'] = df_kff['Location'].map(us_state_to_abbrev)\n",
    "\n",
    "df_kff.head()"
   ]
  },
  {
   "cell_type": "markdown",
   "metadata": {},
   "source": [
    "Below, we print the list of columns, length, number of non-missing observations, and data types."
   ]
  },
  {
   "cell_type": "code",
   "execution_count": null,
   "metadata": {},
   "outputs": [],
   "source": [
    "# Info\n",
    "df_kff.info()"
   ]
  },
  {
   "cell_type": "markdown",
   "metadata": {},
   "source": [
    "We convert the `Implemented Expansion On` variable to a datetime datatype and summarize it below."
   ]
  },
  {
   "cell_type": "code",
   "execution_count": null,
   "metadata": {},
   "outputs": [],
   "source": [
    "# Convert to datetime\n",
    "df_kff['Implemented Expansion On'] = pd.to_datetime(df_kff['Implemented Expansion On'], errors='coerce')\n",
    "\n",
    "# Range of dates\n",
    "df_kff.describe()"
   ]
  },
  {
   "cell_type": "markdown",
   "metadata": {},
   "source": [
    "41 states expanded Medicaid so far (missing dates indicate that a state has not yet adopted Medicaid expansion). Most states who have expanded Medicaid did so on the first day of 2014. The last state to expand Medicaid, North Carolina, did so in December 2023."
   ]
  },
  {
   "cell_type": "markdown",
   "metadata": {},
   "source": [
    "Lastly, we'll combine the KFF and NSDUH data into one dataframe that we will perform our analysis on:"
   ]
  },
  {
   "cell_type": "code",
   "execution_count": null,
   "metadata": {},
   "outputs": [],
   "source": [
    "working_df = df_filtered.merge(\n",
    "    df_kff,\n",
    "    left_on = 'STATE US ABBREVIATION',\n",
    "    right_on = 'Abbrev',\n",
    "    how = 'left'\n",
    ")\n",
    "\n",
    "working_df.head()"
   ]
  },
  {
   "cell_type": "markdown",
   "metadata": {},
   "source": [
    "## Data Analysis\n",
    "\n",
    "Below, we create a binary variable for whether the state OUD observation year occured after Medicaid expansion, called `post`."
   ]
  },
  {
   "cell_type": "code",
   "execution_count": null,
   "metadata": {},
   "outputs": [],
   "source": [
    "working_df['post'] = working_df['rpt_yr'] >= working_df['Implemented Expansion On']\n",
    "\n",
    "working_df.head()"
   ]
  },
  {
   "cell_type": "markdown",
   "metadata": {},
   "source": [
    "The histogram below shows the distribution of OUD prevalence rates in our dataset. We also fit the data to a normal distribution, which is overlaid on the histogram and indicates that the rates are approximately normally distributed."
   ]
  },
  {
   "cell_type": "code",
   "execution_count": null,
   "metadata": {},
   "outputs": [],
   "source": [
    "# This cell contributed by Alex\n",
    "# Create histogram of OUD rates with a normal distribution for comparison\n",
    "import matplotlib as plt\n",
    "import norm\n",
    "\n",
    "# Fit normal distribution to the data\n",
    "mu, std = norm.fit(working_df['Scaled Row %']) \n",
    "\n",
    "# Plot histogram of OUD rates\n",
    "plt.hist(working_df['Scaled Row %'], bins = 30, density = True, \n",
    "         color = 'lightblue', edgecolor = 'darkgray')\n",
    "plt.axvline(working_df['Scaled Row %'].mean(), color = 'red', \n",
    "            linestyle = 'dashed')\n",
    "plt.axvline(working_df['Scaled Row %'].median(), color = 'blue', \n",
    "            linestyle = 'dashed')\n",
    "\n",
    "# Overlay normal distribution\n",
    "xmin, xmax = plt.xlim()\n",
    "x = np.linspace(xmin, xmax, 100)\n",
    "p = norm.pdf(x, mu, std)\n",
    "plt.plot(x, p, 'k')\n",
    "\n",
    "# Labels\n",
    "min_ylim, max_ylim = plt.ylim()\n",
    "plt.text(working_df['Scaled Row %'].mean() * 1.2, max_ylim * 0.9, \n",
    "         'Mean: {:.2f}'.format(working_df['Scaled Row %'].mean()), \n",
    "         color = 'red')\n",
    "plt.text(working_df['Scaled Row %'].mean() * 1.2, max_ylim * 0.85, \n",
    "         'Median: {:.2f}'.format(working_df['Scaled Row %'].median()), \n",
    "         color = 'blue')\n",
    "plt.xlabel('OUD Prevalence (%)')\n",
    "plt.ylabel('Frequency')\n",
    "plt.title('Histogram of OUD Prevalence Rates')\n",
    "\n",
    "# View plot\n",
    "plt.figure(figsize = (10, 6))\n",
    "plt.show()"
   ]
  },
  {
   "cell_type": "markdown",
   "metadata": {},
   "source": [
    "We created heatmaps (technically choropleth maps) of the average rates of opioid misuse during 2016-2019 (ie, pre-COVID) in states pre- and post- Medicaid expansion.\n",
    "\n",
    "Pre-expansion (left plot), Alabama had the highest average rate of misuse (5.0%) and Wyoming had the average lowest rate (3.2%). Post-expansion (right plot), Oregon and Nevada had the highest average rate of misuse (5.4% for both). Maine and Nebraska had the lowest average rate of misuse (3.0% for both)."
   ]
  },
  {
   "cell_type": "code",
   "execution_count": null,
   "metadata": {},
   "outputs": [],
   "source": [
    "# Author: Alex\n",
    "\n",
    "def draw_heatmap(df: pd.DataFrame, rate_column: str, \n",
    "                 facet_column: str, plots_per_row: int, title: str) -> px:\n",
    "  '''\n",
    "  This function takes a dataframe with OUD rates and \n",
    "  returns a choropleth map (ie, geographic heatmap)\n",
    "\n",
    "  Args:\n",
    "    df: Dataframe containing OUD prevalence rates\n",
    "    rate_column: Name of column with OUD rates\n",
    "    facet_column: Name of column with titles for each facet\n",
    "    plots_per_row: Number of facets per row\n",
    "    title: Main plot title\n",
    "  \n",
    "  Returns:\n",
    "    heatmap: Plotly Express object\n",
    "  '''\n",
    "  heatmap = px.choropleth(df,\n",
    "                        locations = 'Abbrev',\n",
    "                        locationmode = \"USA-states\",\n",
    "                        color = rate_column,\n",
    "                        color_continuous_scale = 'rdbu_r',\n",
    "                        labels = {rate_column : '% OUD'},\n",
    "                        hover_name = 'Abbrev',\n",
    "                        scope = 'usa',\n",
    "                        facet_col = facet_column,\n",
    "                        facet_col_wrap = plots_per_row)\n",
    "\n",
    "  # Customize facets\n",
    "  # Remove column name from title\n",
    "  heatmap.for_each_annotation(lambda a: a.update(text = a.text.split(\"=\")[-1]))\n",
    "  # Adjust font size of title\n",
    "  heatmap.update_annotations(font_size = 16)\n",
    "  # Overall layout\n",
    "  heatmap.update_layout(\n",
    "      autosize = False,\n",
    "      width = 1200,\n",
    "      height = 600,\n",
    "      title = {\n",
    "          'text': title,\n",
    "          'y' : 0.99,\n",
    "          'x' : 0.5,\n",
    "          'xanchor': 'center',\n",
    "          'yanchor': 'top'},\n",
    "      title_font_weight = 600)\n",
    "\n",
    "  return heatmap"
   ]
  },
  {
   "cell_type": "markdown",
   "metadata": {},
   "source": [
    "Note that the Plotly Express heatmaps are interactive. You can see information about individual states by hovering over it and zoom/pan each map."
   ]
  },
  {
   "cell_type": "code",
   "execution_count": null,
   "metadata": {},
   "outputs": [],
   "source": [
    "# This cell contributed by Alex\n",
    "\n",
    "# Compare average OUD rates pre vs post expansion\n",
    "supertitle = 'Average OUD Prevalence During 2016-2019'\n",
    "rate_column = 'Avg_2016_2019'\n",
    "facet_column = 'Expansion_status'\n",
    "plots_per_row = 2\n",
    "avg_heatmap = draw_heatmap(all_pivot_df, rate_column, facet_column, plots_per_row, supertitle)\n",
    "avg_heatmap.show()"
   ]
  },
  {
   "cell_type": "markdown",
   "metadata": {},
   "source": [
    "We also created heatmaps for individual years to show the change in OUD prevalence over time pre- and post- expansion.\n",
    "\n",
    "In general, OUD rates decreased from 2016 to 2022 in both pre-expansion states and post-expansion states, suggesting that the decline in OUD rates was not solely due to Medicaid expansion. In addition, a few pre-expansion states (eg, Alabama) and post-expansion states (eg, Nevada) had consistently high OUD rates over time."
   ]
  },
  {
   "cell_type": "code",
   "execution_count": null,
   "metadata": {},
   "outputs": [],
   "source": [
    "# Author: Alex\n",
    "\n",
    "# Annual changes in OUD rates pre-expansion\n",
    "supertitle = 'OUD Prevalence Pre-Medicaid Expansion'\n",
    "rate_column = 'Scaled Row %'\n",
    "facet_column = 'rpt_yr'\n",
    "plots_per_row = 3\n",
    "pre_heatmap = draw_heatmap(not_expanded_df, rate_column, facet_column, plots_per_row, supertitle)\n",
    "pre_heatmap.show()"
   ]
  },
  {
   "cell_type": "code",
   "execution_count": null,
   "metadata": {},
   "outputs": [],
   "source": [
    "# Author: Alex\n",
    "\n",
    "# Annual changes in OUD rates post-expansion\n",
    "supertitle = 'OUD Prevalence Post-Medicaid Expansion'\n",
    "rate_column = 'Scaled Row %'\n",
    "facet_column = 'rpt_yr'\n",
    "plots_per_row = 3\n",
    "post_heatmap = draw_heatmap(expanded_df, rate_column, facet_column, plots_per_row, supertitle)\n",
    "post_heatmap.show()"
   ]
  },
  {
   "cell_type": "markdown",
   "metadata": {},
   "source": [
    "We create two heatmaps of average states' average OUD prevalence rates pre and post."
   ]
  },
  {
   "cell_type": "code",
   "execution_count": null,
   "metadata": {},
   "outputs": [],
   "source": [
    "# Two heatmaps\n"
   ]
  },
  {
   "cell_type": "markdown",
   "metadata": {},
   "source": [
    "We also make a scatter plot of state prevalence pre- and post-expansion."
   ]
  },
  {
   "cell_type": "code",
   "execution_count": null,
   "metadata": {},
   "outputs": [],
   "source": [
    "# Scatter plot\n",
    "\n",
    "import matplotlib.pyplot as plt\n",
    "import seaborn as sns\n",
    "from matplotlib.ticker import PercentFormatter\n",
    "\n",
    "# Manipulate df prior to plotting\n",
    "scatter_df = working_df.dropna(subset=['rpt_yr', 'Row %']) # Filter out rows with NaN values in columns of interest\n",
    "scatter_df['rpt_yr'] = scatter_df['rpt_yr'].dt.year # Pulling just the year integer for graphing\n",
    "scatter_df['Row %'] = scatter_df['Row %'] * 100\n",
    "\n",
    "# Add trend lines\n",
    "sns.regplot(data=scatter_df[scatter_df['post'] == 0], x='rpt_yr', y='Row %', scatter=True, color='orange', label='Pre-expansion')\n",
    "sns.regplot(data=scatter_df[scatter_df['post'] == 1], x='rpt_yr', y='Row %', scatter=True, color='navy', label='Post-expansion')\n",
    "sns.catplot # does jitter\n",
    "\n",
    "# Add labels and title\n",
    "plt.xlabel('Year')\n",
    "plt.ylabel('OUD prevalence')\n",
    "plt.gca().yaxis.set_major_formatter(PercentFormatter())  # Format y-axis as percentage\n",
    "plt.legend()\n",
    "\n",
    "# Show the plot\n",
    "plt.show()"
   ]
  },
  {
   "cell_type": "code",
   "execution_count": null,
   "metadata": {},
   "outputs": [],
   "source": [
    "from sklearn.linear_model import LinearRegression\n",
    "\n",
    "# Create Xs (pre and post) from the year column values. Reshape X\n",
    "X_pre = scatter_df[scatter_df['post'] == 0]['rpt_yr'].values.reshape(-1, 1)\n",
    "X_post = scatter_df[scatter_df['post'] == 1]['rpt_yr'].values.reshape(-1, 1)\n",
    "\n",
    "# Create y (pre and post) from the OUD rate column's values\n",
    "y_pre= scatter_df[scatter_df['post'] == 0]['Row %'].values\n",
    "y_post = scatter_df[scatter_df['post'] == 1]['Row %'].values\n",
    "\n",
    "# Fit the model\n",
    "model_pre = LinearRegression().fit(X_pre, y_pre) \n",
    "model_post = LinearRegression().fit(X_post, y_post) \n",
    "\n",
    "# Calculate R squared values\n",
    "r2_pre = model_pre.score(X_pre, y_pre)\n",
    "r2_post = model_post.score(X_post, y_post)\n",
    "\n",
    "# Print the slopes and R squared values\n",
    "print(f\"Slope for Pre-expansion: {model_pre.coef_[0]}\")\n",
    "print(f\"R squared for Pre-expansion: {r2_pre}\")\n",
    "print(f\"Slope for Post-expansion: {model_post.coef_[0]}\")\n",
    "print(f\"R squared for Post-expansion: {r2_post}\")"
   ]
  },
  {
   "cell_type": "markdown",
   "metadata": {},
   "source": [
    "The slope post-expansion is steeper than that for pre-expansion, suggesting that Medicaid expansion helps to decrease opioid misuse faster! This is a favorable sign for Medicaid expansion.\n",
    "\n",
    "We will also try running a paired t-test to compare the means of pre- and post-expansion rates for the same states to assess whether the change in rates from pre- to post-expansion is significant. We need to verify the following assumptions:\n",
    "- The dependent variable must be continuous interval or ratio. This is satisfied since the dependent variable, the interval or difference in OUD rate for a state pre- and post-expansion, is continuous from 0% to 100%.\n",
    "- The observations are independent of one another. We can assume each states' OUD rate changes are independent from other states'.\n",
    "- The dependent variable should be approximately normally distributed. Since we only have 8 data points of states with both pre and post data, we do **not** have enough data to satisfy this assumption. \n",
    "- The dependent variable should not contain any outliers. Based on our boxplot of the differences below, this assumption is satisfied."
   ]
  },
  {
   "cell_type": "code",
   "execution_count": null,
   "metadata": {},
   "outputs": [],
   "source": [
    "import matplotlib.pyplot as plt\n",
    "import seaborn as sns\n",
    "from scipy.stats import shapiro\n",
    "\n",
    "# Pivot the data to have one row per state with 'pre' and 'post' rates in separate columns\n",
    "paired_df = scatter_df.pivot_table(index='Abbrev', columns='post', values='Row %')\n",
    "paired_df.columns = ['Pre', 'Post']  # Rename columns for clarity\n",
    "paired_df = paired_df.dropna()  # Drop states without both pre- and post-expansion data\n",
    "\n",
    "# Calculate differences for paired t-test\n",
    "paired_df['Difference'] = paired_df['Post'] - paired_df['Pre']\n",
    "\n",
    "# Create boxplot to check for outliers\n",
    "sns.boxplot(x=paired_df['Difference'], color='orange')\n",
    "plt.title('Boxplot of Differences')\n",
    "plt.xlabel('Difference (Post - Pre)')\n",
    "\n",
    "plt.show()\n"
   ]
  },
  {
   "cell_type": "markdown",
   "metadata": {},
   "source": [
    "We proceed with the test despite the small sample size. Note that we can't make a statistically meaningful conclusion given that our assumptions were not all satisfied."
   ]
  },
  {
   "cell_type": "code",
   "execution_count": null,
   "metadata": {},
   "outputs": [],
   "source": [
    "from scipy.stats import ttest_rel\n",
    "\n",
    "# Perform a paired t-test\n",
    "t_stat_paired, p_value_paired = ttest_rel(paired_df['Pre'], paired_df['Post'])\n",
    "\n",
    "# Prepare results for presentation\n",
    "mean_pre = paired_df['Pre'].mean()\n",
    "mean_post = paired_df['Post'].mean()\n",
    "n_states = len(paired_df)\n",
    "\n",
    "# Formatted output\n",
    "print(\"Paired T-Test Results for Pre vs Post Medicaid Expansion OUD Rates\")\n",
    "print(\"-\" * 60)\n",
    "print(f\"States with data: N = {n_states}\")\n",
    "print(f\"Pre-Expansion: Mean = {mean_pre:.2f}%\")\n",
    "print(f\"Post-Expansion: Mean = {mean_post:.2f}%\")\n",
    "print(f\"T-Statistic = {t_stat_paired:.3f}\")\n",
    "print(f\"P-Value = {p_value_paired:.3e}\")\n",
    "\n",
    "# Print interpretation of result based on p-value and alpha = .05:\n",
    "if p_value_paired < 0.05:\n",
    "    print(\"\\nConclusion: The change in OUD rates from pre to post is statistically significant (p < 0.05).\")\n",
    "else:\n",
    "    print(\"\\nConclusion: The change in OUD rates from pre to post is not statistically significant (p ≥ 0.05).\")\n"
   ]
  },
  {
   "cell_type": "markdown",
   "metadata": {},
   "source": [
    "The paired t-test results should be interpretted with caution as its assumptions weren't completely satisfied, but conclude that, for states who expanded Medicaid during our data timeframe, OUD rates did decline after expansion was implemented. "
   ]
  },
  {
   "cell_type": "markdown",
   "metadata": {},
   "source": [
    "# Richie's Plot"
   ]
  },
  {
   "cell_type": "code",
   "execution_count": null,
   "metadata": {},
   "outputs": [],
   "source": [
    "# Create a dataframe that omits states which have expansion before the oldest data(2016)\n",
    "states_filtered = working_df.loc[working_df['Implemented Expansion On'] > '2016-01-01']\n",
    "\n",
    "# Create a dataframe of average \"Row %\" before and after expansion for each state\n",
    "avg_df = states_filtered[\n",
    "    [\n",
    "        'Location',\n",
    "        'post',\n",
    "        'Row %'\n",
    "    ]\n",
    "].groupby(['Location','post']).mean().reset_index().rename(\n",
    "    columns = {\n",
    "        'Row %' : 'opioid-misuse-pct',\n",
    "        'Location' : 'State'\n",
    "    }\n",
    ")\n",
    "\n",
    "avg_df.head()"
   ]
  },
  {
   "cell_type": "code",
   "execution_count": null,
   "metadata": {},
   "outputs": [],
   "source": [
    "import seaborn as sns\n",
    "import matplotlib.pyplot as plt\n",
    "from matplotlib.ticker import PercentFormatter\n",
    "\n",
    "# Set a theme and larger font scale for readability\n",
    "sns.set_theme(style=\"whitegrid\", palette=\"colorblind\")\n",
    "sns.set_context(\"talk\")\n",
    "\n",
    "# Create the figure and axis with a wider aspect ratio\n",
    "fig, ax = plt.subplots(figsize=(14, 6))  # Wider figure size\n",
    "\n",
    "# Create a scatter plot with the pre and post data\n",
    "scatter = sns.scatterplot(\n",
    "    data=avg_df,\n",
    "    x='post',\n",
    "    y='opioid-misuse-pct',\n",
    "    hue='State',\n",
    "    s=100,  # Increase marker size for visibility\n",
    "    edgecolor='black',\n",
    "    alpha=0.8  # Add transparency for a softer look\n",
    ")\n",
    "\n",
    "# Create a line to connect the dots\n",
    "line = sns.lineplot(\n",
    "    data=avg_df,\n",
    "    x='post',\n",
    "    y='opioid-misuse-pct',\n",
    "    hue='State',\n",
    "    estimator=None,\n",
    "    palette='colorblind',\n",
    "    legend=False,\n",
    "    linewidth=1.5  # Thicker lines for better visibility\n",
    ")\n",
    "\n",
    "# Customize axis labels and ticks\n",
    "ax.set(\n",
    "    xlabel=\"\",\n",
    "    ylabel=\"OUD Prevalence\",\n",
    "    xticks=(0, 1),\n",
    "    xticklabels=(\"Pre-Expansion\", \"Post-Expansion\")\n",
    ")\n",
    "ax.yaxis.set_major_formatter(PercentFormatter(1))\n",
    "\n",
    "# Adjust legend position and appearance\n",
    "ax.legend(title=\"State\", fontsize='medium', title_fontsize='large', frameon=True)\n",
    "ax.grid(False)\n",
    "sns.move_legend(scatter, \"upper left\", bbox_to_anchor=(1, 1))\n",
    "\n",
    "# Tight layout to reduce overlap\n",
    "plt.tight_layout()\n",
    "\n",
    "# Display the plot\n",
    "plt.show()\n"
   ]
  },
  {
   "cell_type": "code",
   "execution_count": null,
   "metadata": {},
   "outputs": [],
   "source": [
    "import seaborn as sns\n",
    "import matplotlib.pyplot as plt\n",
    "\n",
    "# Set a theme and larger font scale for better aesthetics\n",
    "sns.set_theme(style=\"whitegrid\", palette=\"deep\")\n",
    "sns.set_context(\"talk\")\n",
    "\n",
    "# Create the figure and axis\n",
    "fig, ax = plt.subplots(figsize=(12, 8))  # Adjust figure size\n",
    "\n",
    "# Create the scatter plot\n",
    "scatter = sns.scatterplot(\n",
    "    data=df_filtered,\n",
    "    x='rpt_yr',\n",
    "    y='Row %',\n",
    "    alpha=0.8,       # Transparency for better overlap visibility\n",
    "    edgecolor='black'\n",
    ")\n",
    "\n",
    "ax.yaxis.set_major_formatter(PercentFormatter(1))\n",
    "\n",
    "# Add titles and labels\n",
    "ax.set_xlabel(\"Year\", fontsize=14)\n",
    "ax.set_ylabel(\"OUD Prevalence\", fontsize=14)\n",
    "ax.set_title(\"Annual OUD Prevalence\")\n",
    "ax.grid(False)\n",
    "\n",
    "# Improve layout\n",
    "plt.tight_layout()\n",
    "\n",
    "# Show the plot\n",
    "plt.show()\n"
   ]
  },
  {
   "cell_type": "code",
   "execution_count": null,
   "metadata": {},
   "outputs": [],
   "source": [
    "df_filtered.describe()"
   ]
  },
  {
   "cell_type": "markdown",
   "metadata": {},
   "source": [
    "## Conclusion\n",
    "\n",
    "[Insert]"
   ]
  }
 ],
 "metadata": {
  "colab": {
   "include_colab_link": true,
   "name": "07_assignment.ipynb",
   "provenance": []
  },
  "kernelspec": {
   "display_name": "Python 3",
   "language": "python",
   "name": "python3"
  },
  "language_info": {
   "codemirror_mode": {
    "name": "ipython",
    "version": 3
   },
   "file_extension": ".py",
   "mimetype": "text/x-python",
   "name": "python",
   "nbconvert_exporter": "python",
   "pygments_lexer": "ipython3",
   "version": "3.12.0"
  }
 },
 "nbformat": 4,
 "nbformat_minor": 4
}
